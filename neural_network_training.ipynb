{
 "cells": [
  {
   "cell_type": "markdown",
   "id": "a09df897",
   "metadata": {},
   "source": [
    "# Hand Gesture Recognition với Neural Network\n",
    "\n",
    "Notebook này hướng dẫn xây dựng và training một neural network model để nhận dạng cử chỉ tay sử dụng hand landmarks từ MediaPipe.\n",
    "\n",
    "## Mục tiêu:\n",
    "- Load và khám phá dataset hand gesture \n",
    "- Tiền xử lý dữ liệu hand landmarks\n",
    "- Xây dựng neural network architecture\n",
    "- Training model với TensorFlow/Keras\n",
    "- Đánh giá hiệu suất model\n",
    "- Convert sang TensorFlow Lite để deploy\n",
    "- Test inference với model đã train"
   ]
  },
  {
   "cell_type": "markdown",
   "id": "6798837d",
   "metadata": {},
   "source": [
    "## 1. Import Required Libraries"
   ]
  },
  {
   "cell_type": "code",
   "execution_count": 1,
   "id": "bbef2dd6",
   "metadata": {},
   "outputs": [
    {
     "name": "stdout",
     "output_type": "stream",
     "text": [
      "TensorFlow version: 2.19.0\n",
      "Pandas version: 2.3.1\n",
      "NumPy version: 1.26.4\n"
     ]
    }
   ],
   "source": [
    "import os\n",
    "import pandas as pd\n",
    "import numpy as np\n",
    "import tensorflow as tf\n",
    "from sklearn.model_selection import train_test_split\n",
    "from sklearn.preprocessing import MinMaxScaler, LabelEncoder\n",
    "from sklearn.metrics import confusion_matrix, classification_report, accuracy_score\n",
    "import matplotlib.pyplot as plt\n",
    "import seaborn as sns\n",
    "import pickle\n",
    "import warnings\n",
    "warnings.filterwarnings('ignore')\n",
    "\n",
    "# Set random seeds for reproducibility\n",
    "RANDOM_SEED = 42\n",
    "np.random.seed(RANDOM_SEED)\n",
    "tf.random.set_seed(RANDOM_SEED)\n",
    "\n",
    "print(\"TensorFlow version:\", tf.__version__)\n",
    "print(\"Pandas version:\", pd.__version__)\n",
    "print(\"NumPy version:\", np.__version__)"
   ]
  },
  {
   "cell_type": "markdown",
   "id": "0806b9e5",
   "metadata": {},
   "source": [
    "## 2. Load và Explore Dataset"
   ]
  },
  {
   "cell_type": "code",
   "execution_count": 2,
   "id": "e454a29e",
   "metadata": {},
   "outputs": [
    {
     "name": "stdout",
     "output_type": "stream",
     "text": [
      "Loading dataset...\n",
      "Dataset shape: (463, 90)\n",
      "Columns: 90\n",
      "\n",
      "First few rows:\n",
      "                timestamp  class_id gesture_name  num_hands hand_0_type  \\\n",
      "0  20250807_161032_401448         2          two          1        Left   \n",
      "1  20250807_161033_963409         2          two          1        Left   \n",
      "2  20250807_161034_845662         2          two          2        Left   \n",
      "3  20250807_161035_492472         2          two          1        Left   \n",
      "4  20250807_161035_995513         2          two          1        Left   \n",
      "\n",
      "   hand_0_landmark_0_x  hand_0_landmark_0_y  hand_0_landmark_1_x  \\\n",
      "0                  141                  418                  189   \n",
      "1                  173                  455                  220   \n",
      "2                  288                  417                  326   \n",
      "3                  375                  464                  433   \n",
      "4                  425                  456                  481   \n",
      "\n",
      "   hand_0_landmark_1_y  hand_0_landmark_2_x  ...  hand_1_landmark_16_x  \\\n",
      "0                  384                  206  ...                   NaN   \n",
      "1                  426                  244  ...                   NaN   \n",
      "2                  414                  359  ...                 325.0   \n",
      "3                  448                  476  ...                   NaN   \n",
      "4                  436                  521  ...                   NaN   \n",
      "\n",
      "   hand_1_landmark_16_y  hand_1_landmark_17_x  hand_1_landmark_17_y  \\\n",
      "0                   NaN                   NaN                   NaN   \n",
      "1                   NaN                   NaN                   NaN   \n",
      "2                 362.0                 226.0                 327.0   \n",
      "3                   NaN                   NaN                   NaN   \n",
      "4                   NaN                   NaN                   NaN   \n",
      "\n",
      "   hand_1_landmark_18_x  hand_1_landmark_18_y  hand_1_landmark_19_x  \\\n",
      "0                   NaN                   NaN                   NaN   \n",
      "1                   NaN                   NaN                   NaN   \n",
      "2                 254.0                 316.0                 283.0   \n",
      "3                   NaN                   NaN                   NaN   \n",
      "4                   NaN                   NaN                   NaN   \n",
      "\n",
      "   hand_1_landmark_19_y  hand_1_landmark_20_x  hand_1_landmark_20_y  \n",
      "0                   NaN                   NaN                   NaN  \n",
      "1                   NaN                   NaN                   NaN  \n",
      "2                 347.0                 300.0                 374.0  \n",
      "3                   NaN                   NaN                   NaN  \n",
      "4                   NaN                   NaN                   NaN  \n",
      "\n",
      "[5 rows x 90 columns]\n",
      "\n",
      "Dataset info:\n",
      "<class 'pandas.core.frame.DataFrame'>\n",
      "RangeIndex: 463 entries, 0 to 462\n",
      "Data columns (total 90 columns):\n",
      " #   Column                Non-Null Count  Dtype  \n",
      "---  ------                --------------  -----  \n",
      " 0   timestamp             463 non-null    object \n",
      " 1   class_id              463 non-null    int64  \n",
      " 2   gesture_name          463 non-null    object \n",
      " 3   num_hands             463 non-null    int64  \n",
      " 4   hand_0_type           463 non-null    object \n",
      " 5   hand_0_landmark_0_x   463 non-null    int64  \n",
      " 6   hand_0_landmark_0_y   463 non-null    int64  \n",
      " 7   hand_0_landmark_1_x   463 non-null    int64  \n",
      " 8   hand_0_landmark_1_y   463 non-null    int64  \n",
      " 9   hand_0_landmark_2_x   463 non-null    int64  \n",
      " 10  hand_0_landmark_2_y   463 non-null    int64  \n",
      " 11  hand_0_landmark_3_x   463 non-null    int64  \n",
      " 12  hand_0_landmark_3_y   463 non-null    int64  \n",
      " 13  hand_0_landmark_4_x   463 non-null    int64  \n",
      " 14  hand_0_landmark_4_y   463 non-null    int64  \n",
      " 15  hand_0_landmark_5_x   463 non-null    int64  \n",
      " 16  hand_0_landmark_5_y   463 non-null    int64  \n",
      " 17  hand_0_landmark_6_x   463 non-null    int64  \n",
      " 18  hand_0_landmark_6_y   463 non-null    int64  \n",
      " 19  hand_0_landmark_7_x   463 non-null    int64  \n",
      " 20  hand_0_landmark_7_y   463 non-null    int64  \n",
      " 21  hand_0_landmark_8_x   463 non-null    int64  \n",
      " 22  hand_0_landmark_8_y   463 non-null    int64  \n",
      " 23  hand_0_landmark_9_x   463 non-null    int64  \n",
      " 24  hand_0_landmark_9_y   463 non-null    int64  \n",
      " 25  hand_0_landmark_10_x  463 non-null    int64  \n",
      " 26  hand_0_landmark_10_y  463 non-null    int64  \n",
      " 27  hand_0_landmark_11_x  463 non-null    int64  \n",
      " 28  hand_0_landmark_11_y  463 non-null    int64  \n",
      " 29  hand_0_landmark_12_x  463 non-null    int64  \n",
      " 30  hand_0_landmark_12_y  463 non-null    int64  \n",
      " 31  hand_0_landmark_13_x  463 non-null    int64  \n",
      " 32  hand_0_landmark_13_y  463 non-null    int64  \n",
      " 33  hand_0_landmark_14_x  463 non-null    int64  \n",
      " 34  hand_0_landmark_14_y  463 non-null    int64  \n",
      " 35  hand_0_landmark_15_x  463 non-null    int64  \n",
      " 36  hand_0_landmark_15_y  463 non-null    int64  \n",
      " 37  hand_0_landmark_16_x  463 non-null    int64  \n",
      " 38  hand_0_landmark_16_y  463 non-null    int64  \n",
      " 39  hand_0_landmark_17_x  463 non-null    int64  \n",
      " 40  hand_0_landmark_17_y  463 non-null    int64  \n",
      " 41  hand_0_landmark_18_x  463 non-null    int64  \n",
      " 42  hand_0_landmark_18_y  463 non-null    int64  \n",
      " 43  hand_0_landmark_19_x  463 non-null    int64  \n",
      " 44  hand_0_landmark_19_y  463 non-null    int64  \n",
      " 45  hand_0_landmark_20_x  463 non-null    int64  \n",
      " 46  hand_0_landmark_20_y  463 non-null    int64  \n",
      " 47  hand_1_type           28 non-null     object \n",
      " 48  hand_1_landmark_0_x   28 non-null     float64\n",
      " 49  hand_1_landmark_0_y   28 non-null     float64\n",
      " 50  hand_1_landmark_1_x   28 non-null     float64\n",
      " 51  hand_1_landmark_1_y   28 non-null     float64\n",
      " 52  hand_1_landmark_2_x   28 non-null     float64\n",
      " 53  hand_1_landmark_2_y   28 non-null     float64\n",
      " 54  hand_1_landmark_3_x   28 non-null     float64\n",
      " 55  hand_1_landmark_3_y   28 non-null     float64\n",
      " 56  hand_1_landmark_4_x   28 non-null     float64\n",
      " 57  hand_1_landmark_4_y   28 non-null     float64\n",
      " 58  hand_1_landmark_5_x   28 non-null     float64\n",
      " 59  hand_1_landmark_5_y   28 non-null     float64\n",
      " 60  hand_1_landmark_6_x   28 non-null     float64\n",
      " 61  hand_1_landmark_6_y   28 non-null     float64\n",
      " 62  hand_1_landmark_7_x   28 non-null     float64\n",
      " 63  hand_1_landmark_7_y   28 non-null     float64\n",
      " 64  hand_1_landmark_8_x   28 non-null     float64\n",
      " 65  hand_1_landmark_8_y   28 non-null     float64\n",
      " 66  hand_1_landmark_9_x   28 non-null     float64\n",
      " 67  hand_1_landmark_9_y   28 non-null     float64\n",
      " 68  hand_1_landmark_10_x  28 non-null     float64\n",
      " 69  hand_1_landmark_10_y  28 non-null     float64\n",
      " 70  hand_1_landmark_11_x  28 non-null     float64\n",
      " 71  hand_1_landmark_11_y  28 non-null     float64\n",
      " 72  hand_1_landmark_12_x  28 non-null     float64\n",
      " 73  hand_1_landmark_12_y  28 non-null     float64\n",
      " 74  hand_1_landmark_13_x  28 non-null     float64\n",
      " 75  hand_1_landmark_13_y  28 non-null     float64\n",
      " 76  hand_1_landmark_14_x  28 non-null     float64\n",
      " 77  hand_1_landmark_14_y  28 non-null     float64\n",
      " 78  hand_1_landmark_15_x  28 non-null     float64\n",
      " 79  hand_1_landmark_15_y  28 non-null     float64\n",
      " 80  hand_1_landmark_16_x  28 non-null     float64\n",
      " 81  hand_1_landmark_16_y  28 non-null     float64\n",
      " 82  hand_1_landmark_17_x  28 non-null     float64\n",
      " 83  hand_1_landmark_17_y  28 non-null     float64\n",
      " 84  hand_1_landmark_18_x  28 non-null     float64\n",
      " 85  hand_1_landmark_18_y  28 non-null     float64\n",
      " 86  hand_1_landmark_19_x  28 non-null     float64\n",
      " 87  hand_1_landmark_19_y  28 non-null     float64\n",
      " 88  hand_1_landmark_20_x  28 non-null     float64\n",
      " 89  hand_1_landmark_20_y  28 non-null     float64\n",
      "dtypes: float64(42), int64(44), object(4)\n",
      "memory usage: 325.7+ KB\n",
      "None\n",
      "\n",
      "Gesture distribution:\n",
      "gesture_name\n",
      "fist     188\n",
      "two      175\n",
      "point    100\n",
      "Name: count, dtype: int64\n",
      "\n",
      "Hand type distribution:\n",
      "hand_0_type\n",
      "Right    242\n",
      "Left     221\n",
      "Name: count, dtype: int64\n",
      "\n",
      "Number of hands distribution:\n",
      "num_hands\n",
      "1    435\n",
      "2     28\n",
      "Name: count, dtype: int64\n"
     ]
    }
   ],
   "source": [
    "# Đường dẫn đến dataset\n",
    "dataset_path = 'dataset/hand_gestures_dataset.csv'\n",
    "\n",
    "# Load dataset\n",
    "print(\"Loading dataset...\")\n",
    "df = pd.read_csv(dataset_path)\n",
    "\n",
    "print(f\"Dataset shape: {df.shape}\")\n",
    "print(f\"Columns: {len(df.columns)}\")\n",
    "print(\"\\nFirst few rows:\")\n",
    "print(df.head())\n",
    "\n",
    "print(\"\\nDataset info:\")\n",
    "print(df.info())\n",
    "\n",
    "print(\"\\nGesture distribution:\")\n",
    "print(df['gesture_name'].value_counts())\n",
    "\n",
    "print(\"\\nHand type distribution:\")\n",
    "print(df['hand_0_type'].value_counts())\n",
    "\n",
    "print(\"\\nNumber of hands distribution:\")\n",
    "print(df['num_hands'].value_counts())"
   ]
  },
  {
   "cell_type": "code",
   "execution_count": 3,
   "id": "5159bb42",
   "metadata": {},
   "outputs": [
    {
     "data": {
      "image/png": "[encoded data removed]",
      "text/plain": [
       "<Figure size 1200x400 with 2 Axes>"
      ]
     },
     "metadata": {},
     "output_type": "display_data"
    },
    {
     "name": "stdout",
     "output_type": "stream",
     "text": [
      "\n",
      "Dataset Summary:\n",
      "Total samples: 463\n",
      "Number of gestures: 3\n",
      "Gesture classes: ['two', 'fist', 'point']\n",
      "Missing values: 18705\n"
     ]
    }
   ],
   "source": [
    "# Visualize gesture distribution\n",
    "plt.figure(figsize=(12, 4))\n",
    "\n",
    "plt.subplot(1, 2, 1)\n",
    "gesture_counts = df['gesture_name'].value_counts()\n",
    "plt.pie(gesture_counts.values, labels=gesture_counts.index, autopct='%1.1f%%')\n",
    "plt.title('Gesture Distribution')\n",
    "\n",
    "plt.subplot(1, 2, 2)\n",
    "plt.bar(gesture_counts.index, gesture_counts.values)\n",
    "plt.title('Gesture Counts')\n",
    "plt.xlabel('Gesture')\n",
    "plt.ylabel('Count')\n",
    "plt.xticks(rotation=45)\n",
    "\n",
    "plt.tight_layout()\n",
    "plt.show()\n",
    "\n",
    "print(f\"\\nDataset Summary:\")\n",
    "print(f\"Total samples: {len(df)}\")\n",
    "print(f\"Number of gestures: {df['gesture_name'].nunique()}\")\n",
    "print(f\"Gesture classes: {list(df['gesture_name'].unique())}\")\n",
    "print(f\"Missing values: {df.isnull().sum().sum()}\")"
   ]
  },
  {
   "cell_type": "markdown",
   "id": "6c670893",
   "metadata": {},
   "source": [
    "## 3. Data Preprocessing\n",
    "\n",
    "Xử lý dữ liệu để chuẩn bị cho việc training model. Chúng ta sẽ:\n",
    "- Lọc ra chỉ các sample có 1 tay (đơn giản hóa)\n",
    "- Extract tọa độ x,y của 21 landmarks\n",
    "- Normalize dữ liệu\n",
    "- Encode labels"
   ]
  },
  {
   "cell_type": "code",
   "execution_count": 4,
   "id": "8ff1b89b",
   "metadata": {},
   "outputs": [
    {
     "name": "stdout",
     "output_type": "stream",
     "text": [
      "Filtered dataset shape: (435, 90)\n",
      "Remaining gestures: gesture_name\n",
      "fist     184\n",
      "two      157\n",
      "point     94\n",
      "Name: count, dtype: int64\n",
      "Extracting hand landmarks...\n",
      "Feature matrix shape: (435, 42)\n",
      "Labels shape: (435,)\n",
      "Feature range - min: -13.00, max: 691.00\n"
     ]
    }
   ],
   "source": [
    "# Filter data - chỉ lấy samples có 1 tay để đơn giản\n",
    "df_filtered = df[df['num_hands'] == 1].copy()\n",
    "print(f\"Filtered dataset shape: {df_filtered.shape}\")\n",
    "print(f\"Remaining gestures: {df_filtered['gesture_name'].value_counts()}\")\n",
    "\n",
    "# Tạo function để extract hand landmarks\n",
    "def extract_hand_landmarks(row):\n",
    "    \"\"\"Extract x,y coordinates of 21 hand landmarks\"\"\"\n",
    "    landmarks = []\n",
    "    \n",
    "    # Extract 21 landmarks (0-20) for hand_0\n",
    "    for i in range(21):\n",
    "        x_col = f'hand_0_landmark_{i}_x'\n",
    "        y_col = f'hand_0_landmark_{i}_y'\n",
    "        \n",
    "        if x_col in row and y_col in row:\n",
    "            landmarks.extend([row[x_col], row[y_col]])\n",
    "        else:\n",
    "            # Fill missing landmarks with 0\n",
    "            landmarks.extend([0.0, 0.0])\n",
    "    \n",
    "    return np.array(landmarks)\n",
    "\n",
    "# Extract features (42 features: 21 landmarks × 2 coordinates)\n",
    "print(\"Extracting hand landmarks...\")\n",
    "X_data = []\n",
    "y_data = []\n",
    "\n",
    "for idx, row in df_filtered.iterrows():\n",
    "    landmarks = extract_hand_landmarks(row)\n",
    "    if len(landmarks) == 42:  # Ensure we have all 21 landmarks\n",
    "        X_data.append(landmarks)\n",
    "        y_data.append(row['gesture_name'])\n",
    "\n",
    "X_data = np.array(X_data)\n",
    "y_data = np.array(y_data)\n",
    "\n",
    "print(f\"Feature matrix shape: {X_data.shape}\")\n",
    "print(f\"Labels shape: {y_data.shape}\")\n",
    "print(f\"Feature range - min: {X_data.min():.2f}, max: {X_data.max():.2f}\")"
   ]
  },
  {
   "cell_type": "markdown",
   "id": "60ad1c0d",
   "metadata": {},
   "source": [
    "## 4. Feature Engineering và Normalization"
   ]
  },
  {
   "cell_type": "code",
   "execution_count": 6,
   "id": "b320881b",
   "metadata": {},
   "outputs": [
    {
     "name": "stdout",
     "output_type": "stream",
     "text": [
      "Normalized feature range - min: 0.00, max: 1.00\n",
      "Original labels: ['fist' 'point' 'two']\n",
      "Encoded labels: [0 1 2]\n",
      "Number of classes: 3\n",
      "Scaler and label encoder saved!\n"
     ]
    },
    {
     "data": {
      "image/png": "[encoded data removed]",
      "text/plain": [
       "<Figure size 1000x400 with 4 Axes>"
      ]
     },
     "metadata": {},
     "output_type": "display_data"
    }
   ],
   "source": [
    "# Normalize features using MinMaxScaler\n",
    "scaler = MinMaxScaler()\n",
    "X_normalized = scaler.fit_transform(X_data)\n",
    "\n",
    "print(f\"Normalized feature range - min: {X_normalized.min():.2f}, max: {X_normalized.max():.2f}\")\n",
    "\n",
    "# Encode labels\n",
    "label_encoder = LabelEncoder()\n",
    "y_encoded = label_encoder.fit_transform(y_data)\n",
    "\n",
    "print(f\"Original labels: {label_encoder.classes_}\")\n",
    "print(f\"Encoded labels: {np.unique(y_encoded)}\")\n",
    "print(f\"Number of classes: {len(label_encoder.classes_)}\")\n",
    "\n",
    "# Save scaler and label encoder for later use\n",
    "os.makedirs('model/neural_network', exist_ok=True)\n",
    "\n",
    "with open('model/neural_network/scaler.pkl', 'wb') as f:\n",
    "    pickle.dump(scaler, f)\n",
    "\n",
    "with open('model/neural_network/label_encoder.pkl', 'wb') as f:\n",
    "    pickle.dump(label_encoder, f)\n",
    "\n",
    "print(\"Scaler and label encoder saved!\")\n",
    "\n",
    "# Visualize a sample of landmarks\n",
    "plt.figure(figsize=(10, 4))\n",
    "\n",
    "# Plot original vs normalized features for first sample\n",
    "sample_idx = 0\n",
    "original_landmarks = X_data[sample_idx].reshape(21, 2)\n",
    "normalized_landmarks = X_normalized[sample_idx].reshape(21, 2)\n",
    "\n",
    "plt.subplot(1, 2, 1)\n",
    "plt.scatter(original_landmarks[:, 0], original_landmarks[:, 1], c=range(21), cmap='viridis')\n",
    "plt.title(f'Original Landmarks - {y_data[sample_idx]}')\n",
    "plt.xlabel('X coordinate')\n",
    "plt.ylabel('Y coordinate')\n",
    "plt.colorbar(label='Landmark ID')\n",
    "\n",
    "plt.subplot(1, 2, 2)\n",
    "plt.scatter(normalized_landmarks[:, 0], normalized_landmarks[:, 1], c=range(21), cmap='viridis')\n",
    "plt.title(f'Normalized Landmarks - {y_data[sample_idx]}')\n",
    "plt.xlabel('Normalized X')\n",
    "plt.ylabel('Normalized Y')\n",
    "plt.colorbar(label='Landmark ID')\n",
    "\n",
    "plt.tight_layout()\n",
    "plt.show()"
   ]
  },
  {
   "cell_type": "markdown",
   "id": "35f5b761",
   "metadata": {},
   "source": [
    "## 5. Train-Test Split"
   ]
  },
  {
   "cell_type": "code",
   "execution_count": 7,
   "id": "df92d7cf",
   "metadata": {},
   "outputs": [
    {
     "name": "stdout",
     "output_type": "stream",
     "text": [
      "Using stratified split\n",
      "Training set shape: (326, 42)\n",
      "Test set shape: (109, 42)\n",
      "Training labels shape: (326,)\n",
      "Test labels shape: (109,)\n",
      "\n",
      "Class distribution in training set:\n",
      "  fist (class 0): 138 samples\n",
      "  point (class 1): 70 samples\n",
      "  two (class 2): 118 samples\n",
      "\n",
      "Class distribution in test set:\n",
      "  fist (class 0): 46 samples\n",
      "  point (class 1): 24 samples\n",
      "  two (class 2): 39 samples\n"
     ]
    }
   ],
   "source": [
    "# Split data into train and test sets\n",
    "try:\n",
    "    # Try stratified split first\n",
    "    X_train, X_test, y_train, y_test = train_test_split(\n",
    "        X_normalized, y_encoded, \n",
    "        test_size=0.25, \n",
    "        random_state=RANDOM_SEED,\n",
    "        stratify=y_encoded\n",
    "    )\n",
    "    print(\"Using stratified split\")\n",
    "except ValueError as e:\n",
    "    print(f\"Stratified split failed: {e}\")\n",
    "    print(\"Using simple random split\")\n",
    "    # Fallback to simple random split\n",
    "    X_train, X_test, y_train, y_test = train_test_split(\n",
    "        X_normalized, y_encoded, \n",
    "        test_size=0.25, \n",
    "        random_state=RANDOM_SEED\n",
    "    )\n",
    "\n",
    "print(f\"Training set shape: {X_train.shape}\")\n",
    "print(f\"Test set shape: {X_test.shape}\")\n",
    "print(f\"Training labels shape: {y_train.shape}\")\n",
    "print(f\"Test labels shape: {y_test.shape}\")\n",
    "\n",
    "# Check class distribution in train and test sets\n",
    "print(\"\\nClass distribution in training set:\")\n",
    "train_unique, train_counts = np.unique(y_train, return_counts=True)\n",
    "for cls, count in zip(train_unique, train_counts):\n",
    "    gesture_name = label_encoder.inverse_transform([cls])[0]\n",
    "    print(f\"  {gesture_name} (class {cls}): {count} samples\")\n",
    "\n",
    "print(\"\\nClass distribution in test set:\")\n",
    "test_unique, test_counts = np.unique(y_test, return_counts=True)\n",
    "for cls, count in zip(test_unique, test_counts):\n",
    "    gesture_name = label_encoder.inverse_transform([cls])[0]\n",
    "    print(f\"  {gesture_name} (class {cls}): {count} samples\")"
   ]
  },
  {
   "cell_type": "markdown",
   "id": "a83012c4",
   "metadata": {},
   "source": [
    "## 6. Model Architecture Setup\n",
    "\n",
    "Tạo neural network architecture dựa trên project mẫu, được điều chỉnh cho dataset của chúng ta."
   ]
  },
  {
   "cell_type": "code",
   "execution_count": 8,
   "id": "5e5fd30a",
   "metadata": {},
   "outputs": [
    {
     "name": "stdout",
     "output_type": "stream",
     "text": [
      "Input size: 42\n",
      "Number of classes: 3\n",
      "Classes: ['fist' 'point' 'two']\n"
     ]
    },
    {
     "data": {
      "text/html": [
       "<pre style=\"white-space:pre;overflow-x:auto;line-height:normal;font-family:Menlo,'DejaVu Sans Mono',consolas,'Courier New',monospace\"><span style=\"font-weight: bold\">Model: \"sequential\"</span>\n",
       "</pre>\n"
      ],
      "text/plain": [
       "\u001b[1mModel: \"sequential\"\u001b[0m\n"
      ]
     },
     "metadata": {},
     "output_type": "display_data"
    },
    {
     "data": {
      "text/html": [
       "<pre style=\"white-space:pre;overflow-x:auto;line-height:normal;font-family:Menlo,'DejaVu Sans Mono',consolas,'Courier New',monospace\">┏━━━━━━━━━━━━━━━━━━━━━━━━━━━━━━━━━┳━━━━━━━━━━━━━━━━━━━━━━━━┳━━━━━━━━━━━━━━━┓\n",
       "┃<span style=\"font-weight: bold\"> Layer (type)                    </span>┃<span style=\"font-weight: bold\"> Output Shape           </span>┃<span style=\"font-weight: bold\">       Param # </span>┃\n",
       "┡━━━━━━━━━━━━━━━━━━━━━━━━━━━━━━━━━╇━━━━━━━━━━━━━━━━━━━━━━━━╇━━━━━━━━━━━━━━━┩\n",
       "│ dropout (<span style=\"color: #0087ff; text-decoration-color: #0087ff\">Dropout</span>)               │ (<span style=\"color: #00d7ff; text-decoration-color: #00d7ff\">None</span>, <span style=\"color: #00af00; text-decoration-color: #00af00\">42</span>)             │             <span style=\"color: #00af00; text-decoration-color: #00af00\">0</span> │\n",
       "├─────────────────────────────────┼────────────────────────┼───────────────┤\n",
       "│ dense (<span style=\"color: #0087ff; text-decoration-color: #0087ff\">Dense</span>)                   │ (<span style=\"color: #00d7ff; text-decoration-color: #00d7ff\">None</span>, <span style=\"color: #00af00; text-decoration-color: #00af00\">20</span>)             │           <span style=\"color: #00af00; text-decoration-color: #00af00\">860</span> │\n",
       "├─────────────────────────────────┼────────────────────────┼───────────────┤\n",
       "│ dropout_1 (<span style=\"color: #0087ff; text-decoration-color: #0087ff\">Dropout</span>)             │ (<span style=\"color: #00d7ff; text-decoration-color: #00d7ff\">None</span>, <span style=\"color: #00af00; text-decoration-color: #00af00\">20</span>)             │             <span style=\"color: #00af00; text-decoration-color: #00af00\">0</span> │\n",
       "├─────────────────────────────────┼────────────────────────┼───────────────┤\n",
       "│ dense_1 (<span style=\"color: #0087ff; text-decoration-color: #0087ff\">Dense</span>)                 │ (<span style=\"color: #00d7ff; text-decoration-color: #00d7ff\">None</span>, <span style=\"color: #00af00; text-decoration-color: #00af00\">10</span>)             │           <span style=\"color: #00af00; text-decoration-color: #00af00\">210</span> │\n",
       "├─────────────────────────────────┼────────────────────────┼───────────────┤\n",
       "│ dense_2 (<span style=\"color: #0087ff; text-decoration-color: #0087ff\">Dense</span>)                 │ (<span style=\"color: #00d7ff; text-decoration-color: #00d7ff\">None</span>, <span style=\"color: #00af00; text-decoration-color: #00af00\">3</span>)              │            <span style=\"color: #00af00; text-decoration-color: #00af00\">33</span> │\n",
       "└─────────────────────────────────┴────────────────────────┴───────────────┘\n",
       "</pre>\n"
      ],
      "text/plain": [
       "┏━━━━━━━━━━━━━━━━━━━━━━━━━━━━━━━━━┳━━━━━━━━━━━━━━━━━━━━━━━━┳━━━━━━━━━━━━━━━┓\n",
       "┃\u001b[1m \u001b[0m\u001b[1mLayer (type)                   \u001b[0m\u001b[1m \u001b[0m┃\u001b[1m \u001b[0m\u001b[1mOutput Shape          \u001b[0m\u001b[1m \u001b[0m┃\u001b[1m \u001b[0m\u001b[1m      Param #\u001b[0m\u001b[1m \u001b[0m┃\n",
       "┡━━━━━━━━━━━━━━━━━━━━━━━━━━━━━━━━━╇━━━━━━━━━━━━━━━━━━━━━━━━╇━━━━━━━━━━━━━━━┩\n",
       "│ dropout (\u001b[38;5;33mDropout\u001b[0m)               │ (\u001b[38;5;45mNone\u001b[0m, \u001b[38;5;34m42\u001b[0m)             │             \u001b[38;5;34m0\u001b[0m │\n",
       "├─────────────────────────────────┼────────────────────────┼───────────────┤\n",
       "│ dense (\u001b[38;5;33mDense\u001b[0m)                   │ (\u001b[38;5;45mNone\u001b[0m, \u001b[38;5;34m20\u001b[0m)             │           \u001b[38;5;34m860\u001b[0m │\n",
       "├─────────────────────────────────┼────────────────────────┼───────────────┤\n",
       "│ dropout_1 (\u001b[38;5;33mDropout\u001b[0m)             │ (\u001b[38;5;45mNone\u001b[0m, \u001b[38;5;34m20\u001b[0m)             │             \u001b[38;5;34m0\u001b[0m │\n",
       "├─────────────────────────────────┼────────────────────────┼───────────────┤\n",
       "│ dense_1 (\u001b[38;5;33mDense\u001b[0m)                 │ (\u001b[38;5;45mNone\u001b[0m, \u001b[38;5;34m10\u001b[0m)             │           \u001b[38;5;34m210\u001b[0m │\n",
       "├─────────────────────────────────┼────────────────────────┼───────────────┤\n",
       "│ dense_2 (\u001b[38;5;33mDense\u001b[0m)                 │ (\u001b[38;5;45mNone\u001b[0m, \u001b[38;5;34m3\u001b[0m)              │            \u001b[38;5;34m33\u001b[0m │\n",
       "└─────────────────────────────────┴────────────────────────┴───────────────┘\n"
      ]
     },
     "metadata": {},
     "output_type": "display_data"
    },
    {
     "data": {
      "text/html": [
       "<pre style=\"white-space:pre;overflow-x:auto;line-height:normal;font-family:Menlo,'DejaVu Sans Mono',consolas,'Courier New',monospace\"><span style=\"font-weight: bold\"> Total params: </span><span style=\"color: #00af00; text-decoration-color: #00af00\">1,103</span> (4.31 KB)\n",
       "</pre>\n"
      ],
      "text/plain": [
       "\u001b[1m Total params: \u001b[0m\u001b[38;5;34m1,103\u001b[0m (4.31 KB)\n"
      ]
     },
     "metadata": {},
     "output_type": "display_data"
    },
    {
     "data": {
      "text/html": [
       "<pre style=\"white-space:pre;overflow-x:auto;line-height:normal;font-family:Menlo,'DejaVu Sans Mono',consolas,'Courier New',monospace\"><span style=\"font-weight: bold\"> Trainable params: </span><span style=\"color: #00af00; text-decoration-color: #00af00\">1,103</span> (4.31 KB)\n",
       "</pre>\n"
      ],
      "text/plain": [
       "\u001b[1m Trainable params: \u001b[0m\u001b[38;5;34m1,103\u001b[0m (4.31 KB)\n"
      ]
     },
     "metadata": {},
     "output_type": "display_data"
    },
    {
     "data": {
      "text/html": [
       "<pre style=\"white-space:pre;overflow-x:auto;line-height:normal;font-family:Menlo,'DejaVu Sans Mono',consolas,'Courier New',monospace\"><span style=\"font-weight: bold\"> Non-trainable params: </span><span style=\"color: #00af00; text-decoration-color: #00af00\">0</span> (0.00 B)\n",
       "</pre>\n"
      ],
      "text/plain": [
       "\u001b[1m Non-trainable params: \u001b[0m\u001b[38;5;34m0\u001b[0m (0.00 B)\n"
      ]
     },
     "metadata": {},
     "output_type": "display_data"
    },
    {
     "name": "stdout",
     "output_type": "stream",
     "text": [
      "You must install pydot (`pip install pydot`) for `plot_model` to work.\n",
      "Model architecture saved as model_architecture.png\n"
     ]
    }
   ],
   "source": [
    "# Define model parameters\n",
    "INPUT_SIZE = 42  # 21 landmarks × 2 coordinates\n",
    "NUM_CLASSES = len(label_encoder.classes_)\n",
    "\n",
    "print(f\"Input size: {INPUT_SIZE}\")\n",
    "print(f\"Number of classes: {NUM_CLASSES}\")\n",
    "print(f\"Classes: {label_encoder.classes_}\")\n",
    "\n",
    "# Build neural network model (based on the sample project)\n",
    "model = tf.keras.models.Sequential([\n",
    "    tf.keras.layers.Input((INPUT_SIZE,)),\n",
    "    tf.keras.layers.Dropout(0.2),\n",
    "    tf.keras.layers.Dense(20, activation='relu'),\n",
    "    tf.keras.layers.Dropout(0.4),\n",
    "    tf.keras.layers.Dense(10, activation='relu'),\n",
    "    tf.keras.layers.Dense(NUM_CLASSES, activation='softmax')\n",
    "])\n",
    "\n",
    "# Display model architecture\n",
    "model.summary()\n",
    "\n",
    "# Visualize model architecture\n",
    "tf.keras.utils.plot_model(\n",
    "    model, \n",
    "    to_file='model/neural_network/model_architecture.png',\n",
    "    show_shapes=True, \n",
    "    show_layer_names=True,\n",
    "    dpi=96\n",
    ")\n",
    "\n",
    "print(\"Model architecture saved as model_architecture.png\")"
   ]
  },
  {
   "cell_type": "markdown",
   "id": "fe6a8871",
   "metadata": {},
   "source": [
    "## 7. Model Training"
   ]
  },
  {
   "cell_type": "code",
   "execution_count": 9,
   "id": "3708da0e",
   "metadata": {},
   "outputs": [
    {
     "name": "stdout",
     "output_type": "stream",
     "text": [
      "Model compiled successfully!\n",
      "Starting training...\n"
     ]
    }
   ],
   "source": [
    "# Define paths for saving model\n",
    "model_save_path = 'model/neural_network/hand_gesture_model.h5'\n",
    "checkpoint_path = 'model/neural_network/checkpoints/hand_gesture_model.h5'\n",
    "\n",
    "# Create directories\n",
    "os.makedirs('model/neural_network/checkpoints', exist_ok=True)\n",
    "\n",
    "# Define callbacks\n",
    "callbacks = [\n",
    "    # Model checkpoint - save best model\n",
    "    tf.keras.callbacks.ModelCheckpoint(\n",
    "        checkpoint_path,\n",
    "        monitor='val_accuracy',\n",
    "        save_best_only=True,\n",
    "        save_weights_only=False,\n",
    "        verbose=1\n",
    "    ),\n",
    "    # Early stopping - stop training if no improvement\n",
    "    tf.keras.callbacks.EarlyStopping(\n",
    "        monitor='val_accuracy',\n",
    "        patience=20,\n",
    "        verbose=1,\n",
    "        restore_best_weights=True\n",
    "    ),\n",
    "    # Reduce learning rate on plateau\n",
    "    tf.keras.callbacks.ReduceLROnPlateau(\n",
    "        monitor='val_loss',\n",
    "        factor=0.5,\n",
    "        patience=10,\n",
    "        verbose=1,\n",
    "        min_lr=1e-7\n",
    "    )\n",
    "]\n",
    "\n",
    "# Compile model\n",
    "model.compile(\n",
    "    optimizer='adam',\n",
    "    loss='sparse_categorical_crossentropy',\n",
    "    metrics=['accuracy']\n",
    ")\n",
    "\n",
    "print(\"Model compiled successfully!\")\n",
    "print(\"Starting training...\")"
   ]
  },
  {
   "cell_type": "code",
   "execution_count": 10,
   "id": "b87d5453",
   "metadata": {},
   "outputs": [
    {
     "name": "stdout",
     "output_type": "stream",
     "text": [
      "Epoch 1/1000\n",
      "\u001b[1m 1/11\u001b[0m \u001b[32m━\u001b[0m\u001b[37m━━━━━━━━━━━━━━━━━━━\u001b[0m \u001b[1m9s\u001b[0m 929ms/step - accuracy: 0.3125 - loss: 1.1131\n",
      "Epoch 1: val_accuracy improved from None to 0.40367, saving model to model/neural_network/checkpoints/hand_gesture_model.h5\n"
     ]
    },
    {
     "name": "stderr",
     "output_type": "stream",
     "text": [
      "WARNING:absl:You are saving your model as an HDF5 file via `model.save()` or `keras.saving.save_model(model)`. This file format is considered legacy. We recommend using instead the native Keras format, e.g. `model.save('my_model.keras')` or `keras.saving.save_model(model, 'my_model.keras')`. \n"
     ]
    },
    {
     "name": "stdout",
     "output_type": "stream",
     "text": [
      "\u001b[1m11/11\u001b[0m \u001b[32m━━━━━━━━━━━━━━━━━━━━\u001b[0m\u001b[37m\u001b[0m \u001b[1m1s\u001b[0m 21ms/step - accuracy: 0.3773 - loss: 1.0934 - val_accuracy: 0.4037 - val_loss: 1.0790 - learning_rate: 0.0010\n",
      "Epoch 2/1000\n",
      "\u001b[1m 1/11\u001b[0m \u001b[32m━\u001b[0m\u001b[37m━━━━━━━━━━━━━━━━━━━\u001b[0m \u001b[1m0s\u001b[0m 30ms/step - accuracy: 0.3750 - loss: 1.1197\n",
      "Epoch 2: val_accuracy improved from 0.40367 to 0.44037, saving model to model/neural_network/checkpoints/hand_gesture_model.h5\n"
     ]
    },
    {
     "name": "stderr",
     "output_type": "stream",
     "text": [
      "WARNING:absl:You are saving your model as an HDF5 file via `model.save()` or `keras.saving.save_model(model)`. This file format is considered legacy. We recommend using instead the native Keras format, e.g. `model.save('my_model.keras')` or `keras.saving.save_model(model, 'my_model.keras')`. \n"
     ]
    },
    {
     "name": "stdout",
     "output_type": "stream",
     "text": [
      "\u001b[1m11/11\u001b[0m \u001b[32m━━━━━━━━━━━━━━━━━━━━\u001b[0m\u001b[37m\u001b[0m \u001b[1m0s\u001b[0m 10ms/step - accuracy: 0.3742 - loss: 1.0853 - val_accuracy: 0.4404 - val_loss: 1.0750 - learning_rate: 0.0010\n",
      "Epoch 3/1000\n",
      "\u001b[1m 1/11\u001b[0m \u001b[32m━\u001b[0m\u001b[37m━━━━━━━━━━━━━━━━━━━\u001b[0m \u001b[1m0s\u001b[0m 24ms/step - accuracy: 0.3438 - loss: 1.1224\n",
      "Epoch 3: val_accuracy improved from 0.44037 to 0.47706, saving model to model/neural_network/checkpoints/hand_gesture_model.h5\n"
     ]
    },
    {
     "name": "stderr",
     "output_type": "stream",
     "text": [
      "WARNING:absl:You are saving your model as an HDF5 file via `model.save()` or `keras.saving.save_model(model)`. This file format is considered legacy. We recommend using instead the native Keras format, e.g. `model.save('my_model.keras')` or `keras.saving.save_model(model, 'my_model.keras')`. \n"
     ]
    },
    {
     "name": "stdout",
     "output_type": "stream",
     "text": [
      "\u001b[1m11/11\u001b[0m \u001b[32m━━━━━━━━━━━━━━━━━━━━\u001b[0m\u001b[37m\u001b[0m \u001b[1m0s\u001b[0m 9ms/step - accuracy: 0.4325 - loss: 1.0835 - val_accuracy: 0.4771 - val_loss: 1.0714 - learning_rate: 0.0010\n",
      "Epoch 4/1000\n",
      "\u001b[1m 1/11\u001b[0m \u001b[32m━\u001b[0m\u001b[37m━━━━━━━━━━━━━━━━━━━\u001b[0m \u001b[1m0s\u001b[0m 25ms/step - accuracy: 0.3125 - loss: 1.1043\n",
      "Epoch 4: val_accuracy improved from 0.47706 to 0.50459, saving model to model/neural_network/checkpoints/hand_gesture_model.h5\n"
     ]
    },
    {
     "name": "stderr",
     "output_type": "stream",
     "text": [
      "WARNING:absl:You are saving your model as an HDF5 file via `model.save()` or `keras.saving.save_model(model)`. This file format is considered legacy. We recommend using instead the native Keras format, e.g. `model.save('my_model.keras')` or `keras.saving.save_model(model, 'my_model.keras')`. \n"
     ]
    },
    {
     "name": "stdout",
     "output_type": "stream",
     "text": [
      "\u001b[1m11/11\u001b[0m \u001b[32m━━━━━━━━━━━━━━━━━━━━\u001b[0m\u001b[37m\u001b[0m \u001b[1m0s\u001b[0m 9ms/step - accuracy: 0.4080 - loss: 1.0816 - val_accuracy: 0.5046 - val_loss: 1.0671 - learning_rate: 0.0010\n",
      "Epoch 5/1000\n",
      "\u001b[1m 1/11\u001b[0m \u001b[32m━\u001b[0m\u001b[37m━━━━━━━━━━━━━━━━━━━\u001b[0m \u001b[1m0s\u001b[0m 26ms/step - accuracy: 0.3125 - loss: 1.0980\n",
      "Epoch 5: val_accuracy improved from 0.50459 to 0.53211, saving model to model/neural_network/checkpoints/hand_gesture_model.h5\n"
     ]
    },
    {
     "name": "stderr",
     "output_type": "stream",
     "text": [
      "WARNING:absl:You are saving your model as an HDF5 file via `model.save()` or `keras.saving.save_model(model)`. This file format is considered legacy. We recommend using instead the native Keras format, e.g. `model.save('my_model.keras')` or `keras.saving.save_model(model, 'my_model.keras')`. \n"
     ]
    },
    {
     "name": "stdout",
     "output_type": "stream",
     "text": [
      "\u001b[1m11/11\u001b[0m \u001b[32m━━━━━━━━━━━━━━━━━━━━\u001b[0m\u001b[37m\u001b[0m \u001b[1m0s\u001b[0m 9ms/step - accuracy: 0.4172 - loss: 1.0655 - val_accuracy: 0.5321 - val_loss: 1.0601 - learning_rate: 0.0010\n",
      "Epoch 6/1000\n",
      "\u001b[1m 1/11\u001b[0m \u001b[32m━\u001b[0m\u001b[37m━━━━━━━━━━━━━━━━━━━\u001b[0m \u001b[1m0s\u001b[0m 25ms/step - accuracy: 0.4062 - loss: 1.0794\n",
      "Epoch 6: val_accuracy did not improve from 0.53211\n",
      "\u001b[1m11/11\u001b[0m \u001b[32m━━━━━━━━━━━━━━━━━━━━\u001b[0m\u001b[37m\u001b[0m \u001b[1m0s\u001b[0m 7ms/step - accuracy: 0.4693 - loss: 1.0617 - val_accuracy: 0.5138 - val_loss: 1.0520 - learning_rate: 0.0010\n",
      "Epoch 7/1000\n",
      "\u001b[1m 1/11\u001b[0m \u001b[32m━\u001b[0m\u001b[37m━━━━━━━━━━━━━━━━━━━\u001b[0m \u001b[1m0s\u001b[0m 24ms/step - accuracy: 0.4375 - loss: 1.1032\n",
      "Epoch 7: val_accuracy did not improve from 0.53211\n",
      "\u001b[1m11/11\u001b[0m \u001b[32m━━━━━━━━━━━━━━━━━━━━\u001b[0m\u001b[37m\u001b[0m \u001b[1m0s\u001b[0m 7ms/step - accuracy: 0.5061 - loss: 1.0425 - val_accuracy: 0.5138 - val_loss: 1.0347 - learning_rate: 0.0010\n",
      "Epoch 8/1000\n",
      "\u001b[1m 1/11\u001b[0m \u001b[32m━\u001b[0m\u001b[37m━━━━━━━━━━━━━━━━━━━\u001b[0m \u001b[1m0s\u001b[0m 23ms/step - accuracy: 0.5000 - loss: 1.0612\n",
      "Epoch 8: val_accuracy improved from 0.53211 to 0.55046, saving model to model/neural_network/checkpoints/hand_gesture_model.h5\n"
     ]
    },
    {
     "name": "stderr",
     "output_type": "stream",
     "text": [
      "WARNING:absl:You are saving your model as an HDF5 file via `model.save()` or `keras.saving.save_model(model)`. This file format is considered legacy. We recommend using instead the native Keras format, e.g. `model.save('my_model.keras')` or `keras.saving.save_model(model, 'my_model.keras')`. \n"
     ]
    },
    {
     "name": "stdout",
     "output_type": "stream",
     "text": [
      "\u001b[1m11/11\u001b[0m \u001b[32m━━━━━━━━━━━━━━━━━━━━\u001b[0m\u001b[37m\u001b[0m \u001b[1m0s\u001b[0m 9ms/step - accuracy: 0.5184 - loss: 1.0348 - val_accuracy: 0.5505 - val_loss: 1.0082 - learning_rate: 0.0010\n",
      "Epoch 9/1000\n",
      "\u001b[1m 1/11\u001b[0m \u001b[32m━\u001b[0m\u001b[37m━━━━━━━━━━━━━━━━━━━\u001b[0m \u001b[1m0s\u001b[0m 25ms/step - accuracy: 0.4688 - loss: 1.0250\n",
      "Epoch 9: val_accuracy improved from 0.55046 to 0.60550, saving model to model/neural_network/checkpoints/hand_gesture_model.h5\n"
     ]
    },
    {
     "name": "stderr",
     "output_type": "stream",
     "text": [
      "WARNING:absl:You are saving your model as an HDF5 file via `model.save()` or `keras.saving.save_model(model)`. This file format is considered legacy. We recommend using instead the native Keras format, e.g. `model.save('my_model.keras')` or `keras.saving.save_model(model, 'my_model.keras')`. \n"
     ]
    },
    {
     "name": "stdout",
     "output_type": "stream",
     "text": [
      "\u001b[1m11/11\u001b[0m \u001b[32m━━━━━━━━━━━━━━━━━━━━\u001b[0m\u001b[37m\u001b[0m \u001b[1m0s\u001b[0m 9ms/step - accuracy: 0.5276 - loss: 1.0106 - val_accuracy: 0.6055 - val_loss: 0.9739 - learning_rate: 0.0010\n",
      "Epoch 10/1000\n",
      "\u001b[1m 1/11\u001b[0m \u001b[32m━\u001b[0m\u001b[37m━━━━━━━━━━━━━━━━━━━\u001b[0m \u001b[1m0s\u001b[0m 25ms/step - accuracy: 0.4688 - loss: 1.0210\n",
      "Epoch 10: val_accuracy did not improve from 0.60550\n",
      "\u001b[1m11/11\u001b[0m \u001b[32m━━━━━━━━━━━━━━━━━━━━\u001b[0m\u001b[37m\u001b[0m \u001b[1m0s\u001b[0m 9ms/step - accuracy: 0.5368 - loss: 0.9922 - val_accuracy: 0.5963 - val_loss: 0.9466 - learning_rate: 0.0010\n",
      "Epoch 11/1000\n",
      "\u001b[1m 1/11\u001b[0m \u001b[32m━\u001b[0m\u001b[37m━━━━━━━━━━━━━━━━━━━\u001b[0m \u001b[1m0s\u001b[0m 24ms/step - accuracy: 0.4688 - loss: 1.0486\n",
      "Epoch 11: val_accuracy did not improve from 0.60550\n",
      "\u001b[1m11/11\u001b[0m \u001b[32m━━━━━━━━━━━━━━━━━━━━\u001b[0m\u001b[37m\u001b[0m \u001b[1m0s\u001b[0m 8ms/step - accuracy: 0.5613 - loss: 0.9758 - val_accuracy: 0.6055 - val_loss: 0.9184 - learning_rate: 0.0010\n",
      "Epoch 12/1000\n",
      "\u001b[1m 1/11\u001b[0m \u001b[32m━\u001b[0m\u001b[37m━━━━━━━━━━━━━━━━━━━\u001b[0m \u001b[1m0s\u001b[0m 25ms/step - accuracy: 0.4375 - loss: 0.9832\n",
      "Epoch 12: val_accuracy did not improve from 0.60550\n",
      "\u001b[1m11/11\u001b[0m \u001b[32m━━━━━━━━━━━━━━━━━━━━\u001b[0m\u001b[37m\u001b[0m \u001b[1m0s\u001b[0m 7ms/step - accuracy: 0.5736 - loss: 0.9474 - val_accuracy: 0.5963 - val_loss: 0.8933 - learning_rate: 0.0010\n",
      "Epoch 13/1000\n",
      "\u001b[1m 1/11\u001b[0m \u001b[32m━\u001b[0m\u001b[37m━━━━━━━━━━━━━━━━━━━\u001b[0m \u001b[1m0s\u001b[0m 25ms/step - accuracy: 0.4688 - loss: 1.0335\n",
      "Epoch 13: val_accuracy did not improve from 0.60550\n",
      "\u001b[1m11/11\u001b[0m \u001b[32m━━━━━━━━━━━━━━━━━━━━\u001b[0m\u001b[37m\u001b[0m \u001b[1m0s\u001b[0m 7ms/step - accuracy: 0.5521 - loss: 0.9585 - val_accuracy: 0.5780 - val_loss: 0.8808 - learning_rate: 0.0010\n",
      "Epoch 14/1000\n",
      "\u001b[1m 1/11\u001b[0m \u001b[32m━\u001b[0m\u001b[37m━━━━━━━━━━━━━━━━━━━\u001b[0m \u001b[1m0s\u001b[0m 25ms/step - accuracy: 0.4375 - loss: 1.0452\n",
      "Epoch 14: val_accuracy improved from 0.60550 to 0.66055, saving model to model/neural_network/checkpoints/hand_gesture_model.h5\n"
     ]
    },
    {
     "name": "stderr",
     "output_type": "stream",
     "text": [
      "WARNING:absl:You are saving your model as an HDF5 file via `model.save()` or `keras.saving.save_model(model)`. This file format is considered legacy. We recommend using instead the native Keras format, e.g. `model.save('my_model.keras')` or `keras.saving.save_model(model, 'my_model.keras')`. \n"
     ]
    },
    {
     "name": "stdout",
     "output_type": "stream",
     "text": [
      "\u001b[1m11/11\u001b[0m \u001b[32m━━━━━━━━━━━━━━━━━━━━\u001b[0m\u001b[37m\u001b[0m \u001b[1m0s\u001b[0m 9ms/step - accuracy: 0.6043 - loss: 0.9220 - val_accuracy: 0.6606 - val_loss: 0.8550 - learning_rate: 0.0010\n",
      "Epoch 15/1000\n",
      "\u001b[1m 1/11\u001b[0m \u001b[32m━\u001b[0m\u001b[37m━━━━━━━━━━━━━━━━━━━\u001b[0m \u001b[1m0s\u001b[0m 24ms/step - accuracy: 0.5625 - loss: 0.9635\n",
      "Epoch 15: val_accuracy improved from 0.66055 to 0.67890, saving model to model/neural_network/checkpoints/hand_gesture_model.h5\n"
     ]
    },
    {
     "name": "stderr",
     "output_type": "stream",
     "text": [
      "WARNING:absl:You are saving your model as an HDF5 file via `model.save()` or `keras.saving.save_model(model)`. This file format is considered legacy. We recommend using instead the native Keras format, e.g. `model.save('my_model.keras')` or `keras.saving.save_model(model, 'my_model.keras')`. \n"
     ]
    },
    {
     "name": "stdout",
     "output_type": "stream",
     "text": [
      "\u001b[1m11/11\u001b[0m \u001b[32m━━━━━━━━━━━━━━━━━━━━\u001b[0m\u001b[37m\u001b[0m \u001b[1m0s\u001b[0m 9ms/step - accuracy: 0.6135 - loss: 0.9012 - val_accuracy: 0.6789 - val_loss: 0.8315 - learning_rate: 0.0010\n",
      "Epoch 16/1000\n",
      "\u001b[1m 1/11\u001b[0m \u001b[32m━\u001b[0m\u001b[37m━━━━━━━━━━━━━━━━━━━\u001b[0m \u001b[1m0s\u001b[0m 25ms/step - accuracy: 0.5000 - loss: 1.0760\n",
      "Epoch 16: val_accuracy improved from 0.67890 to 0.70642, saving model to model/neural_network/checkpoints/hand_gesture_model.h5\n"
     ]
    },
    {
     "name": "stderr",
     "output_type": "stream",
     "text": [
      "WARNING:absl:You are saving your model as an HDF5 file via `model.save()` or `keras.saving.save_model(model)`. This file format is considered legacy. We recommend using instead the native Keras format, e.g. `model.save('my_model.keras')` or `keras.saving.save_model(model, 'my_model.keras')`. \n"
     ]
    },
    {
     "name": "stdout",
     "output_type": "stream",
     "text": [
      "\u001b[1m11/11\u001b[0m \u001b[32m━━━━━━━━━━━━━━━━━━━━\u001b[0m\u001b[37m\u001b[0m \u001b[1m0s\u001b[0m 9ms/step - accuracy: 0.6104 - loss: 0.9226 - val_accuracy: 0.7064 - val_loss: 0.8111 - learning_rate: 0.0010\n",
      "Epoch 17/1000\n",
      "\u001b[1m 1/11\u001b[0m \u001b[32m━\u001b[0m\u001b[37m━━━━━━━━━━━━━━━━━━━\u001b[0m \u001b[1m0s\u001b[0m 25ms/step - accuracy: 0.5625 - loss: 0.9711\n",
      "Epoch 17: val_accuracy improved from 0.70642 to 0.71560, saving model to model/neural_network/checkpoints/hand_gesture_model.h5\n"
     ]
    },
    {
     "name": "stderr",
     "output_type": "stream",
     "text": [
      "WARNING:absl:You are saving your model as an HDF5 file via `model.save()` or `keras.saving.save_model(model)`. This file format is considered legacy. We recommend using instead the native Keras format, e.g. `model.save('my_model.keras')` or `keras.saving.save_model(model, 'my_model.keras')`. \n"
     ]
    },
    {
     "name": "stdout",
     "output_type": "stream",
     "text": [
      "\u001b[1m11/11\u001b[0m \u001b[32m━━━━━━━━━━━━━━━━━━━━\u001b[0m\u001b[37m\u001b[0m \u001b[1m0s\u001b[0m 9ms/step - accuracy: 0.6012 - loss: 0.9225 - val_accuracy: 0.7156 - val_loss: 0.7961 - learning_rate: 0.0010\n",
      "Epoch 18/1000\n",
      "\u001b[1m 1/11\u001b[0m \u001b[32m━\u001b[0m\u001b[37m━━━━━━━━━━━━━━━━━━━\u001b[0m \u001b[1m0s\u001b[0m 25ms/step - accuracy: 0.5312 - loss: 1.0096\n",
      "Epoch 18: val_accuracy improved from 0.71560 to 0.72477, saving model to model/neural_network/checkpoints/hand_gesture_model.h5\n"
     ]
    },
    {
     "name": "stderr",
     "output_type": "stream",
     "text": [
      "WARNING:absl:You are saving your model as an HDF5 file via `model.save()` or `keras.saving.save_model(model)`. This file format is considered legacy. We recommend using instead the native Keras format, e.g. `model.save('my_model.keras')` or `keras.saving.save_model(model, 'my_model.keras')`. \n"
     ]
    },
    {
     "name": "stdout",
     "output_type": "stream",
     "text": [
      "\u001b[1m11/11\u001b[0m \u001b[32m━━━━━━━━━━━━━━━━━━━━\u001b[0m\u001b[37m\u001b[0m \u001b[1m0s\u001b[0m 9ms/step - accuracy: 0.6074 - loss: 0.8956 - val_accuracy: 0.7248 - val_loss: 0.7782 - learning_rate: 0.0010\n",
      "Epoch 19/1000\n",
      "\u001b[1m 1/11\u001b[0m \u001b[32m━\u001b[0m\u001b[37m━━━━━━━━━━━━━━━━━━━\u001b[0m \u001b[1m0s\u001b[0m 24ms/step - accuracy: 0.6562 - loss: 0.8970\n",
      "Epoch 19: val_accuracy improved from 0.72477 to 0.73394, saving model to model/neural_network/checkpoints/hand_gesture_model.h5\n"
     ]
    },
    {
     "name": "stderr",
     "output_type": "stream",
     "text": [
      "WARNING:absl:You are saving your model as an HDF5 file via `model.save()` or `keras.saving.save_model(model)`. This file format is considered legacy. We recommend using instead the native Keras format, e.g. `model.save('my_model.keras')` or `keras.saving.save_model(model, 'my_model.keras')`. \n"
     ]
    },
    {
     "name": "stdout",
     "output_type": "stream",
     "text": [
      "\u001b[1m11/11\u001b[0m \u001b[32m━━━━━━━━━━━━━━━━━━━━\u001b[0m\u001b[37m\u001b[0m \u001b[1m0s\u001b[0m 9ms/step - accuracy: 0.6104 - loss: 0.8811 - val_accuracy: 0.7339 - val_loss: 0.7614 - learning_rate: 0.0010\n",
      "Epoch 20/1000\n",
      "\u001b[1m 1/11\u001b[0m \u001b[32m━\u001b[0m\u001b[37m━━━━━━━━━━━━━━━━━━━\u001b[0m \u001b[1m0s\u001b[0m 26ms/step - accuracy: 0.5625 - loss: 0.8925\n",
      "Epoch 20: val_accuracy improved from 0.73394 to 0.74312, saving model to model/neural_network/checkpoints/hand_gesture_model.h5\n"
     ]
    },
    {
     "name": "stderr",
     "output_type": "stream",
     "text": [
      "WARNING:absl:You are saving your model as an HDF5 file via `model.save()` or `keras.saving.save_model(model)`. This file format is considered legacy. We recommend using instead the native Keras format, e.g. `model.save('my_model.keras')` or `keras.saving.save_model(model, 'my_model.keras')`. \n"
     ]
    },
    {
     "name": "stdout",
     "output_type": "stream",
     "text": [
      "\u001b[1m11/11\u001b[0m \u001b[32m━━━━━━━━━━━━━━━━━━━━\u001b[0m\u001b[37m\u001b[0m \u001b[1m0s\u001b[0m 9ms/step - accuracy: 0.6534 - loss: 0.8659 - val_accuracy: 0.7431 - val_loss: 0.7418 - learning_rate: 0.0010\n",
      "Epoch 21/1000\n",
      "\u001b[1m 1/11\u001b[0m \u001b[32m━\u001b[0m\u001b[37m━━━━━━━━━━━━━━━━━━━\u001b[0m \u001b[1m0s\u001b[0m 24ms/step - accuracy: 0.5312 - loss: 1.0027\n",
      "Epoch 21: val_accuracy improved from 0.74312 to 0.75229, saving model to model/neural_network/checkpoints/hand_gesture_model.h5\n"
     ]
    },
    {
     "name": "stderr",
     "output_type": "stream",
     "text": [
      "WARNING:absl:You are saving your model as an HDF5 file via `model.save()` or `keras.saving.save_model(model)`. This file format is considered legacy. We recommend using instead the native Keras format, e.g. `model.save('my_model.keras')` or `keras.saving.save_model(model, 'my_model.keras')`. \n"
     ]
    },
    {
     "name": "stdout",
     "output_type": "stream",
     "text": [
      "\u001b[1m11/11\u001b[0m \u001b[32m━━━━━━━━━━━━━━━━━━━━\u001b[0m\u001b[37m\u001b[0m \u001b[1m0s\u001b[0m 9ms/step - accuracy: 0.6196 - loss: 0.8757 - val_accuracy: 0.7523 - val_loss: 0.7198 - learning_rate: 0.0010\n",
      "Epoch 22/1000\n",
      "\u001b[1m 1/11\u001b[0m \u001b[32m━\u001b[0m\u001b[37m━━━━━━━━━━━━━━━━━━━\u001b[0m \u001b[1m0s\u001b[0m 39ms/step - accuracy: 0.5938 - loss: 0.9520\n",
      "Epoch 22: val_accuracy improved from 0.75229 to 0.76147, saving model to model/neural_network/checkpoints/hand_gesture_model.h5\n"
     ]
    },
    {
     "name": "stderr",
     "output_type": "stream",
     "text": [
      "WARNING:absl:You are saving your model as an HDF5 file via `model.save()` or `keras.saving.save_model(model)`. This file format is considered legacy. We recommend using instead the native Keras format, e.g. `model.save('my_model.keras')` or `keras.saving.save_model(model, 'my_model.keras')`. \n"
     ]
    },
    {
     "name": "stdout",
     "output_type": "stream",
     "text": [
      "\u001b[1m11/11\u001b[0m \u001b[32m━━━━━━━━━━━━━━━━━━━━\u001b[0m\u001b[37m\u001b[0m \u001b[1m0s\u001b[0m 10ms/step - accuracy: 0.6350 - loss: 0.8598 - val_accuracy: 0.7615 - val_loss: 0.6947 - learning_rate: 0.0010\n",
      "Epoch 23/1000\n",
      "\u001b[1m 1/11\u001b[0m \u001b[32m━\u001b[0m\u001b[37m━━━━━━━━━━━━━━━━━━━\u001b[0m \u001b[1m0s\u001b[0m 25ms/step - accuracy: 0.6250 - loss: 0.8222\n",
      "Epoch 23: val_accuracy did not improve from 0.76147\n",
      "\u001b[1m11/11\u001b[0m \u001b[32m━━━━━━━━━━━━━━━━━━━━\u001b[0m\u001b[37m\u001b[0m \u001b[1m0s\u001b[0m 7ms/step - accuracy: 0.6350 - loss: 0.8446 - val_accuracy: 0.7615 - val_loss: 0.6821 - learning_rate: 0.0010\n",
      "Epoch 24/1000\n",
      "\u001b[1m 1/11\u001b[0m \u001b[32m━\u001b[0m\u001b[37m━━━━━━━━━━━━━━━━━━━\u001b[0m \u001b[1m0s\u001b[0m 26ms/step - accuracy: 0.5000 - loss: 1.0203\n",
      "Epoch 24: val_accuracy did not improve from 0.76147\n",
      "\u001b[1m11/11\u001b[0m \u001b[32m━━━━━━━━━━━━━━━━━━━━\u001b[0m\u001b[37m\u001b[0m \u001b[1m0s\u001b[0m 7ms/step - accuracy: 0.6748 - loss: 0.8174 - val_accuracy: 0.7615 - val_loss: 0.6668 - learning_rate: 0.0010\n",
      "Epoch 25/1000\n",
      "\u001b[1m 1/11\u001b[0m \u001b[32m━\u001b[0m\u001b[37m━━━━━━━━━━━━━━━━━━━\u001b[0m \u001b[1m0s\u001b[0m 23ms/step - accuracy: 0.5938 - loss: 0.9742\n",
      "Epoch 25: val_accuracy did not improve from 0.76147\n",
      "\u001b[1m11/11\u001b[0m \u001b[32m━━━━━━━━━━━━━━━━━━━━\u001b[0m\u001b[37m\u001b[0m \u001b[1m0s\u001b[0m 7ms/step - accuracy: 0.7025 - loss: 0.7836 - val_accuracy: 0.7615 - val_loss: 0.6452 - learning_rate: 0.0010\n",
      "Epoch 26/1000\n",
      "\u001b[1m 1/11\u001b[0m \u001b[32m━\u001b[0m\u001b[37m━━━━━━━━━━━━━━━━━━━\u001b[0m \u001b[1m0s\u001b[0m 24ms/step - accuracy: 0.5938 - loss: 0.8668\n",
      "Epoch 26: val_accuracy did not improve from 0.76147\n",
      "\u001b[1m11/11\u001b[0m \u001b[32m━━━━━━━━━━━━━━━━━━━━\u001b[0m\u001b[37m\u001b[0m \u001b[1m0s\u001b[0m 7ms/step - accuracy: 0.6534 - loss: 0.8121 - val_accuracy: 0.7615 - val_loss: 0.6311 - learning_rate: 0.0010\n",
      "Epoch 27/1000\n",
      "\u001b[1m 1/11\u001b[0m \u001b[32m━\u001b[0m\u001b[37m━━━━━━━━━━━━━━━━━━━\u001b[0m \u001b[1m0s\u001b[0m 25ms/step - accuracy: 0.4688 - loss: 1.0758\n",
      "Epoch 27: val_accuracy did not improve from 0.76147\n",
      "\u001b[1m11/11\u001b[0m \u001b[32m━━━━━━━━━━━━━━━━━━━━\u001b[0m\u001b[37m\u001b[0m \u001b[1m0s\u001b[0m 7ms/step - accuracy: 0.6718 - loss: 0.7857 - val_accuracy: 0.7615 - val_loss: 0.6140 - learning_rate: 0.0010\n",
      "Epoch 28/1000\n",
      "\u001b[1m 1/11\u001b[0m \u001b[32m━\u001b[0m\u001b[37m━━━━━━━━━━━━━━━━━━━\u001b[0m \u001b[1m0s\u001b[0m 25ms/step - accuracy: 0.6250 - loss: 0.8736\n",
      "Epoch 28: val_accuracy did not improve from 0.76147\n",
      "\u001b[1m11/11\u001b[0m \u001b[32m━━━━━━━━━━━━━━━━━━━━\u001b[0m\u001b[37m\u001b[0m \u001b[1m0s\u001b[0m 7ms/step - accuracy: 0.6779 - loss: 0.7576 - val_accuracy: 0.7615 - val_loss: 0.5994 - learning_rate: 0.0010\n",
      "Epoch 29/1000\n",
      "\u001b[1m 1/11\u001b[0m \u001b[32m━\u001b[0m\u001b[37m━━━━━━━━━━━━━━━━━━━\u001b[0m \u001b[1m0s\u001b[0m 24ms/step - accuracy: 0.5312 - loss: 0.9583\n",
      "Epoch 29: val_accuracy did not improve from 0.76147\n",
      "\u001b[1m11/11\u001b[0m \u001b[32m━━━━━━━━━━━━━━━━━━━━\u001b[0m\u001b[37m\u001b[0m \u001b[1m0s\u001b[0m 7ms/step - accuracy: 0.6933 - loss: 0.7593 - val_accuracy: 0.7615 - val_loss: 0.5810 - learning_rate: 0.0010\n",
      "Epoch 30/1000\n",
      "\u001b[1m 1/11\u001b[0m \u001b[32m━\u001b[0m\u001b[37m━━━━━━━━━━━━━━━━━━━\u001b[0m \u001b[1m0s\u001b[0m 24ms/step - accuracy: 0.5312 - loss: 1.0345\n",
      "Epoch 30: val_accuracy improved from 0.76147 to 0.77064, saving model to model/neural_network/checkpoints/hand_gesture_model.h5\n"
     ]
    },
    {
     "name": "stderr",
     "output_type": "stream",
     "text": [
      "WARNING:absl:You are saving your model as an HDF5 file via `model.save()` or `keras.saving.save_model(model)`. This file format is considered legacy. We recommend using instead the native Keras format, e.g. `model.save('my_model.keras')` or `keras.saving.save_model(model, 'my_model.keras')`. \n"
     ]
    },
    {
     "name": "stdout",
     "output_type": "stream",
     "text": [
      "\u001b[1m11/11\u001b[0m \u001b[32m━━━━━━━━━━━━━━━━━━━━\u001b[0m\u001b[37m\u001b[0m \u001b[1m0s\u001b[0m 9ms/step - accuracy: 0.7055 - loss: 0.7509 - val_accuracy: 0.7706 - val_loss: 0.5693 - learning_rate: 0.0010\n",
      "Epoch 31/1000\n",
      "\u001b[1m 1/11\u001b[0m \u001b[32m━\u001b[0m\u001b[37m━━━━━━━━━━━━━━━━━━━\u001b[0m \u001b[1m0s\u001b[0m 27ms/step - accuracy: 0.5625 - loss: 0.9185\n",
      "Epoch 31: val_accuracy did not improve from 0.77064\n",
      "\u001b[1m11/11\u001b[0m \u001b[32m━━━━━━━━━━━━━━━━━━━━\u001b[0m\u001b[37m\u001b[0m \u001b[1m0s\u001b[0m 7ms/step - accuracy: 0.7117 - loss: 0.7544 - val_accuracy: 0.7615 - val_loss: 0.5628 - learning_rate: 0.0010\n",
      "Epoch 32/1000\n",
      "\u001b[1m 1/11\u001b[0m \u001b[32m━\u001b[0m\u001b[37m━━━━━━━━━━━━━━━━━━━\u001b[0m \u001b[1m0s\u001b[0m 26ms/step - accuracy: 0.6875 - loss: 0.7729\n",
      "Epoch 32: val_accuracy did not improve from 0.77064\n",
      "\u001b[1m11/11\u001b[0m \u001b[32m━━━━━━━━━━━━━━━━━━━━\u001b[0m\u001b[37m\u001b[0m \u001b[1m0s\u001b[0m 7ms/step - accuracy: 0.7209 - loss: 0.7100 - val_accuracy: 0.7706 - val_loss: 0.5557 - learning_rate: 0.0010\n",
      "Epoch 33/1000\n",
      "\u001b[1m 1/11\u001b[0m \u001b[32m━\u001b[0m\u001b[37m━━━━━━━━━━━━━━━━━━━\u001b[0m \u001b[1m0s\u001b[0m 24ms/step - accuracy: 0.6250 - loss: 0.8057\n",
      "Epoch 33: val_accuracy did not improve from 0.77064\n",
      "\u001b[1m11/11\u001b[0m \u001b[32m━━━━━━━━━━━━━━━━━━━━\u001b[0m\u001b[37m\u001b[0m \u001b[1m0s\u001b[0m 7ms/step - accuracy: 0.6933 - loss: 0.7740 - val_accuracy: 0.7706 - val_loss: 0.5301 - learning_rate: 0.0010\n",
      "Epoch 34/1000\n",
      "\u001b[1m 1/11\u001b[0m \u001b[32m━\u001b[0m\u001b[37m━━━━━━━━━━━━━━━━━━━\u001b[0m \u001b[1m0s\u001b[0m 24ms/step - accuracy: 0.5938 - loss: 0.6940\n",
      "Epoch 34: val_accuracy improved from 0.77064 to 0.79817, saving model to model/neural_network/checkpoints/hand_gesture_model.h5\n"
     ]
    },
    {
     "name": "stderr",
     "output_type": "stream",
     "text": [
      "WARNING:absl:You are saving your model as an HDF5 file via `model.save()` or `keras.saving.save_model(model)`. This file format is considered legacy. We recommend using instead the native Keras format, e.g. `model.save('my_model.keras')` or `keras.saving.save_model(model, 'my_model.keras')`. \n"
     ]
    },
    {
     "name": "stdout",
     "output_type": "stream",
     "text": [
      "\u001b[1m11/11\u001b[0m \u001b[32m━━━━━━━━━━━━━━━━━━━━\u001b[0m\u001b[37m\u001b[0m \u001b[1m0s\u001b[0m 9ms/step - accuracy: 0.6779 - loss: 0.7350 - val_accuracy: 0.7982 - val_loss: 0.5276 - learning_rate: 0.0010\n",
      "Epoch 35/1000\n",
      "\u001b[1m 1/11\u001b[0m \u001b[32m━\u001b[0m\u001b[37m━━━━━━━━━━━━━━━━━━━\u001b[0m \u001b[1m0s\u001b[0m 29ms/step - accuracy: 0.7188 - loss: 0.8463\n",
      "Epoch 35: val_accuracy did not improve from 0.79817\n",
      "\u001b[1m11/11\u001b[0m \u001b[32m━━━━━━━━━━━━━━━━━━━━\u001b[0m\u001b[37m\u001b[0m \u001b[1m0s\u001b[0m 7ms/step - accuracy: 0.7209 - loss: 0.7042 - val_accuracy: 0.7982 - val_loss: 0.5243 - learning_rate: 0.0010\n",
      "Epoch 36/1000\n",
      "\u001b[1m 1/11\u001b[0m \u001b[32m━\u001b[0m\u001b[37m━━━━━━━━━━━━━━━━━━━\u001b[0m \u001b[1m0s\u001b[0m 23ms/step - accuracy: 0.7500 - loss: 0.9412\n",
      "Epoch 36: val_accuracy did not improve from 0.79817\n",
      "\u001b[1m11/11\u001b[0m \u001b[32m━━━━━━━━━━━━━━━━━━━━\u001b[0m\u001b[37m\u001b[0m \u001b[1m0s\u001b[0m 7ms/step - accuracy: 0.7086 - loss: 0.7391 - val_accuracy: 0.7982 - val_loss: 0.5084 - learning_rate: 0.0010\n",
      "Epoch 37/1000\n",
      "\u001b[1m 1/11\u001b[0m \u001b[32m━\u001b[0m\u001b[37m━━━━━━━━━━━━━━━━━━━\u001b[0m \u001b[1m0s\u001b[0m 24ms/step - accuracy: 0.7188 - loss: 0.6572\n",
      "Epoch 37: val_accuracy improved from 0.79817 to 0.80734, saving model to model/neural_network/checkpoints/hand_gesture_model.h5\n"
     ]
    },
    {
     "name": "stderr",
     "output_type": "stream",
     "text": [
      "WARNING:absl:You are saving your model as an HDF5 file via `model.save()` or `keras.saving.save_model(model)`. This file format is considered legacy. We recommend using instead the native Keras format, e.g. `model.save('my_model.keras')` or `keras.saving.save_model(model, 'my_model.keras')`. \n"
     ]
    },
    {
     "name": "stdout",
     "output_type": "stream",
     "text": [
      "\u001b[1m11/11\u001b[0m \u001b[32m━━━━━━━━━━━━━━━━━━━━\u001b[0m\u001b[37m\u001b[0m \u001b[1m0s\u001b[0m 9ms/step - accuracy: 0.6963 - loss: 0.7114 - val_accuracy: 0.8073 - val_loss: 0.4998 - learning_rate: 0.0010\n",
      "Epoch 38/1000\n",
      "\u001b[1m 1/11\u001b[0m \u001b[32m━\u001b[0m\u001b[37m━━━━━━━━━━━━━━━━━━━\u001b[0m \u001b[1m0s\u001b[0m 26ms/step - accuracy: 0.5938 - loss: 0.8640\n",
      "Epoch 38: val_accuracy did not improve from 0.80734\n",
      "\u001b[1m11/11\u001b[0m \u001b[32m━━━━━━━━━━━━━━━━━━━━\u001b[0m\u001b[37m\u001b[0m \u001b[1m0s\u001b[0m 7ms/step - accuracy: 0.6718 - loss: 0.7565 - val_accuracy: 0.8073 - val_loss: 0.4904 - learning_rate: 0.0010\n",
      "Epoch 39/1000\n",
      "\u001b[1m 1/11\u001b[0m \u001b[32m━\u001b[0m\u001b[37m━━━━━━━━━━━━━━━━━━━\u001b[0m \u001b[1m0s\u001b[0m 24ms/step - accuracy: 0.6250 - loss: 0.7151\n",
      "Epoch 39: val_accuracy improved from 0.80734 to 0.82569, saving model to model/neural_network/checkpoints/hand_gesture_model.h5\n"
     ]
    },
    {
     "name": "stderr",
     "output_type": "stream",
     "text": [
      "WARNING:absl:You are saving your model as an HDF5 file via `model.save()` or `keras.saving.save_model(model)`. This file format is considered legacy. We recommend using instead the native Keras format, e.g. `model.save('my_model.keras')` or `keras.saving.save_model(model, 'my_model.keras')`. \n"
     ]
    },
    {
     "name": "stdout",
     "output_type": "stream",
     "text": [
      "\u001b[1m11/11\u001b[0m \u001b[32m━━━━━━━━━━━━━━━━━━━━\u001b[0m\u001b[37m\u001b[0m \u001b[1m0s\u001b[0m 9ms/step - accuracy: 0.6810 - loss: 0.7365 - val_accuracy: 0.8257 - val_loss: 0.4879 - learning_rate: 0.0010\n",
      "Epoch 40/1000\n",
      "\u001b[1m 1/11\u001b[0m \u001b[32m━\u001b[0m\u001b[37m━━━━━━━━━━━━━━━━━━━\u001b[0m \u001b[1m0s\u001b[0m 27ms/step - accuracy: 0.5312 - loss: 0.8357\n",
      "Epoch 40: val_accuracy improved from 0.82569 to 0.83486, saving model to model/neural_network/checkpoints/hand_gesture_model.h5\n"
     ]
    },
    {
     "name": "stderr",
     "output_type": "stream",
     "text": [
      "WARNING:absl:You are saving your model as an HDF5 file via `model.save()` or `keras.saving.save_model(model)`. This file format is considered legacy. We recommend using instead the native Keras format, e.g. `model.save('my_model.keras')` or `keras.saving.save_model(model, 'my_model.keras')`. \n"
     ]
    },
    {
     "name": "stdout",
     "output_type": "stream",
     "text": [
      "\u001b[1m11/11\u001b[0m \u001b[32m━━━━━━━━━━━━━━━━━━━━\u001b[0m\u001b[37m\u001b[0m \u001b[1m0s\u001b[0m 9ms/step - accuracy: 0.6994 - loss: 0.7073 - val_accuracy: 0.8349 - val_loss: 0.4859 - learning_rate: 0.0010\n",
      "Epoch 41/1000\n",
      "\u001b[1m 1/11\u001b[0m \u001b[32m━\u001b[0m\u001b[37m━━━━━━━━━━━━━━━━━━━\u001b[0m \u001b[1m0s\u001b[0m 30ms/step - accuracy: 0.7812 - loss: 0.6109\n",
      "Epoch 41: val_accuracy did not improve from 0.83486\n",
      "\u001b[1m11/11\u001b[0m \u001b[32m━━━━━━━━━━━━━━━━━━━━\u001b[0m\u001b[37m\u001b[0m \u001b[1m0s\u001b[0m 9ms/step - accuracy: 0.6963 - loss: 0.6646 - val_accuracy: 0.8165 - val_loss: 0.4691 - learning_rate: 0.0010\n",
      "Epoch 42/1000\n",
      "\u001b[1m 1/11\u001b[0m \u001b[32m━\u001b[0m\u001b[37m━━━━━━━━━━━━━━━━━━━\u001b[0m \u001b[1m0s\u001b[0m 24ms/step - accuracy: 0.7500 - loss: 0.7492\n",
      "Epoch 42: val_accuracy improved from 0.83486 to 0.86239, saving model to model/neural_network/checkpoints/hand_gesture_model.h5\n"
     ]
    },
    {
     "name": "stderr",
     "output_type": "stream",
     "text": [
      "WARNING:absl:You are saving your model as an HDF5 file via `model.save()` or `keras.saving.save_model(model)`. This file format is considered legacy. We recommend using instead the native Keras format, e.g. `model.save('my_model.keras')` or `keras.saving.save_model(model, 'my_model.keras')`. \n"
     ]
    },
    {
     "name": "stdout",
     "output_type": "stream",
     "text": [
      "\u001b[1m11/11\u001b[0m \u001b[32m━━━━━━━━━━━━━━━━━━━━\u001b[0m\u001b[37m\u001b[0m \u001b[1m0s\u001b[0m 10ms/step - accuracy: 0.7301 - loss: 0.6946 - val_accuracy: 0.8624 - val_loss: 0.4555 - learning_rate: 0.0010\n",
      "Epoch 43/1000\n",
      "\u001b[1m 1/11\u001b[0m \u001b[32m━\u001b[0m\u001b[37m━━━━━━━━━━━━━━━━━━━\u001b[0m \u001b[1m0s\u001b[0m 26ms/step - accuracy: 0.6250 - loss: 0.8086\n",
      "Epoch 43: val_accuracy did not improve from 0.86239\n",
      "\u001b[1m11/11\u001b[0m \u001b[32m━━━━━━━━━━━━━━━━━━━━\u001b[0m\u001b[37m\u001b[0m \u001b[1m0s\u001b[0m 7ms/step - accuracy: 0.7178 - loss: 0.6968 - val_accuracy: 0.8624 - val_loss: 0.4609 - learning_rate: 0.0010\n",
      "Epoch 44/1000\n",
      "\u001b[1m 1/11\u001b[0m \u001b[32m━\u001b[0m\u001b[37m━━━━━━━━━━━━━━━━━━━\u001b[0m \u001b[1m0s\u001b[0m 25ms/step - accuracy: 0.8438 - loss: 0.5260\n",
      "Epoch 44: val_accuracy did not improve from 0.86239\n",
      "\u001b[1m11/11\u001b[0m \u001b[32m━━━━━━━━━━━━━━━━━━━━\u001b[0m\u001b[37m\u001b[0m \u001b[1m0s\u001b[0m 7ms/step - accuracy: 0.7209 - loss: 0.6637 - val_accuracy: 0.8349 - val_loss: 0.4597 - learning_rate: 0.0010\n",
      "Epoch 45/1000\n",
      "\u001b[1m 1/11\u001b[0m \u001b[32m━\u001b[0m\u001b[37m━━━━━━━━━━━━━━━━━━━\u001b[0m \u001b[1m0s\u001b[0m 26ms/step - accuracy: 0.6562 - loss: 0.8252\n",
      "Epoch 45: val_accuracy did not improve from 0.86239\n",
      "\u001b[1m11/11\u001b[0m \u001b[32m━━━━━━━━━━━━━━━━━━━━\u001b[0m\u001b[37m\u001b[0m \u001b[1m0s\u001b[0m 7ms/step - accuracy: 0.7147 - loss: 0.6866 - val_accuracy: 0.8440 - val_loss: 0.4474 - learning_rate: 0.0010\n",
      "Epoch 46/1000\n",
      "\u001b[1m 1/11\u001b[0m \u001b[32m━\u001b[0m\u001b[37m━━━━━━━━━━━━━━━━━━━\u001b[0m \u001b[1m0s\u001b[0m 26ms/step - accuracy: 0.6250 - loss: 0.7935\n",
      "Epoch 46: val_accuracy did not improve from 0.86239\n",
      "\u001b[1m11/11\u001b[0m \u001b[32m━━━━━━━━━━━━━━━━━━━━\u001b[0m\u001b[37m\u001b[0m \u001b[1m0s\u001b[0m 7ms/step - accuracy: 0.7086 - loss: 0.6758 - val_accuracy: 0.8257 - val_loss: 0.4381 - learning_rate: 0.0010\n",
      "Epoch 47/1000\n",
      "\u001b[1m 1/11\u001b[0m \u001b[32m━\u001b[0m\u001b[37m━━━━━━━━━━━━━━━━━━━\u001b[0m \u001b[1m0s\u001b[0m 24ms/step - accuracy: 0.6250 - loss: 0.7972\n",
      "Epoch 47: val_accuracy did not improve from 0.86239\n",
      "\u001b[1m11/11\u001b[0m \u001b[32m━━━━━━━━━━━━━━━━━━━━\u001b[0m\u001b[37m\u001b[0m \u001b[1m0s\u001b[0m 7ms/step - accuracy: 0.7485 - loss: 0.6618 - val_accuracy: 0.8165 - val_loss: 0.4296 - learning_rate: 0.0010\n",
      "Epoch 48/1000\n",
      "\u001b[1m 1/11\u001b[0m \u001b[32m━\u001b[0m\u001b[37m━━━━━━━━━━━━━━━━━━━\u001b[0m \u001b[1m0s\u001b[0m 26ms/step - accuracy: 0.7188 - loss: 0.6476\n",
      "Epoch 48: val_accuracy did not improve from 0.86239\n",
      "\u001b[1m11/11\u001b[0m \u001b[32m━━━━━━━━━━━━━━━━━━━━\u001b[0m\u001b[37m\u001b[0m \u001b[1m0s\u001b[0m 7ms/step - accuracy: 0.7025 - loss: 0.7091 - val_accuracy: 0.7982 - val_loss: 0.4264 - learning_rate: 0.0010\n",
      "Epoch 49/1000\n",
      "\u001b[1m 1/11\u001b[0m \u001b[32m━\u001b[0m\u001b[37m━━━━━━━━━━━━━━━━━━━\u001b[0m \u001b[1m0s\u001b[0m 24ms/step - accuracy: 0.6875 - loss: 0.7797\n",
      "Epoch 49: val_accuracy did not improve from 0.86239\n",
      "\u001b[1m11/11\u001b[0m \u001b[32m━━━━━━━━━━━━━━━━━━━━\u001b[0m\u001b[37m\u001b[0m \u001b[1m0s\u001b[0m 7ms/step - accuracy: 0.7209 - loss: 0.6824 - val_accuracy: 0.8073 - val_loss: 0.4298 - learning_rate: 0.0010\n",
      "Epoch 50/1000\n",
      "\u001b[1m 1/11\u001b[0m \u001b[32m━\u001b[0m\u001b[37m━━━━━━━━━━━━━━━━━━━\u001b[0m \u001b[1m0s\u001b[0m 23ms/step - accuracy: 0.6562 - loss: 0.6710\n",
      "Epoch 50: val_accuracy did not improve from 0.86239\n",
      "\u001b[1m11/11\u001b[0m \u001b[32m━━━━━━━━━━━━━━━━━━━━\u001b[0m\u001b[37m\u001b[0m \u001b[1m0s\u001b[0m 8ms/step - accuracy: 0.7301 - loss: 0.6453 - val_accuracy: 0.8073 - val_loss: 0.4268 - learning_rate: 0.0010\n",
      "Epoch 51/1000\n",
      "\u001b[1m 1/11\u001b[0m \u001b[32m━\u001b[0m\u001b[37m━━━━━━━━━━━━━━━━━━━\u001b[0m \u001b[1m0s\u001b[0m 25ms/step - accuracy: 0.5625 - loss: 0.8358\n",
      "Epoch 51: val_accuracy did not improve from 0.86239\n",
      "\u001b[1m11/11\u001b[0m \u001b[32m━━━━━━━━━━━━━━━━━━━━\u001b[0m\u001b[37m\u001b[0m \u001b[1m0s\u001b[0m 7ms/step - accuracy: 0.7393 - loss: 0.6709 - val_accuracy: 0.8257 - val_loss: 0.4200 - learning_rate: 0.0010\n",
      "Epoch 52/1000\n",
      "\u001b[1m 1/11\u001b[0m \u001b[32m━\u001b[0m\u001b[37m━━━━━━━━━━━━━━━━━━━\u001b[0m \u001b[1m0s\u001b[0m 24ms/step - accuracy: 0.7188 - loss: 0.6457\n",
      "Epoch 52: val_accuracy did not improve from 0.86239\n",
      "\u001b[1m11/11\u001b[0m \u001b[32m━━━━━━━━━━━━━━━━━━━━\u001b[0m\u001b[37m\u001b[0m \u001b[1m0s\u001b[0m 7ms/step - accuracy: 0.7423 - loss: 0.6774 - val_accuracy: 0.8624 - val_loss: 0.4144 - learning_rate: 0.0010\n",
      "Epoch 53/1000\n",
      "\u001b[1m 1/11\u001b[0m \u001b[32m━\u001b[0m\u001b[37m━━━━━━━━━━━━━━━━━━━\u001b[0m \u001b[1m0s\u001b[0m 24ms/step - accuracy: 0.6875 - loss: 0.7318\n",
      "Epoch 53: val_accuracy improved from 0.86239 to 0.88073, saving model to model/neural_network/checkpoints/hand_gesture_model.h5\n"
     ]
    },
    {
     "name": "stderr",
     "output_type": "stream",
     "text": [
      "WARNING:absl:You are saving your model as an HDF5 file via `model.save()` or `keras.saving.save_model(model)`. This file format is considered legacy. We recommend using instead the native Keras format, e.g. `model.save('my_model.keras')` or `keras.saving.save_model(model, 'my_model.keras')`. \n"
     ]
    },
    {
     "name": "stdout",
     "output_type": "stream",
     "text": [
      "\u001b[1m11/11\u001b[0m \u001b[32m━━━━━━━━━━━━━━━━━━━━\u001b[0m\u001b[37m\u001b[0m \u001b[1m0s\u001b[0m 10ms/step - accuracy: 0.7301 - loss: 0.6720 - val_accuracy: 0.8807 - val_loss: 0.4165 - learning_rate: 0.0010\n",
      "Epoch 54/1000\n",
      "\u001b[1m 1/11\u001b[0m \u001b[32m━\u001b[0m\u001b[37m━━━━━━━━━━━━━━━━━━━\u001b[0m \u001b[1m0s\u001b[0m 25ms/step - accuracy: 0.8125 - loss: 0.6793\n",
      "Epoch 54: val_accuracy did not improve from 0.88073\n",
      "\u001b[1m11/11\u001b[0m \u001b[32m━━━━━━━━━━━━━━━━━━━━\u001b[0m\u001b[37m\u001b[0m \u001b[1m0s\u001b[0m 8ms/step - accuracy: 0.7423 - loss: 0.6757 - val_accuracy: 0.8807 - val_loss: 0.4149 - learning_rate: 0.0010\n",
      "Epoch 55/1000\n",
      "\u001b[1m 1/11\u001b[0m \u001b[32m━\u001b[0m\u001b[37m━━━━━━━━━━━━━━━━━━━\u001b[0m \u001b[1m0s\u001b[0m 28ms/step - accuracy: 0.5938 - loss: 0.8105\n",
      "Epoch 55: val_accuracy did not improve from 0.88073\n",
      "\u001b[1m11/11\u001b[0m \u001b[32m━━━━━━━━━━━━━━━━━━━━\u001b[0m\u001b[37m\u001b[0m \u001b[1m0s\u001b[0m 8ms/step - accuracy: 0.7485 - loss: 0.6060 - val_accuracy: 0.8440 - val_loss: 0.4022 - learning_rate: 0.0010\n",
      "Epoch 56/1000\n",
      "\u001b[1m 1/11\u001b[0m \u001b[32m━\u001b[0m\u001b[37m━━━━━━━━━━━━━━━━━━━\u001b[0m \u001b[1m0s\u001b[0m 25ms/step - accuracy: 0.8438 - loss: 0.5681\n",
      "Epoch 56: val_accuracy did not improve from 0.88073\n",
      "\u001b[1m11/11\u001b[0m \u001b[32m━━━━━━━━━━━━━━━━━━━━\u001b[0m\u001b[37m\u001b[0m \u001b[1m0s\u001b[0m 7ms/step - accuracy: 0.7761 - loss: 0.5829 - val_accuracy: 0.8624 - val_loss: 0.3885 - learning_rate: 0.0010\n",
      "Epoch 57/1000\n",
      "\u001b[1m 1/11\u001b[0m \u001b[32m━\u001b[0m\u001b[37m━━━━━━━━━━━━━━━━━━━\u001b[0m \u001b[1m0s\u001b[0m 24ms/step - accuracy: 0.5938 - loss: 0.8316\n",
      "Epoch 57: val_accuracy improved from 0.88073 to 0.89908, saving model to model/neural_network/checkpoints/hand_gesture_model.h5\n"
     ]
    },
    {
     "name": "stderr",
     "output_type": "stream",
     "text": [
      "WARNING:absl:You are saving your model as an HDF5 file via `model.save()` or `keras.saving.save_model(model)`. This file format is considered legacy. We recommend using instead the native Keras format, e.g. `model.save('my_model.keras')` or `keras.saving.save_model(model, 'my_model.keras')`. \n"
     ]
    },
    {
     "name": "stdout",
     "output_type": "stream",
     "text": [
      "\u001b[1m11/11\u001b[0m \u001b[32m━━━━━━━━━━━━━━━━━━━━\u001b[0m\u001b[37m\u001b[0m \u001b[1m0s\u001b[0m 9ms/step - accuracy: 0.7117 - loss: 0.6897 - val_accuracy: 0.8991 - val_loss: 0.3926 - learning_rate: 0.0010\n",
      "Epoch 58/1000\n",
      "\u001b[1m 1/11\u001b[0m \u001b[32m━\u001b[0m\u001b[37m━━━━━━━━━━━━━━━━━━━\u001b[0m \u001b[1m0s\u001b[0m 24ms/step - accuracy: 0.7812 - loss: 0.5600\n",
      "Epoch 58: val_accuracy did not improve from 0.89908\n",
      "\u001b[1m11/11\u001b[0m \u001b[32m━━━━━━━━━━━━━━━━━━━━\u001b[0m\u001b[37m\u001b[0m \u001b[1m0s\u001b[0m 7ms/step - accuracy: 0.7485 - loss: 0.6246 - val_accuracy: 0.8716 - val_loss: 0.3749 - learning_rate: 0.0010\n",
      "Epoch 59/1000\n",
      "\u001b[1m 1/11\u001b[0m \u001b[32m━\u001b[0m\u001b[37m━━━━━━━━━━━━━━━━━━━\u001b[0m \u001b[1m0s\u001b[0m 24ms/step - accuracy: 0.6562 - loss: 0.7867\n",
      "Epoch 59: val_accuracy did not improve from 0.89908\n",
      "\u001b[1m11/11\u001b[0m \u001b[32m━━━━━━━━━━━━━━━━━━━━\u001b[0m\u001b[37m\u001b[0m \u001b[1m0s\u001b[0m 7ms/step - accuracy: 0.7423 - loss: 0.5975 - val_accuracy: 0.8532 - val_loss: 0.3697 - learning_rate: 0.0010\n",
      "Epoch 60/1000\n",
      "\u001b[1m 1/11\u001b[0m \u001b[32m━\u001b[0m\u001b[37m━━━━━━━━━━━━━━━━━━━\u001b[0m \u001b[1m0s\u001b[0m 28ms/step - accuracy: 0.6875 - loss: 0.7177\n",
      "Epoch 60: val_accuracy did not improve from 0.89908\n",
      "\u001b[1m11/11\u001b[0m \u001b[32m━━━━━━━━━━━━━━━━━━━━\u001b[0m\u001b[37m\u001b[0m \u001b[1m0s\u001b[0m 7ms/step - accuracy: 0.7638 - loss: 0.5950 - val_accuracy: 0.8716 - val_loss: 0.3637 - learning_rate: 0.0010\n",
      "Epoch 61/1000\n",
      "\u001b[1m 1/11\u001b[0m \u001b[32m━\u001b[0m\u001b[37m━━━━━━━━━━━━━━━━━━━\u001b[0m \u001b[1m0s\u001b[0m 23ms/step - accuracy: 0.6562 - loss: 0.7015\n",
      "Epoch 61: val_accuracy improved from 0.89908 to 0.91743, saving model to model/neural_network/checkpoints/hand_gesture_model.h5\n"
     ]
    },
    {
     "name": "stderr",
     "output_type": "stream",
     "text": [
      "WARNING:absl:You are saving your model as an HDF5 file via `model.save()` or `keras.saving.save_model(model)`. This file format is considered legacy. We recommend using instead the native Keras format, e.g. `model.save('my_model.keras')` or `keras.saving.save_model(model, 'my_model.keras')`. \n"
     ]
    },
    {
     "name": "stdout",
     "output_type": "stream",
     "text": [
      "\u001b[1m11/11\u001b[0m \u001b[32m━━━━━━━━━━━━━━━━━━━━\u001b[0m\u001b[37m\u001b[0m \u001b[1m0s\u001b[0m 9ms/step - accuracy: 0.7515 - loss: 0.6013 - val_accuracy: 0.9174 - val_loss: 0.3593 - learning_rate: 0.0010\n",
      "Epoch 62/1000\n",
      "\u001b[1m 1/11\u001b[0m \u001b[32m━\u001b[0m\u001b[37m━━━━━━━━━━━━━━━━━━━\u001b[0m \u001b[1m0s\u001b[0m 28ms/step - accuracy: 0.8125 - loss: 0.5505\n",
      "Epoch 62: val_accuracy did not improve from 0.91743\n",
      "\u001b[1m11/11\u001b[0m \u001b[32m━━━━━━━━━━━━━━━━━━━━\u001b[0m\u001b[37m\u001b[0m \u001b[1m0s\u001b[0m 7ms/step - accuracy: 0.7914 - loss: 0.5820 - val_accuracy: 0.8991 - val_loss: 0.3581 - learning_rate: 0.0010\n",
      "Epoch 63/1000\n",
      "\u001b[1m 1/11\u001b[0m \u001b[32m━\u001b[0m\u001b[37m━━━━━━━━━━━━━━━━━━━\u001b[0m \u001b[1m0s\u001b[0m 24ms/step - accuracy: 0.7500 - loss: 0.6200\n",
      "Epoch 63: val_accuracy did not improve from 0.91743\n",
      "\u001b[1m11/11\u001b[0m \u001b[32m━━━━━━━━━━━━━━━━━━━━\u001b[0m\u001b[37m\u001b[0m \u001b[1m0s\u001b[0m 7ms/step - accuracy: 0.7546 - loss: 0.6124 - val_accuracy: 0.8807 - val_loss: 0.3613 - learning_rate: 0.0010\n",
      "Epoch 64/1000\n",
      "\u001b[1m 1/11\u001b[0m \u001b[32m━\u001b[0m\u001b[37m━━━━━━━━━━━━━━━━━━━\u001b[0m \u001b[1m0s\u001b[0m 26ms/step - accuracy: 0.8125 - loss: 0.5258\n",
      "Epoch 64: val_accuracy did not improve from 0.91743\n",
      "\u001b[1m11/11\u001b[0m \u001b[32m━━━━━━━━━━━━━━━━━━━━\u001b[0m\u001b[37m\u001b[0m \u001b[1m0s\u001b[0m 7ms/step - accuracy: 0.7515 - loss: 0.5843 - val_accuracy: 0.8807 - val_loss: 0.3581 - learning_rate: 0.0010\n",
      "Epoch 65/1000\n",
      "\u001b[1m 1/11\u001b[0m \u001b[32m━\u001b[0m\u001b[37m━━━━━━━━━━━━━━━━━━━\u001b[0m \u001b[1m0s\u001b[0m 23ms/step - accuracy: 0.6562 - loss: 0.8269\n",
      "Epoch 65: val_accuracy did not improve from 0.91743\n",
      "\u001b[1m11/11\u001b[0m \u001b[32m━━━━━━━━━━━━━━━━━━━━\u001b[0m\u001b[37m\u001b[0m \u001b[1m0s\u001b[0m 7ms/step - accuracy: 0.7393 - loss: 0.6525 - val_accuracy: 0.9174 - val_loss: 0.3580 - learning_rate: 0.0010\n",
      "Epoch 66/1000\n",
      "\u001b[1m 1/11\u001b[0m \u001b[32m━\u001b[0m\u001b[37m━━━━━━━━━━━━━━━━━━━\u001b[0m \u001b[1m0s\u001b[0m 26ms/step - accuracy: 0.7500 - loss: 0.6400\n",
      "Epoch 66: val_accuracy improved from 0.91743 to 0.93578, saving model to model/neural_network/checkpoints/hand_gesture_model.h5\n"
     ]
    },
    {
     "name": "stderr",
     "output_type": "stream",
     "text": [
      "WARNING:absl:You are saving your model as an HDF5 file via `model.save()` or `keras.saving.save_model(model)`. This file format is considered legacy. We recommend using instead the native Keras format, e.g. `model.save('my_model.keras')` or `keras.saving.save_model(model, 'my_model.keras')`. \n"
     ]
    },
    {
     "name": "stdout",
     "output_type": "stream",
     "text": [
      "\u001b[1m11/11\u001b[0m \u001b[32m━━━━━━━━━━━━━━━━━━━━\u001b[0m\u001b[37m\u001b[0m \u001b[1m0s\u001b[0m 9ms/step - accuracy: 0.7607 - loss: 0.6057 - val_accuracy: 0.9358 - val_loss: 0.3554 - learning_rate: 0.0010\n",
      "Epoch 67/1000\n",
      "\u001b[1m 1/11\u001b[0m \u001b[32m━\u001b[0m\u001b[37m━━━━━━━━━━━━━━━━━━━\u001b[0m \u001b[1m0s\u001b[0m 24ms/step - accuracy: 0.6562 - loss: 0.7055\n",
      "Epoch 67: val_accuracy did not improve from 0.93578\n",
      "\u001b[1m11/11\u001b[0m \u001b[32m━━━━━━━━━━━━━━━━━━━━\u001b[0m\u001b[37m\u001b[0m \u001b[1m0s\u001b[0m 8ms/step - accuracy: 0.7362 - loss: 0.6347 - val_accuracy: 0.9174 - val_loss: 0.3500 - learning_rate: 0.0010\n",
      "Epoch 68/1000\n",
      "\u001b[1m 1/11\u001b[0m \u001b[32m━\u001b[0m\u001b[37m━━━━━━━━━━━━━━━━━━━\u001b[0m \u001b[1m0s\u001b[0m 24ms/step - accuracy: 0.7188 - loss: 0.6900\n",
      "Epoch 68: val_accuracy did not improve from 0.93578\n",
      "\u001b[1m11/11\u001b[0m \u001b[32m━━━━━━━━━━━━━━━━━━━━\u001b[0m\u001b[37m\u001b[0m \u001b[1m0s\u001b[0m 7ms/step - accuracy: 0.7546 - loss: 0.6292 - val_accuracy: 0.9083 - val_loss: 0.3528 - learning_rate: 0.0010\n",
      "Epoch 69/1000\n",
      "\u001b[1m 1/11\u001b[0m \u001b[32m━\u001b[0m\u001b[37m━━━━━━━━━━━━━━━━━━━\u001b[0m \u001b[1m0s\u001b[0m 23ms/step - accuracy: 0.6250 - loss: 0.7758\n",
      "Epoch 69: val_accuracy did not improve from 0.93578\n",
      "\u001b[1m11/11\u001b[0m \u001b[32m━━━━━━━━━━━━━━━━━━━━\u001b[0m\u001b[37m\u001b[0m \u001b[1m0s\u001b[0m 7ms/step - accuracy: 0.7423 - loss: 0.6107 - val_accuracy: 0.9174 - val_loss: 0.3513 - learning_rate: 0.0010\n",
      "Epoch 70/1000\n",
      "\u001b[1m 1/11\u001b[0m \u001b[32m━\u001b[0m\u001b[37m━━━━━━━━━━━━━━━━━━━\u001b[0m \u001b[1m0s\u001b[0m 25ms/step - accuracy: 0.7500 - loss: 0.6534\n",
      "Epoch 70: val_accuracy did not improve from 0.93578\n",
      "\u001b[1m11/11\u001b[0m \u001b[32m━━━━━━━━━━━━━━━━━━━━\u001b[0m\u001b[37m\u001b[0m \u001b[1m0s\u001b[0m 7ms/step - accuracy: 0.7362 - loss: 0.6404 - val_accuracy: 0.8807 - val_loss: 0.3532 - learning_rate: 0.0010\n",
      "Epoch 71/1000\n",
      "\u001b[1m 1/11\u001b[0m \u001b[32m━\u001b[0m\u001b[37m━━━━━━━━━━━━━━━━━━━\u001b[0m \u001b[1m0s\u001b[0m 24ms/step - accuracy: 0.6250 - loss: 0.7186\n",
      "Epoch 71: val_accuracy did not improve from 0.93578\n",
      "\u001b[1m11/11\u001b[0m \u001b[32m━━━━━━━━━━━━━━━━━━━━\u001b[0m\u001b[37m\u001b[0m \u001b[1m0s\u001b[0m 7ms/step - accuracy: 0.7546 - loss: 0.6238 - val_accuracy: 0.8716 - val_loss: 0.3498 - learning_rate: 0.0010\n",
      "Epoch 72/1000\n",
      "\u001b[1m 1/11\u001b[0m \u001b[32m━\u001b[0m\u001b[37m━━━━━━━━━━━━━━━━━━━\u001b[0m \u001b[1m0s\u001b[0m 27ms/step - accuracy: 0.6562 - loss: 0.6801\n",
      "Epoch 72: val_accuracy did not improve from 0.93578\n",
      "\u001b[1m11/11\u001b[0m \u001b[32m━━━━━━━━━━━━━━━━━━━━\u001b[0m\u001b[37m\u001b[0m \u001b[1m0s\u001b[0m 7ms/step - accuracy: 0.7454 - loss: 0.6042 - val_accuracy: 0.8624 - val_loss: 0.3506 - learning_rate: 0.0010\n",
      "Epoch 73/1000\n",
      "\u001b[1m 1/11\u001b[0m \u001b[32m━\u001b[0m\u001b[37m━━━━━━━━━━━━━━━━━━━\u001b[0m \u001b[1m0s\u001b[0m 25ms/step - accuracy: 0.7500 - loss: 0.6286\n",
      "Epoch 73: val_accuracy did not improve from 0.93578\n",
      "\u001b[1m11/11\u001b[0m \u001b[32m━━━━━━━━━━━━━━━━━━━━\u001b[0m\u001b[37m\u001b[0m \u001b[1m0s\u001b[0m 7ms/step - accuracy: 0.7607 - loss: 0.5957 - val_accuracy: 0.8807 - val_loss: 0.3466 - learning_rate: 0.0010\n",
      "Epoch 74/1000\n",
      "\u001b[1m 1/11\u001b[0m \u001b[32m━\u001b[0m\u001b[37m━━━━━━━━━━━━━━━━━━━\u001b[0m \u001b[1m0s\u001b[0m 26ms/step - accuracy: 0.7500 - loss: 0.5804\n",
      "Epoch 74: val_accuracy improved from 0.93578 to 0.95413, saving model to model/neural_network/checkpoints/hand_gesture_model.h5\n"
     ]
    },
    {
     "name": "stderr",
     "output_type": "stream",
     "text": [
      "WARNING:absl:You are saving your model as an HDF5 file via `model.save()` or `keras.saving.save_model(model)`. This file format is considered legacy. We recommend using instead the native Keras format, e.g. `model.save('my_model.keras')` or `keras.saving.save_model(model, 'my_model.keras')`. \n"
     ]
    },
    {
     "name": "stdout",
     "output_type": "stream",
     "text": [
      "\u001b[1m11/11\u001b[0m \u001b[32m━━━━━━━━━━━━━━━━━━━━\u001b[0m\u001b[37m\u001b[0m \u001b[1m0s\u001b[0m 10ms/step - accuracy: 0.7883 - loss: 0.5717 - val_accuracy: 0.9541 - val_loss: 0.3443 - learning_rate: 0.0010\n",
      "Epoch 75/1000\n",
      "\u001b[1m 1/11\u001b[0m \u001b[32m━\u001b[0m\u001b[37m━━━━━━━━━━━━━━━━━━━\u001b[0m \u001b[1m0s\u001b[0m 27ms/step - accuracy: 0.6875 - loss: 0.7115\n",
      "Epoch 75: val_accuracy did not improve from 0.95413\n",
      "\u001b[1m11/11\u001b[0m \u001b[32m━━━━━━━━━━━━━━━━━━━━\u001b[0m\u001b[37m\u001b[0m \u001b[1m0s\u001b[0m 7ms/step - accuracy: 0.7607 - loss: 0.5963 - val_accuracy: 0.9358 - val_loss: 0.3349 - learning_rate: 0.0010\n",
      "Epoch 76/1000\n",
      "\u001b[1m 1/11\u001b[0m \u001b[32m━\u001b[0m\u001b[37m━━━━━━━━━━━━━━━━━━━\u001b[0m \u001b[1m0s\u001b[0m 25ms/step - accuracy: 0.6562 - loss: 0.9458\n",
      "Epoch 76: val_accuracy did not improve from 0.95413\n",
      "\u001b[1m11/11\u001b[0m \u001b[32m━━━━━━━━━━━━━━━━━━━━\u001b[0m\u001b[37m\u001b[0m \u001b[1m0s\u001b[0m 7ms/step - accuracy: 0.7454 - loss: 0.6766 - val_accuracy: 0.9541 - val_loss: 0.3348 - learning_rate: 0.0010\n",
      "Epoch 77/1000\n",
      "\u001b[1m 1/11\u001b[0m \u001b[32m━\u001b[0m\u001b[37m━━━━━━━━━━━━━━━━━━━\u001b[0m \u001b[1m0s\u001b[0m 25ms/step - accuracy: 0.7812 - loss: 0.7745\n",
      "Epoch 77: val_accuracy did not improve from 0.95413\n",
      "\u001b[1m11/11\u001b[0m \u001b[32m━━━━━━━━━━━━━━━━━━━━\u001b[0m\u001b[37m\u001b[0m \u001b[1m0s\u001b[0m 7ms/step - accuracy: 0.7577 - loss: 0.5921 - val_accuracy: 0.9450 - val_loss: 0.3369 - learning_rate: 0.0010\n",
      "Epoch 78/1000\n",
      "\u001b[1m 1/11\u001b[0m \u001b[32m━\u001b[0m\u001b[37m━━━━━━━━━━━━━━━━━━━\u001b[0m \u001b[1m0s\u001b[0m 25ms/step - accuracy: 0.6562 - loss: 0.6229\n",
      "Epoch 78: val_accuracy did not improve from 0.95413\n",
      "\u001b[1m11/11\u001b[0m \u001b[32m━━━━━━━━━━━━━━━━━━━━\u001b[0m\u001b[37m\u001b[0m \u001b[1m0s\u001b[0m 7ms/step - accuracy: 0.7577 - loss: 0.5826 - val_accuracy: 0.8991 - val_loss: 0.3284 - learning_rate: 0.0010\n",
      "Epoch 79/1000\n",
      "\u001b[1m 1/11\u001b[0m \u001b[32m━\u001b[0m\u001b[37m━━━━━━━━━━━━━━━━━━━\u001b[0m \u001b[1m0s\u001b[0m 26ms/step - accuracy: 0.7188 - loss: 0.5534\n",
      "Epoch 79: val_accuracy did not improve from 0.95413\n",
      "\u001b[1m11/11\u001b[0m \u001b[32m━━━━━━━━━━━━━━━━━━━━\u001b[0m\u001b[37m\u001b[0m \u001b[1m0s\u001b[0m 8ms/step - accuracy: 0.7638 - loss: 0.6110 - val_accuracy: 0.8991 - val_loss: 0.3241 - learning_rate: 0.0010\n",
      "Epoch 80/1000\n",
      "\u001b[1m 1/11\u001b[0m \u001b[32m━\u001b[0m\u001b[37m━━━━━━━━━━━━━━━━━━━\u001b[0m \u001b[1m0s\u001b[0m 26ms/step - accuracy: 0.7812 - loss: 0.5943\n",
      "Epoch 80: val_accuracy did not improve from 0.95413\n",
      "\u001b[1m11/11\u001b[0m \u001b[32m━━━━━━━━━━━━━━━━━━━━\u001b[0m\u001b[37m\u001b[0m \u001b[1m0s\u001b[0m 7ms/step - accuracy: 0.7423 - loss: 0.6544 - val_accuracy: 0.9266 - val_loss: 0.3331 - learning_rate: 0.0010\n",
      "Epoch 81/1000\n",
      "\u001b[1m 1/11\u001b[0m \u001b[32m━\u001b[0m\u001b[37m━━━━━━━━━━━━━━━━━━━\u001b[0m \u001b[1m0s\u001b[0m 25ms/step - accuracy: 0.6875 - loss: 0.6087\n",
      "Epoch 81: val_accuracy improved from 0.95413 to 0.97248, saving model to model/neural_network/checkpoints/hand_gesture_model.h5\n"
     ]
    },
    {
     "name": "stderr",
     "output_type": "stream",
     "text": [
      "WARNING:absl:You are saving your model as an HDF5 file via `model.save()` or `keras.saving.save_model(model)`. This file format is considered legacy. We recommend using instead the native Keras format, e.g. `model.save('my_model.keras')` or `keras.saving.save_model(model, 'my_model.keras')`. \n"
     ]
    },
    {
     "name": "stdout",
     "output_type": "stream",
     "text": [
      "\u001b[1m11/11\u001b[0m \u001b[32m━━━━━━━━━━━━━━━━━━━━\u001b[0m\u001b[37m\u001b[0m \u001b[1m0s\u001b[0m 10ms/step - accuracy: 0.7515 - loss: 0.6322 - val_accuracy: 0.9725 - val_loss: 0.3511 - learning_rate: 0.0010\n",
      "Epoch 82/1000\n",
      "\u001b[1m 1/11\u001b[0m \u001b[32m━\u001b[0m\u001b[37m━━━━━━━━━━━━━━━━━━━\u001b[0m \u001b[1m0s\u001b[0m 27ms/step - accuracy: 0.7812 - loss: 0.6019\n",
      "Epoch 82: val_accuracy improved from 0.97248 to 0.98165, saving model to model/neural_network/checkpoints/hand_gesture_model.h5\n"
     ]
    },
    {
     "name": "stderr",
     "output_type": "stream",
     "text": [
      "WARNING:absl:You are saving your model as an HDF5 file via `model.save()` or `keras.saving.save_model(model)`. This file format is considered legacy. We recommend using instead the native Keras format, e.g. `model.save('my_model.keras')` or `keras.saving.save_model(model, 'my_model.keras')`. \n"
     ]
    },
    {
     "name": "stdout",
     "output_type": "stream",
     "text": [
      "\u001b[1m11/11\u001b[0m \u001b[32m━━━━━━━━━━━━━━━━━━━━\u001b[0m\u001b[37m\u001b[0m \u001b[1m0s\u001b[0m 10ms/step - accuracy: 0.7331 - loss: 0.6084 - val_accuracy: 0.9817 - val_loss: 0.3444 - learning_rate: 0.0010\n",
      "Epoch 83/1000\n",
      "\u001b[1m 1/11\u001b[0m \u001b[32m━\u001b[0m\u001b[37m━━━━━━━━━━━━━━━━━━━\u001b[0m \u001b[1m0s\u001b[0m 26ms/step - accuracy: 0.7812 - loss: 0.6131\n",
      "Epoch 83: val_accuracy did not improve from 0.98165\n",
      "\u001b[1m11/11\u001b[0m \u001b[32m━━━━━━━━━━━━━━━━━━━━\u001b[0m\u001b[37m\u001b[0m \u001b[1m0s\u001b[0m 7ms/step - accuracy: 0.7423 - loss: 0.5875 - val_accuracy: 0.9633 - val_loss: 0.3307 - learning_rate: 0.0010\n",
      "Epoch 84/1000\n",
      "\u001b[1m 1/11\u001b[0m \u001b[32m━\u001b[0m\u001b[37m━━━━━━━━━━━━━━━━━━━\u001b[0m \u001b[1m0s\u001b[0m 25ms/step - accuracy: 0.7812 - loss: 0.5887\n",
      "Epoch 84: val_accuracy did not improve from 0.98165\n",
      "\u001b[1m11/11\u001b[0m \u001b[32m━━━━━━━━━━━━━━━━━━━━\u001b[0m\u001b[37m\u001b[0m \u001b[1m0s\u001b[0m 7ms/step - accuracy: 0.7945 - loss: 0.5470 - val_accuracy: 0.9725 - val_loss: 0.3227 - learning_rate: 0.0010\n",
      "Epoch 85/1000\n",
      "\u001b[1m 1/11\u001b[0m \u001b[32m━\u001b[0m\u001b[37m━━━━━━━━━━━━━━━━━━━\u001b[0m \u001b[1m0s\u001b[0m 29ms/step - accuracy: 0.6562 - loss: 0.5914\n",
      "Epoch 85: val_accuracy did not improve from 0.98165\n",
      "\u001b[1m11/11\u001b[0m \u001b[32m━━━━━━━━━━━━━━━━━━━━\u001b[0m\u001b[37m\u001b[0m \u001b[1m0s\u001b[0m 7ms/step - accuracy: 0.7546 - loss: 0.6674 - val_accuracy: 0.9817 - val_loss: 0.3265 - learning_rate: 0.0010\n",
      "Epoch 86/1000\n",
      "\u001b[1m 1/11\u001b[0m \u001b[32m━\u001b[0m\u001b[37m━━━━━━━━━━━━━━━━━━━\u001b[0m \u001b[1m0s\u001b[0m 25ms/step - accuracy: 0.8125 - loss: 0.4822\n",
      "Epoch 86: val_accuracy did not improve from 0.98165\n",
      "\u001b[1m11/11\u001b[0m \u001b[32m━━━━━━━━━━━━━━━━━━━━\u001b[0m\u001b[37m\u001b[0m \u001b[1m0s\u001b[0m 7ms/step - accuracy: 0.7331 - loss: 0.6180 - val_accuracy: 0.9725 - val_loss: 0.3213 - learning_rate: 0.0010\n",
      "Epoch 87/1000\n",
      "\u001b[1m 1/11\u001b[0m \u001b[32m━\u001b[0m\u001b[37m━━━━━━━━━━━━━━━━━━━\u001b[0m \u001b[1m0s\u001b[0m 25ms/step - accuracy: 0.7500 - loss: 0.5961\n",
      "Epoch 87: val_accuracy did not improve from 0.98165\n",
      "\u001b[1m11/11\u001b[0m \u001b[32m━━━━━━━━━━━━━━━━━━━━\u001b[0m\u001b[37m\u001b[0m \u001b[1m0s\u001b[0m 7ms/step - accuracy: 0.7669 - loss: 0.5702 - val_accuracy: 0.9450 - val_loss: 0.3180 - learning_rate: 0.0010\n",
      "Epoch 88/1000\n",
      "\u001b[1m 1/11\u001b[0m \u001b[32m━\u001b[0m\u001b[37m━━━━━━━━━━━━━━━━━━━\u001b[0m \u001b[1m0s\u001b[0m 25ms/step - accuracy: 0.7500 - loss: 0.6390\n",
      "Epoch 88: val_accuracy did not improve from 0.98165\n",
      "\u001b[1m11/11\u001b[0m \u001b[32m━━━━━━━━━━━━━━━━━━━━\u001b[0m\u001b[37m\u001b[0m \u001b[1m0s\u001b[0m 7ms/step - accuracy: 0.7362 - loss: 0.5813 - val_accuracy: 0.9541 - val_loss: 0.3225 - learning_rate: 0.0010\n",
      "Epoch 89/1000\n",
      "\u001b[1m 1/11\u001b[0m \u001b[32m━\u001b[0m\u001b[37m━━━━━━━━━━━━━━━━━━━\u001b[0m \u001b[1m0s\u001b[0m 26ms/step - accuracy: 0.7500 - loss: 0.6109\n",
      "Epoch 89: val_accuracy did not improve from 0.98165\n",
      "\u001b[1m11/11\u001b[0m \u001b[32m━━━━━━━━━━━━━━━━━━━━\u001b[0m\u001b[37m\u001b[0m \u001b[1m0s\u001b[0m 7ms/step - accuracy: 0.7546 - loss: 0.5606 - val_accuracy: 0.9174 - val_loss: 0.3112 - learning_rate: 0.0010\n",
      "Epoch 90/1000\n",
      "\u001b[1m 1/11\u001b[0m \u001b[32m━\u001b[0m\u001b[37m━━━━━━━━━━━━━━━━━━━\u001b[0m \u001b[1m0s\u001b[0m 24ms/step - accuracy: 0.7812 - loss: 0.4617\n",
      "Epoch 90: val_accuracy did not improve from 0.98165\n",
      "\u001b[1m11/11\u001b[0m \u001b[32m━━━━━━━━━━━━━━━━━━━━\u001b[0m\u001b[37m\u001b[0m \u001b[1m0s\u001b[0m 7ms/step - accuracy: 0.7730 - loss: 0.5405 - val_accuracy: 0.9541 - val_loss: 0.3044 - learning_rate: 0.0010\n",
      "Epoch 91/1000\n",
      "\u001b[1m 1/11\u001b[0m \u001b[32m━\u001b[0m\u001b[37m━━━━━━━━━━━━━━━━━━━\u001b[0m \u001b[1m0s\u001b[0m 26ms/step - accuracy: 0.7188 - loss: 0.6879\n",
      "Epoch 91: val_accuracy did not improve from 0.98165\n",
      "\u001b[1m11/11\u001b[0m \u001b[32m━━━━━━━━━━━━━━━━━━━━\u001b[0m\u001b[37m\u001b[0m \u001b[1m0s\u001b[0m 7ms/step - accuracy: 0.7669 - loss: 0.5858 - val_accuracy: 0.9817 - val_loss: 0.3069 - learning_rate: 0.0010\n",
      "Epoch 92/1000\n",
      "\u001b[1m 1/11\u001b[0m \u001b[32m━\u001b[0m\u001b[37m━━━━━━━━━━━━━━━━━━━\u001b[0m \u001b[1m0s\u001b[0m 25ms/step - accuracy: 0.6875 - loss: 0.6231\n",
      "Epoch 92: val_accuracy did not improve from 0.98165\n",
      "\u001b[1m11/11\u001b[0m \u001b[32m━━━━━━━━━━━━━━━━━━━━\u001b[0m\u001b[37m\u001b[0m \u001b[1m0s\u001b[0m 7ms/step - accuracy: 0.7791 - loss: 0.5861 - val_accuracy: 0.9725 - val_loss: 0.3155 - learning_rate: 0.0010\n",
      "Epoch 93/1000\n",
      "\u001b[1m 1/11\u001b[0m \u001b[32m━\u001b[0m\u001b[37m━━━━━━━━━━━━━━━━━━━\u001b[0m \u001b[1m0s\u001b[0m 24ms/step - accuracy: 0.6250 - loss: 0.9186\n",
      "Epoch 93: val_accuracy did not improve from 0.98165\n",
      "\u001b[1m11/11\u001b[0m \u001b[32m━━━━━━━━━━━━━━━━━━━━\u001b[0m\u001b[37m\u001b[0m \u001b[1m0s\u001b[0m 7ms/step - accuracy: 0.7730 - loss: 0.5990 - val_accuracy: 0.9541 - val_loss: 0.3056 - learning_rate: 0.0010\n",
      "Epoch 94/1000\n",
      "\u001b[1m 1/11\u001b[0m \u001b[32m━\u001b[0m\u001b[37m━━━━━━━━━━━━━━━━━━━\u001b[0m \u001b[1m0s\u001b[0m 24ms/step - accuracy: 0.7812 - loss: 0.5957\n",
      "Epoch 94: val_accuracy did not improve from 0.98165\n",
      "\u001b[1m11/11\u001b[0m \u001b[32m━━━━━━━━━━━━━━━━━━━━\u001b[0m\u001b[37m\u001b[0m \u001b[1m0s\u001b[0m 7ms/step - accuracy: 0.7945 - loss: 0.5656 - val_accuracy: 0.9541 - val_loss: 0.3047 - learning_rate: 0.0010\n",
      "Epoch 95/1000\n",
      "\u001b[1m 1/11\u001b[0m \u001b[32m━\u001b[0m\u001b[37m━━━━━━━━━━━━━━━━━━━\u001b[0m \u001b[1m0s\u001b[0m 23ms/step - accuracy: 0.6250 - loss: 0.7278\n",
      "Epoch 95: val_accuracy did not improve from 0.98165\n",
      "\u001b[1m11/11\u001b[0m \u001b[32m━━━━━━━━━━━━━━━━━━━━\u001b[0m\u001b[37m\u001b[0m \u001b[1m0s\u001b[0m 7ms/step - accuracy: 0.7546 - loss: 0.5939 - val_accuracy: 0.9541 - val_loss: 0.3049 - learning_rate: 0.0010\n",
      "Epoch 96/1000\n",
      "\u001b[1m 1/11\u001b[0m \u001b[32m━\u001b[0m\u001b[37m━━━━━━━━━━━━━━━━━━━\u001b[0m \u001b[1m0s\u001b[0m 23ms/step - accuracy: 0.7812 - loss: 0.5673\n",
      "Epoch 96: val_accuracy did not improve from 0.98165\n",
      "\u001b[1m11/11\u001b[0m \u001b[32m━━━━━━━━━━━━━━━━━━━━\u001b[0m\u001b[37m\u001b[0m \u001b[1m0s\u001b[0m 7ms/step - accuracy: 0.7914 - loss: 0.5431 - val_accuracy: 0.9541 - val_loss: 0.3083 - learning_rate: 0.0010\n",
      "Epoch 97/1000\n",
      "\u001b[1m 1/11\u001b[0m \u001b[32m━\u001b[0m\u001b[37m━━━━━━━━━━━━━━━━━━━\u001b[0m \u001b[1m0s\u001b[0m 24ms/step - accuracy: 0.7188 - loss: 0.6191\n",
      "Epoch 97: val_accuracy did not improve from 0.98165\n",
      "\u001b[1m11/11\u001b[0m \u001b[32m━━━━━━━━━━━━━━━━━━━━\u001b[0m\u001b[37m\u001b[0m \u001b[1m0s\u001b[0m 7ms/step - accuracy: 0.7577 - loss: 0.6038 - val_accuracy: 0.9633 - val_loss: 0.3096 - learning_rate: 0.0010\n",
      "Epoch 98/1000\n",
      "\u001b[1m 1/11\u001b[0m \u001b[32m━\u001b[0m\u001b[37m━━━━━━━━━━━━━━━━━━━\u001b[0m \u001b[1m0s\u001b[0m 24ms/step - accuracy: 0.8750 - loss: 0.5145\n",
      "Epoch 98: val_accuracy did not improve from 0.98165\n",
      "\u001b[1m11/11\u001b[0m \u001b[32m━━━━━━━━━━━━━━━━━━━━\u001b[0m\u001b[37m\u001b[0m \u001b[1m0s\u001b[0m 7ms/step - accuracy: 0.7883 - loss: 0.5181 - val_accuracy: 0.9725 - val_loss: 0.3038 - learning_rate: 0.0010\n",
      "Epoch 99/1000\n",
      "\u001b[1m 1/11\u001b[0m \u001b[32m━\u001b[0m\u001b[37m━━━━━━━━━━━━━━━━━━━\u001b[0m \u001b[1m0s\u001b[0m 24ms/step - accuracy: 0.7812 - loss: 0.5659\n",
      "Epoch 99: val_accuracy did not improve from 0.98165\n",
      "\u001b[1m11/11\u001b[0m \u001b[32m━━━━━━━━━━━━━━━━━━━━\u001b[0m\u001b[37m\u001b[0m \u001b[1m0s\u001b[0m 7ms/step - accuracy: 0.7669 - loss: 0.5772 - val_accuracy: 0.9725 - val_loss: 0.2951 - learning_rate: 0.0010\n",
      "Epoch 100/1000\n",
      "\u001b[1m 1/11\u001b[0m \u001b[32m━\u001b[0m\u001b[37m━━━━━━━━━━━━━━━━━━━\u001b[0m \u001b[1m0s\u001b[0m 25ms/step - accuracy: 0.7188 - loss: 0.7085\n",
      "Epoch 100: val_accuracy did not improve from 0.98165\n",
      "\u001b[1m11/11\u001b[0m \u001b[32m━━━━━━━━━━━━━━━━━━━━\u001b[0m\u001b[37m\u001b[0m \u001b[1m0s\u001b[0m 7ms/step - accuracy: 0.7393 - loss: 0.6029 - val_accuracy: 0.9633 - val_loss: 0.2937 - learning_rate: 0.0010\n",
      "Epoch 101/1000\n",
      "\u001b[1m 1/11\u001b[0m \u001b[32m━\u001b[0m\u001b[37m━━━━━━━━━━━━━━━━━━━\u001b[0m \u001b[1m0s\u001b[0m 25ms/step - accuracy: 0.7500 - loss: 0.5977\n",
      "Epoch 101: val_accuracy did not improve from 0.98165\n",
      "\u001b[1m11/11\u001b[0m \u001b[32m━━━━━━━━━━━━━━━━━━━━\u001b[0m\u001b[37m\u001b[0m \u001b[1m0s\u001b[0m 7ms/step - accuracy: 0.7485 - loss: 0.5790 - val_accuracy: 0.9817 - val_loss: 0.2913 - learning_rate: 0.0010\n",
      "Epoch 102/1000\n",
      "\u001b[1m 1/11\u001b[0m \u001b[32m━\u001b[0m\u001b[37m━━━━━━━━━━━━━━━━━━━\u001b[0m \u001b[1m0s\u001b[0m 25ms/step - accuracy: 0.6250 - loss: 0.9362\n",
      "Epoch 102: val_accuracy did not improve from 0.98165\n",
      "\u001b[1m11/11\u001b[0m \u001b[32m━━━━━━━━━━━━━━━━━━━━\u001b[0m\u001b[37m\u001b[0m \u001b[1m0s\u001b[0m 7ms/step - accuracy: 0.7607 - loss: 0.6041 - val_accuracy: 0.9725 - val_loss: 0.2992 - learning_rate: 0.0010\n",
      "Epoch 102: early stopping\n",
      "Restoring model weights from the end of the best epoch: 82.\n"
     ]
    },
    {
     "name": "stderr",
     "output_type": "stream",
     "text": [
      "WARNING:absl:You are saving your model as an HDF5 file via `model.save()` or `keras.saving.save_model(model)`. This file format is considered legacy. We recommend using instead the native Keras format, e.g. `model.save('my_model.keras')` or `keras.saving.save_model(model, 'my_model.keras')`. \n"
     ]
    },
    {
     "name": "stdout",
     "output_type": "stream",
     "text": [
      "Model saved to model/neural_network/hand_gesture_model.h5\n"
     ]
    },
    {
     "data": {
      "image/png": "[encoded data removed]",
      "text/plain": [
       "<Figure size 1200x400 with 2 Axes>"
      ]
     },
     "metadata": {},
     "output_type": "display_data"
    },
    {
     "name": "stdout",
     "output_type": "stream",
     "text": [
      "\n",
      "Final Training Results:\n",
      "Training Loss: 0.6041\n",
      "Training Accuracy: 0.7607\n",
      "Validation Loss: 0.2992\n",
      "Validation Accuracy: 0.9725\n"
     ]
    }
   ],
   "source": [
    "# Train the model\n",
    "history = model.fit(\n",
    "    X_train, y_train,\n",
    "    epochs=1000,\n",
    "    batch_size=min(32, len(X_train)),  # Adjust batch size for small datasets\n",
    "    validation_data=(X_test, y_test),\n",
    "    callbacks=callbacks,\n",
    "    verbose=1\n",
    ")\n",
    "\n",
    "# Save final model\n",
    "model.save(model_save_path, include_optimizer=False)\n",
    "print(f\"Model saved to {model_save_path}\")\n",
    "\n",
    "# Plot training history\n",
    "plt.figure(figsize=(12, 4))\n",
    "\n",
    "plt.subplot(1, 2, 1)\n",
    "plt.plot(history.history['loss'], label='Training Loss')\n",
    "plt.plot(history.history['val_loss'], label='Validation Loss')\n",
    "plt.title('Model Loss')\n",
    "plt.xlabel('Epoch')\n",
    "plt.ylabel('Loss')\n",
    "plt.legend()\n",
    "\n",
    "plt.subplot(1, 2, 2)\n",
    "plt.plot(history.history['accuracy'], label='Training Accuracy')\n",
    "plt.plot(history.history['val_accuracy'], label='Validation Accuracy')\n",
    "plt.title('Model Accuracy')\n",
    "plt.xlabel('Epoch')\n",
    "plt.ylabel('Accuracy')\n",
    "plt.legend()\n",
    "\n",
    "plt.tight_layout()\n",
    "plt.savefig('model/neural_network/training_history.png')\n",
    "plt.show()\n",
    "\n",
    "# Print final training results\n",
    "final_train_loss = history.history['loss'][-1]\n",
    "final_train_acc = history.history['accuracy'][-1]\n",
    "final_val_loss = history.history['val_loss'][-1]\n",
    "final_val_acc = history.history['val_accuracy'][-1]\n",
    "\n",
    "print(f\"\\nFinal Training Results:\")\n",
    "print(f\"Training Loss: {final_train_loss:.4f}\")\n",
    "print(f\"Training Accuracy: {final_train_acc:.4f}\")\n",
    "print(f\"Validation Loss: {final_val_loss:.4f}\")\n",
    "print(f\"Validation Accuracy: {final_val_acc:.4f}\")"
   ]
  },
  {
   "cell_type": "markdown",
   "id": "28f7d704",
   "metadata": {},
   "source": [
    "## 8. Model Evaluation"
   ]
  },
  {
   "cell_type": "code",
   "execution_count": 12,
   "id": "8b60d3d0",
   "metadata": {},
   "outputs": [
    {
     "name": "stderr",
     "output_type": "stream",
     "text": [
      "WARNING:absl:Compiled the loaded model, but the compiled metrics have yet to be built. `model.compile_metrics` will be empty until you train or evaluate the model.\n"
     ]
    },
    {
     "name": "stdout",
     "output_type": "stream",
     "text": [
      "Test Loss: 0.3444\n",
      "Test Accuracy: 0.9817\n",
      "\u001b[1m4/4\u001b[0m \u001b[32m━━━━━━━━━━━━━━━━━━━━\u001b[0m\u001b[37m\u001b[0m \u001b[1m0s\u001b[0m 12ms/step\n",
      "\n",
      "Detailed Test Results:\n",
      "Accuracy: 0.9817\n"
     ]
    },
    {
     "data": {
      "image/png": "[encoded data removed]",
      "text/plain": [
       "<Figure size 800x600 with 2 Axes>"
      ]
     },
     "metadata": {},
     "output_type": "display_data"
    },
    {
     "name": "stdout",
     "output_type": "stream",
     "text": [
      "\n",
      "Classification Report:\n",
      "              precision    recall  f1-score   support\n",
      "\n",
      "        fist       0.98      1.00      0.99        46\n",
      "       point       0.96      1.00      0.98        24\n",
      "         two       1.00      0.95      0.97        39\n",
      "\n",
      "    accuracy                           0.98       109\n",
      "   macro avg       0.98      0.98      0.98       109\n",
      "weighted avg       0.98      0.98      0.98       109\n",
      "\n",
      "\n",
      "Per-class Results:\n",
      "fist: Precision=0.979, Recall=1.000, F1=0.989, Support=46.0\n",
      "point: Precision=0.960, Recall=1.000, F1=0.980, Support=24.0\n",
      "two: Precision=1.000, Recall=0.949, F1=0.974, Support=39.0\n",
      "\n",
      "Sample Predictions:\n",
      "Sample 1: True=fist, Predicted=fist, Confidence=0.663\n",
      "  Class probabilities:\n",
      "    fist: 0.663\n",
      "    point: 0.300\n",
      "    two: 0.037\n",
      "\n",
      "Sample 2: True=two, Predicted=two, Confidence=0.794\n",
      "  Class probabilities:\n",
      "    fist: 0.012\n",
      "    point: 0.194\n",
      "    two: 0.794\n",
      "\n",
      "Sample 3: True=fist, Predicted=fist, Confidence=0.929\n",
      "  Class probabilities:\n",
      "    fist: 0.929\n",
      "    point: 0.062\n",
      "    two: 0.009\n",
      "\n",
      "Sample 4: True=fist, Predicted=fist, Confidence=0.808\n",
      "  Class probabilities:\n",
      "    fist: 0.808\n",
      "    point: 0.162\n",
      "    two: 0.029\n",
      "\n",
      "Sample 5: True=two, Predicted=two, Confidence=0.831\n",
      "  Class probabilities:\n",
      "    fist: 0.009\n",
      "    point: 0.160\n",
      "    two: 0.831\n",
      "\n"
     ]
    }
   ],
   "source": [
    "# Load best model for evaluation\n",
    "best_model = tf.keras.models.load_model(checkpoint_path)\n",
    "\n",
    "# Evaluate on test set\n",
    "test_loss, test_accuracy = best_model.evaluate(X_test, y_test, verbose=0)\n",
    "print(f\"Test Loss: {test_loss:.4f}\")\n",
    "print(f\"Test Accuracy: {test_accuracy:.4f}\")\n",
    "\n",
    "# Make predictions\n",
    "y_pred_proba = best_model.predict(X_test)\n",
    "y_pred = np.argmax(y_pred_proba, axis=1)\n",
    "\n",
    "# Calculate metrics\n",
    "accuracy = accuracy_score(y_test, y_pred)\n",
    "print(f\"\\nDetailed Test Results:\")\n",
    "print(f\"Accuracy: {accuracy:.4f}\")\n",
    "\n",
    "# Confusion Matrix\n",
    "def plot_confusion_matrix(y_true, y_pred, classes, title='Confusion Matrix'):\n",
    "    \"\"\"Plot confusion matrix\"\"\"\n",
    "    cm = confusion_matrix(y_true, y_pred)\n",
    "    \n",
    "    plt.figure(figsize=(8, 6))\n",
    "    sns.heatmap(cm, annot=True, fmt='d', cmap='Blues', \n",
    "                xticklabels=classes, yticklabels=classes)\n",
    "    plt.title(title)\n",
    "    plt.xlabel('Predicted')\n",
    "    plt.ylabel('Actual')\n",
    "    plt.tight_layout()\n",
    "    plt.savefig('model/neural_network/confusion_matrix.png')\n",
    "    plt.show()\n",
    "    \n",
    "    return cm\n",
    "\n",
    "# Plot confusion matrix\n",
    "cm = plot_confusion_matrix(y_test, y_pred, label_encoder.classes_)\n",
    "\n",
    "# Classification Report\n",
    "print(\"\\nClassification Report:\")\n",
    "report = classification_report(y_test, y_pred, \n",
    "                             target_names=label_encoder.classes_,\n",
    "                             output_dict=True)\n",
    "print(classification_report(y_test, y_pred, \n",
    "                          target_names=label_encoder.classes_))\n",
    "\n",
    "# Per-class accuracy\n",
    "print(\"\\nPer-class Results:\")\n",
    "for i, class_name in enumerate(label_encoder.classes_):\n",
    "    if class_name in report:\n",
    "        precision = report[class_name]['precision']\n",
    "        recall = report[class_name]['recall']\n",
    "        f1 = report[class_name]['f1-score']\n",
    "        support = report[class_name]['support']\n",
    "        print(f\"{class_name}: Precision={precision:.3f}, Recall={recall:.3f}, F1={f1:.3f}, Support={support}\")\n",
    "\n",
    "# Sample predictions with confidence scores\n",
    "print(\"\\nSample Predictions:\")\n",
    "for i in range(min(5, len(X_test))):\n",
    "    true_label = label_encoder.inverse_transform([y_test[i]])[0]\n",
    "    pred_label = label_encoder.inverse_transform([y_pred[i]])[0]\n",
    "    confidence = np.max(y_pred_proba[i])\n",
    "    \n",
    "    print(f\"Sample {i+1}: True={true_label}, Predicted={pred_label}, Confidence={confidence:.3f}\")\n",
    "    \n",
    "    # Show confidence for all classes\n",
    "    print(\"  Class probabilities:\")\n",
    "    for j, class_name in enumerate(label_encoder.classes_):\n",
    "        prob = y_pred_proba[i][j]\n",
    "        print(f\"    {class_name}: {prob:.3f}\")\n",
    "    print()"
   ]
  },
  {
   "cell_type": "markdown",
   "id": "47488a85",
   "metadata": {},
   "source": [
    "## 9. Model Optimization và TensorFlow Lite Conversion\n",
    "\n",
    "Convert model sang TensorFlow Lite để deploy trên mobile hoặc embedded devices."
   ]
  },
  {
   "cell_type": "code",
   "execution_count": 13,
   "id": "34899714",
   "metadata": {},
   "outputs": [
    {
     "name": "stderr",
     "output_type": "stream",
     "text": [
      "WARNING:absl:You are saving your model as an HDF5 file via `model.save()` or `keras.saving.save_model(model)`. This file format is considered legacy. We recommend using instead the native Keras format, e.g. `model.save('my_model.keras')` or `keras.saving.save_model(model, 'my_model.keras')`. \n"
     ]
    },
    {
     "name": "stdout",
     "output_type": "stream",
     "text": [
      "Converting model to TensorFlow Lite...\n",
      "INFO:tensorflow:Assets written to: C:\\Users\\Dell\\AppData\\Local\\Temp\\tmpq4omqaof\\assets\n"
     ]
    },
    {
     "name": "stderr",
     "output_type": "stream",
     "text": [
      "INFO:tensorflow:Assets written to: C:\\Users\\Dell\\AppData\\Local\\Temp\\tmpq4omqaof\\assets\n"
     ]
    },
    {
     "name": "stdout",
     "output_type": "stream",
     "text": [
      "Saved artifact at 'C:\\Users\\Dell\\AppData\\Local\\Temp\\tmpq4omqaof'. The following endpoints are available:\n",
      "\n",
      "* Endpoint 'serve'\n",
      "  args_0 (POSITIONAL_ONLY): TensorSpec(shape=(None, 42), dtype=tf.float32, name='input_layer')\n",
      "Output Type:\n",
      "  TensorSpec(shape=(None, 3), dtype=tf.float32, name=None)\n",
      "Captures:\n",
      "  2605477528016: TensorSpec(shape=(), dtype=tf.resource, name=None)\n",
      "  2605477530128: TensorSpec(shape=(), dtype=tf.resource, name=None)\n",
      "  2605477528208: TensorSpec(shape=(), dtype=tf.resource, name=None)\n",
      "  2605477528592: TensorSpec(shape=(), dtype=tf.resource, name=None)\n",
      "  2605477528784: TensorSpec(shape=(), dtype=tf.resource, name=None)\n",
      "  2605477529552: TensorSpec(shape=(), dtype=tf.resource, name=None)\n",
      "TensorFlow Lite model saved to model/neural_network/hand_gesture_model.tflite\n",
      "\n",
      "Model Size Comparison:\n",
      "Original Keras model: 25.66 KB\n",
      "TensorFlow Lite model: 6.36 KB\n",
      "Size reduction: 75.2%\n",
      "\n",
      "Converting with quantization...\n",
      "INFO:tensorflow:Assets written to: C:\\Users\\Dell\\AppData\\Local\\Temp\\tmpdcona8og\\assets\n"
     ]
    },
    {
     "name": "stderr",
     "output_type": "stream",
     "text": [
      "INFO:tensorflow:Assets written to: C:\\Users\\Dell\\AppData\\Local\\Temp\\tmpdcona8og\\assets\n"
     ]
    },
    {
     "name": "stdout",
     "output_type": "stream",
     "text": [
      "Saved artifact at 'C:\\Users\\Dell\\AppData\\Local\\Temp\\tmpdcona8og'. The following endpoints are available:\n",
      "\n",
      "* Endpoint 'serve'\n",
      "  args_0 (POSITIONAL_ONLY): TensorSpec(shape=(None, 42), dtype=tf.float32, name='input_layer')\n",
      "Output Type:\n",
      "  TensorSpec(shape=(None, 3), dtype=tf.float32, name=None)\n",
      "Captures:\n",
      "  2605477528016: TensorSpec(shape=(), dtype=tf.resource, name=None)\n",
      "  2605477530128: TensorSpec(shape=(), dtype=tf.resource, name=None)\n",
      "  2605477528208: TensorSpec(shape=(), dtype=tf.resource, name=None)\n",
      "  2605477528592: TensorSpec(shape=(), dtype=tf.resource, name=None)\n",
      "  2605477528784: TensorSpec(shape=(), dtype=tf.resource, name=None)\n",
      "  2605477529552: TensorSpec(shape=(), dtype=tf.resource, name=None)\n",
      "Quantized TensorFlow Lite model: 4.33 KB\n",
      "Additional size reduction: 31.9%\n"
     ]
    }
   ],
   "source": [
    "# Save model without optimizer for inference\n",
    "inference_model_path = 'model/neural_network/hand_gesture_inference.h5'\n",
    "best_model.save(inference_model_path, include_optimizer=False)\n",
    "\n",
    "# Convert to TensorFlow Lite\n",
    "tflite_model_path = 'model/neural_network/hand_gesture_model.tflite'\n",
    "\n",
    "print(\"Converting model to TensorFlow Lite...\")\n",
    "converter = tf.lite.TFLiteConverter.from_keras_model(best_model)\n",
    "\n",
    "# Apply optimizations\n",
    "converter.optimizations = [tf.lite.Optimize.DEFAULT]\n",
    "\n",
    "# Convert model\n",
    "tflite_model = converter.convert()\n",
    "\n",
    "# Save TFLite model\n",
    "with open(tflite_model_path, 'wb') as f:\n",
    "    f.write(tflite_model)\n",
    "\n",
    "print(f\"TensorFlow Lite model saved to {tflite_model_path}\")\n",
    "\n",
    "# Compare model sizes\n",
    "import os\n",
    "\n",
    "original_size = os.path.getsize(model_save_path)\n",
    "tflite_size = os.path.getsize(tflite_model_path)\n",
    "\n",
    "print(f\"\\nModel Size Comparison:\")\n",
    "print(f\"Original Keras model: {original_size/1024:.2f} KB\")\n",
    "print(f\"TensorFlow Lite model: {tflite_size/1024:.2f} KB\")\n",
    "print(f\"Size reduction: {((original_size - tflite_size) / original_size) * 100:.1f}%\")\n",
    "\n",
    "# Create a representative dataset for quantization (optional)\n",
    "def representative_dataset():\n",
    "    for i in range(min(100, len(X_train))):\n",
    "        yield [X_train[i:i+1].astype(np.float32)]\n",
    "\n",
    "# Convert with quantization\n",
    "print(\"\\nConverting with quantization...\")\n",
    "converter_quantized = tf.lite.TFLiteConverter.from_keras_model(best_model)\n",
    "converter_quantized.optimizations = [tf.lite.Optimize.DEFAULT]\n",
    "converter_quantized.representative_dataset = representative_dataset\n",
    "converter_quantized.target_spec.supported_ops = [tf.lite.OpsSet.TFLITE_BUILTINS_INT8]\n",
    "converter_quantized.inference_input_type = tf.int8\n",
    "converter_quantized.inference_output_type = tf.int8\n",
    "\n",
    "tflite_quantized_model = converter_quantized.convert()\n",
    "\n",
    "# Save quantized model\n",
    "tflite_quantized_path = 'model/neural_network/hand_gesture_model_quantized.tflite'\n",
    "with open(tflite_quantized_path, 'wb') as f:\n",
    "    f.write(tflite_quantized_model)\n",
    "\n",
    "quantized_size = os.path.getsize(tflite_quantized_path)\n",
    "print(f\"Quantized TensorFlow Lite model: {quantized_size/1024:.2f} KB\")\n",
    "print(f\"Additional size reduction: {((tflite_size - quantized_size) / tflite_size) * 100:.1f}%\")"
   ]
  },
  {
   "cell_type": "markdown",
   "id": "237c7064",
   "metadata": {},
   "source": [
    "## 10. Inference Testing\n",
    "\n",
    "Test các model đã convert với sample data để đảm bảo hoạt động chính xác."
   ]
  },
  {
   "cell_type": "code",
   "execution_count": 14,
   "id": "e7e14a2e",
   "metadata": {},
   "outputs": [
    {
     "name": "stdout",
     "output_type": "stream",
     "text": [
      "Testing inference on different model formats...\n",
      "Test sample shape: (1, 42)\n",
      "True label: fist\n",
      "\n",
      "Keras model:\n",
      "  Predicted class: fist\n",
      "  Confidence: 0.6632\n",
      "  Raw predictions: [0.6632263  0.29959774 0.03717604]\n",
      "\n",
      "TensorFlow Lite model:\n",
      "  Predicted class: fist\n",
      "  Confidence: 0.6632\n",
      "  Raw predictions: [0.6632263  0.29959762 0.03717601]\n",
      "\n",
      "Predictions match: True\n",
      "Max difference: 0.000000\n",
      "\n",
      "Benchmarking inference speed (100 runs):\n",
      "Keras model: 55.65 ± 1.68 ms\n",
      "TensorFlow Lite: 0.18 ± 0.38 ms\n",
      "Speedup: 317.41x\n",
      "\n",
      "Testing all test samples...\n",
      "Keras model accuracy: 0.9817\n",
      "TensorFlow Lite accuracy: 0.9817\n",
      "Accuracy difference: 0.000000\n"
     ]
    }
   ],
   "source": [
    "# Test TensorFlow Lite model\n",
    "def test_tflite_model(model_path, test_sample):\n",
    "    \"\"\"Test TensorFlow Lite model inference\"\"\"\n",
    "    interpreter = tf.lite.Interpreter(model_path=model_path)\n",
    "    interpreter.allocate_tensors()\n",
    "    \n",
    "    # Get input and output tensors\n",
    "    input_details = interpreter.get_input_details()\n",
    "    output_details = interpreter.get_output_details()\n",
    "    \n",
    "    # Set input tensor\n",
    "    interpreter.set_tensor(input_details[0]['index'], test_sample)\n",
    "    \n",
    "    # Run inference\n",
    "    interpreter.invoke()\n",
    "    \n",
    "    # Get output\n",
    "    output_data = interpreter.get_tensor(output_details[0]['index'])\n",
    "    return output_data\n",
    "\n",
    "# Test with first test sample\n",
    "test_sample = X_test[0:1].astype(np.float32)\n",
    "\n",
    "print(\"Testing inference on different model formats...\")\n",
    "print(f\"Test sample shape: {test_sample.shape}\")\n",
    "print(f\"True label: {label_encoder.inverse_transform([y_test[0]])[0]}\")\n",
    "\n",
    "# Original Keras model prediction\n",
    "keras_pred = best_model.predict(test_sample, verbose=0)\n",
    "keras_class = np.argmax(keras_pred)\n",
    "keras_confidence = np.max(keras_pred)\n",
    "\n",
    "print(f\"\\nKeras model:\")\n",
    "print(f\"  Predicted class: {label_encoder.inverse_transform([keras_class])[0]}\")\n",
    "print(f\"  Confidence: {keras_confidence:.4f}\")\n",
    "print(f\"  Raw predictions: {keras_pred[0]}\")\n",
    "\n",
    "# TensorFlow Lite model prediction\n",
    "tflite_pred = test_tflite_model(tflite_model_path, test_sample)\n",
    "tflite_class = np.argmax(tflite_pred)\n",
    "tflite_confidence = np.max(tflite_pred)\n",
    "\n",
    "print(f\"\\nTensorFlow Lite model:\")\n",
    "print(f\"  Predicted class: {label_encoder.inverse_transform([tflite_class])[0]}\")\n",
    "print(f\"  Confidence: {tflite_confidence:.4f}\")\n",
    "print(f\"  Raw predictions: {tflite_pred[0]}\")\n",
    "\n",
    "# Check if predictions match\n",
    "predictions_match = np.allclose(keras_pred, tflite_pred, atol=1e-5)\n",
    "print(f\"\\nPredictions match: {predictions_match}\")\n",
    "print(f\"Max difference: {np.max(np.abs(keras_pred - tflite_pred)):.6f}\")\n",
    "\n",
    "# Benchmark inference speed\n",
    "import time\n",
    "\n",
    "def benchmark_model(model_func, test_data, num_runs=100):\n",
    "    \"\"\"Benchmark model inference speed\"\"\"\n",
    "    times = []\n",
    "    for _ in range(num_runs):\n",
    "        start_time = time.time()\n",
    "        _ = model_func(test_data)\n",
    "        times.append(time.time() - start_time)\n",
    "    \n",
    "    return np.mean(times), np.std(times)\n",
    "\n",
    "# Keras model benchmark\n",
    "def keras_inference(data):\n",
    "    return best_model.predict(data, verbose=0)\n",
    "\n",
    "# TensorFlow Lite model benchmark\n",
    "def tflite_inference(data):\n",
    "    return test_tflite_model(tflite_model_path, data)\n",
    "\n",
    "print(\"\\nBenchmarking inference speed (100 runs):\")\n",
    "\n",
    "keras_time, keras_std = benchmark_model(keras_inference, test_sample)\n",
    "print(f\"Keras model: {keras_time*1000:.2f} ± {keras_std*1000:.2f} ms\")\n",
    "\n",
    "tflite_time, tflite_std = benchmark_model(tflite_inference, test_sample)\n",
    "print(f\"TensorFlow Lite: {tflite_time*1000:.2f} ± {tflite_std*1000:.2f} ms\")\n",
    "\n",
    "speedup = keras_time / tflite_time\n",
    "print(f\"Speedup: {speedup:.2f}x\")\n",
    "\n",
    "# Test all test samples\n",
    "print(\"\\nTesting all test samples...\")\n",
    "correct_keras = 0\n",
    "correct_tflite = 0\n",
    "\n",
    "for i in range(len(X_test)):\n",
    "    sample = X_test[i:i+1].astype(np.float32)\n",
    "    true_label = y_test[i]\n",
    "    \n",
    "    # Keras prediction\n",
    "    keras_pred = best_model.predict(sample, verbose=0)\n",
    "    keras_class = np.argmax(keras_pred)\n",
    "    \n",
    "    # TFLite prediction  \n",
    "    tflite_pred = test_tflite_model(tflite_model_path, sample)\n",
    "    tflite_class = np.argmax(tflite_pred)\n",
    "    \n",
    "    if keras_class == true_label:\n",
    "        correct_keras += 1\n",
    "    if tflite_class == true_label:\n",
    "        correct_tflite += 1\n",
    "\n",
    "keras_accuracy = correct_keras / len(X_test)\n",
    "tflite_accuracy = correct_tflite / len(X_test)\n",
    "\n",
    "print(f\"Keras model accuracy: {keras_accuracy:.4f}\")\n",
    "print(f\"TensorFlow Lite accuracy: {tflite_accuracy:.4f}\")\n",
    "print(f\"Accuracy difference: {abs(keras_accuracy - tflite_accuracy):.6f}\")"
   ]
  }
 ],
 "metadata": {
  "kernelspec": {
   "display_name": ".model-venv",
   "language": "python",
   "name": "python3"
  },
  "language_info": {
   "codemirror_mode": {
    "name": "ipython",
    "version": 3
   },
   "file_extension": ".py",
   "mimetype": "text/x-python",
   "name": "python",
   "nbconvert_exporter": "python",
   "pygments_lexer": "ipython3",
   "version": "3.11.0"
  }
 },
 "nbformat": 4,
 "nbformat_minor": 5
}
