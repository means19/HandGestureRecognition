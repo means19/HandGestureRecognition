{
 "cells": [
  {
   "cell_type": "markdown",
   "id": "a09df897",
   "metadata": {},
   "source": [
    "# Hand Gesture Recognition với Neural Network\n",
    "\n",
    "Notebook này hướng dẫn xây dựng và training một neural network model để nhận dạng cử chỉ tay sử dụng hand landmarks từ MediaPipe.\n",
    "\n",
    "## Mục tiêu:\n",
    "- Load và khám phá dataset hand gesture \n",
    "- Tiền xử lý dữ liệu hand landmarks\n",
    "- Xây dựng neural network architecture\n",
    "- Training model với TensorFlow/Keras\n",
    "- Đánh giá hiệu suất model\n",
    "- Convert sang TensorFlow Lite để deploy\n",
    "- Test inference với model đã train"
   ]
  },
  {
   "cell_type": "markdown",
   "id": "6798837d",
   "metadata": {},
   "source": [
    "## 1. Import Required Libraries"
   ]
  },
  {
   "cell_type": "code",
   "execution_count": 13,
   "id": "bbef2dd6",
   "metadata": {},
   "outputs": [
    {
     "name": "stdout",
     "output_type": "stream",
     "text": [
      "TensorFlow version: 2.19.0\n",
      "Pandas version: 2.3.1\n",
      "NumPy version: 1.26.4\n"
     ]
    }
   ],
   "source": [
    "import os\n",
    "import pandas as pd\n",
    "import numpy as np\n",
    "import tensorflow as tf\n",
    "from sklearn.model_selection import train_test_split\n",
    "from sklearn.preprocessing import MinMaxScaler, LabelEncoder\n",
    "from sklearn.metrics import confusion_matrix, classification_report, accuracy_score\n",
    "import matplotlib.pyplot as plt\n",
    "import seaborn as sns\n",
    "import pickle\n",
    "import warnings\n",
    "warnings.filterwarnings('ignore')\n",
    "\n",
    "# Set random seeds for reproducibility\n",
    "RANDOM_SEED = 42\n",
    "np.random.seed(RANDOM_SEED)\n",
    "tf.random.set_seed(RANDOM_SEED)\n",
    "\n",
    "print(\"TensorFlow version:\", tf.__version__)\n",
    "print(\"Pandas version:\", pd.__version__)\n",
    "print(\"NumPy version:\", np.__version__)"
   ]
  },
  {
   "cell_type": "markdown",
   "id": "0806b9e5",
   "metadata": {},
   "source": [
    "## 2. Load và Explore Dataset"
   ]
  },
  {
   "cell_type": "code",
   "execution_count": 14,
   "id": "e454a29e",
   "metadata": {},
   "outputs": [
    {
     "name": "stdout",
     "output_type": "stream",
     "text": [
      "Loading dataset...\n",
      "Dataset shape: (959, 90)\n",
      "Columns: 90\n",
      "\n",
      "First few rows:\n",
      "                timestamp  class_id gesture_name  num_hands hand_0_type  \\\n",
      "0  20250807_161032_401448         2          two          1        Left   \n",
      "1  20250807_161033_963409         2          two          1        Left   \n",
      "2  20250807_161034_845662         2          two          2        Left   \n",
      "3  20250807_161035_492472         2          two          1        Left   \n",
      "4  20250807_161035_995513         2          two          1        Left   \n",
      "\n",
      "   hand_0_landmark_0_x  hand_0_landmark_0_y  hand_0_landmark_1_x  \\\n",
      "0                  141                  418                  189   \n",
      "1                  173                  455                  220   \n",
      "2                  288                  417                  326   \n",
      "3                  375                  464                  433   \n",
      "4                  425                  456                  481   \n",
      "\n",
      "   hand_0_landmark_1_y  hand_0_landmark_2_x  ...  hand_1_landmark_16_x  \\\n",
      "0                  384                  206  ...                   NaN   \n",
      "1                  426                  244  ...                   NaN   \n",
      "2                  414                  359  ...                 325.0   \n",
      "3                  448                  476  ...                   NaN   \n",
      "4                  436                  521  ...                   NaN   \n",
      "\n",
      "   hand_1_landmark_16_y  hand_1_landmark_17_x  hand_1_landmark_17_y  \\\n",
      "0                   NaN                   NaN                   NaN   \n",
      "1                   NaN                   NaN                   NaN   \n",
      "2                 362.0                 226.0                 327.0   \n",
      "3                   NaN                   NaN                   NaN   \n",
      "4                   NaN                   NaN                   NaN   \n",
      "\n",
      "   hand_1_landmark_18_x  hand_1_landmark_18_y  hand_1_landmark_19_x  \\\n",
      "0                   NaN                   NaN                   NaN   \n",
      "1                   NaN                   NaN                   NaN   \n",
      "2                 254.0                 316.0                 283.0   \n",
      "3                   NaN                   NaN                   NaN   \n",
      "4                   NaN                   NaN                   NaN   \n",
      "\n",
      "   hand_1_landmark_19_y  hand_1_landmark_20_x  hand_1_landmark_20_y  \n",
      "0                   NaN                   NaN                   NaN  \n",
      "1                   NaN                   NaN                   NaN  \n",
      "2                 347.0                 300.0                 374.0  \n",
      "3                   NaN                   NaN                   NaN  \n",
      "4                   NaN                   NaN                   NaN  \n",
      "\n",
      "[5 rows x 90 columns]\n",
      "\n",
      "Dataset info:\n",
      "<class 'pandas.core.frame.DataFrame'>\n",
      "RangeIndex: 959 entries, 0 to 958\n",
      "Data columns (total 90 columns):\n",
      " #   Column                Non-Null Count  Dtype  \n",
      "---  ------                --------------  -----  \n",
      " 0   timestamp             959 non-null    object \n",
      " 1   class_id              959 non-null    int64  \n",
      " 2   gesture_name          959 non-null    object \n",
      " 3   num_hands             959 non-null    int64  \n",
      " 4   hand_0_type           959 non-null    object \n",
      " 5   hand_0_landmark_0_x   959 non-null    int64  \n",
      " 6   hand_0_landmark_0_y   959 non-null    int64  \n",
      " 7   hand_0_landmark_1_x   959 non-null    int64  \n",
      " 8   hand_0_landmark_1_y   959 non-null    int64  \n",
      " 9   hand_0_landmark_2_x   959 non-null    int64  \n",
      " 10  hand_0_landmark_2_y   959 non-null    int64  \n",
      " 11  hand_0_landmark_3_x   959 non-null    int64  \n",
      " 12  hand_0_landmark_3_y   959 non-null    int64  \n",
      " 13  hand_0_landmark_4_x   959 non-null    int64  \n",
      " 14  hand_0_landmark_4_y   959 non-null    int64  \n",
      " 15  hand_0_landmark_5_x   959 non-null    int64  \n",
      " 16  hand_0_landmark_5_y   959 non-null    int64  \n",
      " 17  hand_0_landmark_6_x   959 non-null    int64  \n",
      " 18  hand_0_landmark_6_y   959 non-null    int64  \n",
      " 19  hand_0_landmark_7_x   959 non-null    int64  \n",
      " 20  hand_0_landmark_7_y   959 non-null    int64  \n",
      " 21  hand_0_landmark_8_x   959 non-null    int64  \n",
      " 22  hand_0_landmark_8_y   959 non-null    int64  \n",
      " 23  hand_0_landmark_9_x   959 non-null    int64  \n",
      " 24  hand_0_landmark_9_y   959 non-null    int64  \n",
      " 25  hand_0_landmark_10_x  959 non-null    int64  \n",
      " 26  hand_0_landmark_10_y  959 non-null    int64  \n",
      " 27  hand_0_landmark_11_x  959 non-null    int64  \n",
      " 28  hand_0_landmark_11_y  959 non-null    int64  \n",
      " 29  hand_0_landmark_12_x  959 non-null    int64  \n",
      " 30  hand_0_landmark_12_y  959 non-null    int64  \n",
      " 31  hand_0_landmark_13_x  959 non-null    int64  \n",
      " 32  hand_0_landmark_13_y  959 non-null    int64  \n",
      " 33  hand_0_landmark_14_x  959 non-null    int64  \n",
      " 34  hand_0_landmark_14_y  959 non-null    int64  \n",
      " 35  hand_0_landmark_15_x  959 non-null    int64  \n",
      " 36  hand_0_landmark_15_y  959 non-null    int64  \n",
      " 37  hand_0_landmark_16_x  959 non-null    int64  \n",
      " 38  hand_0_landmark_16_y  959 non-null    int64  \n",
      " 39  hand_0_landmark_17_x  959 non-null    int64  \n",
      " 40  hand_0_landmark_17_y  959 non-null    int64  \n",
      " 41  hand_0_landmark_18_x  959 non-null    int64  \n",
      " 42  hand_0_landmark_18_y  959 non-null    int64  \n",
      " 43  hand_0_landmark_19_x  959 non-null    int64  \n",
      " 44  hand_0_landmark_19_y  959 non-null    int64  \n",
      " 45  hand_0_landmark_20_x  959 non-null    int64  \n",
      " 46  hand_0_landmark_20_y  959 non-null    int64  \n",
      " 47  hand_1_type           34 non-null     object \n",
      " 48  hand_1_landmark_0_x   34 non-null     float64\n",
      " 49  hand_1_landmark_0_y   34 non-null     float64\n",
      " 50  hand_1_landmark_1_x   34 non-null     float64\n",
      " 51  hand_1_landmark_1_y   34 non-null     float64\n",
      " 52  hand_1_landmark_2_x   34 non-null     float64\n",
      " 53  hand_1_landmark_2_y   34 non-null     float64\n",
      " 54  hand_1_landmark_3_x   34 non-null     float64\n",
      " 55  hand_1_landmark_3_y   34 non-null     float64\n",
      " 56  hand_1_landmark_4_x   34 non-null     float64\n",
      " 57  hand_1_landmark_4_y   34 non-null     float64\n",
      " 58  hand_1_landmark_5_x   34 non-null     float64\n",
      " 59  hand_1_landmark_5_y   34 non-null     float64\n",
      " 60  hand_1_landmark_6_x   34 non-null     float64\n",
      " 61  hand_1_landmark_6_y   34 non-null     float64\n",
      " 62  hand_1_landmark_7_x   34 non-null     float64\n",
      " 63  hand_1_landmark_7_y   34 non-null     float64\n",
      " 64  hand_1_landmark_8_x   34 non-null     float64\n",
      " 65  hand_1_landmark_8_y   34 non-null     float64\n",
      " 66  hand_1_landmark_9_x   34 non-null     float64\n",
      " 67  hand_1_landmark_9_y   34 non-null     float64\n",
      " 68  hand_1_landmark_10_x  34 non-null     float64\n",
      " 69  hand_1_landmark_10_y  34 non-null     float64\n",
      " 70  hand_1_landmark_11_x  34 non-null     float64\n",
      " 71  hand_1_landmark_11_y  34 non-null     float64\n",
      " 72  hand_1_landmark_12_x  34 non-null     float64\n",
      " 73  hand_1_landmark_12_y  34 non-null     float64\n",
      " 74  hand_1_landmark_13_x  34 non-null     float64\n",
      " 75  hand_1_landmark_13_y  34 non-null     float64\n",
      " 76  hand_1_landmark_14_x  34 non-null     float64\n",
      " 77  hand_1_landmark_14_y  34 non-null     float64\n",
      " 78  hand_1_landmark_15_x  34 non-null     float64\n",
      " 79  hand_1_landmark_15_y  34 non-null     float64\n",
      " 80  hand_1_landmark_16_x  34 non-null     float64\n",
      " 81  hand_1_landmark_16_y  34 non-null     float64\n",
      " 82  hand_1_landmark_17_x  34 non-null     float64\n",
      " 83  hand_1_landmark_17_y  34 non-null     float64\n",
      " 84  hand_1_landmark_18_x  34 non-null     float64\n",
      " 85  hand_1_landmark_18_y  34 non-null     float64\n",
      " 86  hand_1_landmark_19_x  34 non-null     float64\n",
      " 87  hand_1_landmark_19_y  34 non-null     float64\n",
      " 88  hand_1_landmark_20_x  34 non-null     float64\n",
      " 89  hand_1_landmark_20_y  34 non-null     float64\n",
      "dtypes: float64(42), int64(44), object(4)\n",
      "memory usage: 674.4+ KB\n",
      "None\n",
      "\n",
      "Gesture distribution:\n",
      "gesture_name\n",
      "two      255\n",
      "fist     251\n",
      "point    246\n",
      "palm     207\n",
      "Name: count, dtype: int64\n",
      "\n",
      "Hand type distribution:\n",
      "hand_0_type\n",
      "Right    537\n",
      "Left     422\n",
      "Name: count, dtype: int64\n",
      "\n",
      "Number of hands distribution:\n",
      "num_hands\n",
      "1    925\n",
      "2     34\n",
      "Name: count, dtype: int64\n"
     ]
    }
   ],
   "source": [
    "# Đường dẫn đến dataset\n",
    "dataset_path = 'dataset/hand_gestures_dataset.csv'\n",
    "\n",
    "# Load dataset\n",
    "print(\"Loading dataset...\")\n",
    "df = pd.read_csv(dataset_path)\n",
    "\n",
    "print(f\"Dataset shape: {df.shape}\")\n",
    "print(f\"Columns: {len(df.columns)}\")\n",
    "print(\"\\nFirst few rows:\")\n",
    "print(df.head())\n",
    "\n",
    "print(\"\\nDataset info:\")\n",
    "print(df.info())\n",
    "\n",
    "print(\"\\nGesture distribution:\")\n",
    "print(df['gesture_name'].value_counts())\n",
    "\n",
    "print(\"\\nHand type distribution:\")\n",
    "print(df['hand_0_type'].value_counts())\n",
    "\n",
    "print(\"\\nNumber of hands distribution:\")\n",
    "print(df['num_hands'].value_counts())"
   ]
  },
  {
   "cell_type": "code",
   "execution_count": 15,
   "id": "5159bb42",
   "metadata": {},
   "outputs": [
    {
     "data": {
      "image/png": "[encoded data removed]",
      "text/plain": [
       "<Figure size 1200x400 with 2 Axes>"
      ]
     },
     "metadata": {},
     "output_type": "display_data"
    },
    {
     "name": "stdout",
     "output_type": "stream",
     "text": [
      "\n",
      "Dataset Summary:\n",
      "Total samples: 959\n",
      "Number of gestures: 4\n",
      "Gesture classes: ['two', 'fist', 'point', 'palm']\n",
      "Missing values: 39775\n"
     ]
    }
   ],
   "source": [
    "# Visualize gesture distribution\n",
    "plt.figure(figsize=(12, 4))\n",
    "\n",
    "plt.subplot(1, 2, 1)\n",
    "gesture_counts = df['gesture_name'].value_counts()\n",
    "plt.pie(gesture_counts.values, labels=gesture_counts.index, autopct='%1.1f%%')\n",
    "plt.title('Gesture Distribution')\n",
    "\n",
    "plt.subplot(1, 2, 2)\n",
    "plt.bar(gesture_counts.index, gesture_counts.values)\n",
    "plt.title('Gesture Counts')\n",
    "plt.xlabel('Gesture')\n",
    "plt.ylabel('Count')\n",
    "plt.xticks(rotation=45)\n",
    "\n",
    "plt.tight_layout()\n",
    "plt.show()\n",
    "\n",
    "print(f\"\\nDataset Summary:\")\n",
    "print(f\"Total samples: {len(df)}\")\n",
    "print(f\"Number of gestures: {df['gesture_name'].nunique()}\")\n",
    "print(f\"Gesture classes: {list(df['gesture_name'].unique())}\")\n",
    "print(f\"Missing values: {df.isnull().sum().sum()}\")"
   ]
  },
  {
   "cell_type": "markdown",
   "id": "6c670893",
   "metadata": {},
   "source": [
    "## 3. Data Preprocessing\n",
    "\n",
    "Xử lý dữ liệu để chuẩn bị cho việc training model. Chúng ta sẽ:\n",
    "- Lọc ra chỉ các sample có 1 tay (đơn giản hóa)\n",
    "- Extract tọa độ x,y của 21 landmarks\n",
    "- Normalize dữ liệu\n",
    "- Encode labels"
   ]
  },
  {
   "cell_type": "code",
   "execution_count": 16,
   "id": "8ff1b89b",
   "metadata": {},
   "outputs": [
    {
     "name": "stdout",
     "output_type": "stream",
     "text": [
      "Filtered dataset shape: (925, 90)\n",
      "Remaining gestures: gesture_name\n",
      "fist     245\n",
      "point    239\n",
      "two      234\n",
      "palm     207\n",
      "Name: count, dtype: int64\n",
      "Extracting hand landmarks...\n",
      "Feature matrix shape: (925, 42)\n",
      "Labels shape: (925,)\n",
      "Feature range - min: -32.00, max: 691.00\n"
     ]
    }
   ],
   "source": [
    "# Filter data - chỉ lấy samples có 1 tay để đơn giản\n",
    "df_filtered = df[df['num_hands'] == 1].copy()\n",
    "print(f\"Filtered dataset shape: {df_filtered.shape}\")\n",
    "print(f\"Remaining gestures: {df_filtered['gesture_name'].value_counts()}\")\n",
    "\n",
    "# Tạo function để extract hand landmarks\n",
    "def extract_hand_landmarks(row):\n",
    "    \"\"\"Extract x,y coordinates of 21 hand landmarks\"\"\"\n",
    "    landmarks = []\n",
    "    \n",
    "    # Extract 21 landmarks (0-20) for hand_0\n",
    "    for i in range(21):\n",
    "        x_col = f'hand_0_landmark_{i}_x'\n",
    "        y_col = f'hand_0_landmark_{i}_y'\n",
    "        \n",
    "        if x_col in row and y_col in row:\n",
    "            landmarks.extend([row[x_col], row[y_col]])\n",
    "        else:\n",
    "            # Fill missing landmarks with 0\n",
    "            landmarks.extend([0.0, 0.0])\n",
    "    \n",
    "    return np.array(landmarks)\n",
    "\n",
    "# Extract features (42 features: 21 landmarks × 2 coordinates)\n",
    "print(\"Extracting hand landmarks...\")\n",
    "X_data = []\n",
    "y_data = []\n",
    "\n",
    "for idx, row in df_filtered.iterrows():\n",
    "    landmarks = extract_hand_landmarks(row)\n",
    "    if len(landmarks) == 42:  # Ensure we have all 21 landmarks\n",
    "        X_data.append(landmarks)\n",
    "        y_data.append(row['gesture_name'])\n",
    "\n",
    "X_data = np.array(X_data)\n",
    "y_data = np.array(y_data)\n",
    "\n",
    "print(f\"Feature matrix shape: {X_data.shape}\")\n",
    "print(f\"Labels shape: {y_data.shape}\")\n",
    "print(f\"Feature range - min: {X_data.min():.2f}, max: {X_data.max():.2f}\")"
   ]
  },
  {
   "cell_type": "markdown",
   "id": "60ad1c0d",
   "metadata": {},
   "source": [
    "## 4. Feature Engineering và Normalization"
   ]
  },
  {
   "cell_type": "code",
   "execution_count": 17,
   "id": "b320881b",
   "metadata": {},
   "outputs": [
    {
     "name": "stdout",
     "output_type": "stream",
     "text": [
      "Normalized feature range - min: 0.00, max: 1.00\n",
      "Original labels: ['fist' 'palm' 'point' 'two']\n",
      "Encoded labels: [0 1 2 3]\n",
      "Number of classes: 4\n",
      "Scaler and label encoder saved!\n"
     ]
    },
    {
     "data": {
      "image/png": "[encoded data removed]",
      "text/plain": [
       "<Figure size 1000x400 with 4 Axes>"
      ]
     },
     "metadata": {},
     "output_type": "display_data"
    }
   ],
   "source": [
    "# Normalize features using MinMaxScaler\n",
    "scaler = MinMaxScaler()\n",
    "X_normalized = scaler.fit_transform(X_data)\n",
    "\n",
    "print(f\"Normalized feature range - min: {X_normalized.min():.2f}, max: {X_normalized.max():.2f}\")\n",
    "\n",
    "# Encode labels\n",
    "label_encoder = LabelEncoder()\n",
    "y_encoded = label_encoder.fit_transform(y_data)\n",
    "\n",
    "print(f\"Original labels: {label_encoder.classes_}\")\n",
    "print(f\"Encoded labels: {np.unique(y_encoded)}\")\n",
    "print(f\"Number of classes: {len(label_encoder.classes_)}\")\n",
    "\n",
    "# Save scaler and label encoder for later use\n",
    "os.makedirs('model/neural_network', exist_ok=True)\n",
    "\n",
    "with open('model/neural_network/scaler.pkl', 'wb') as f:\n",
    "    pickle.dump(scaler, f)\n",
    "\n",
    "with open('model/neural_network/label_encoder.pkl', 'wb') as f:\n",
    "    pickle.dump(label_encoder, f)\n",
    "\n",
    "print(\"Scaler and label encoder saved!\")\n",
    "\n",
    "# Visualize a sample of landmarks\n",
    "plt.figure(figsize=(10, 4))\n",
    "\n",
    "# Plot original vs normalized features for first sample\n",
    "sample_idx = 0\n",
    "original_landmarks = X_data[sample_idx].reshape(21, 2)\n",
    "normalized_landmarks = X_normalized[sample_idx].reshape(21, 2)\n",
    "\n",
    "plt.subplot(1, 2, 1)\n",
    "plt.scatter(original_landmarks[:, 0], original_landmarks[:, 1], c=range(21), cmap='viridis')\n",
    "plt.title(f'Original Landmarks - {y_data[sample_idx]}')\n",
    "plt.xlabel('X coordinate')\n",
    "plt.ylabel('Y coordinate')\n",
    "plt.colorbar(label='Landmark ID')\n",
    "\n",
    "plt.subplot(1, 2, 2)\n",
    "plt.scatter(normalized_landmarks[:, 0], normalized_landmarks[:, 1], c=range(21), cmap='viridis')\n",
    "plt.title(f'Normalized Landmarks - {y_data[sample_idx]}')\n",
    "plt.xlabel('Normalized X')\n",
    "plt.ylabel('Normalized Y')\n",
    "plt.colorbar(label='Landmark ID')\n",
    "\n",
    "plt.tight_layout()\n",
    "plt.show()"
   ]
  },
  {
   "cell_type": "markdown",
   "id": "35f5b761",
   "metadata": {},
   "source": [
    "## 5. Train-Test Split"
   ]
  },
  {
   "cell_type": "code",
   "execution_count": 18,
   "id": "df92d7cf",
   "metadata": {},
   "outputs": [
    {
     "name": "stdout",
     "output_type": "stream",
     "text": [
      "Using stratified split\n",
      "Training set shape: (693, 42)\n",
      "Test set shape: (232, 42)\n",
      "Training labels shape: (693,)\n",
      "Test labels shape: (232,)\n",
      "\n",
      "Class distribution in training set:\n",
      "  fist (class 0): 184 samples\n",
      "  palm (class 1): 155 samples\n",
      "  point (class 2): 179 samples\n",
      "  two (class 3): 175 samples\n",
      "\n",
      "Class distribution in test set:\n",
      "  fist (class 0): 61 samples\n",
      "  palm (class 1): 52 samples\n",
      "  point (class 2): 60 samples\n",
      "  two (class 3): 59 samples\n"
     ]
    }
   ],
   "source": [
    "# Split data into train and test sets\n",
    "try:\n",
    "    # Try stratified split first\n",
    "    X_train, X_test, y_train, y_test = train_test_split(\n",
    "        X_normalized, y_encoded, \n",
    "        test_size=0.25, \n",
    "        random_state=RANDOM_SEED,\n",
    "        stratify=y_encoded\n",
    "    )\n",
    "    print(\"Using stratified split\")\n",
    "except ValueError as e:\n",
    "    print(f\"Stratified split failed: {e}\")\n",
    "    print(\"Using simple random split\")\n",
    "    # Fallback to simple random split\n",
    "    X_train, X_test, y_train, y_test = train_test_split(\n",
    "        X_normalized, y_encoded, \n",
    "        test_size=0.25, \n",
    "        random_state=RANDOM_SEED\n",
    "    )\n",
    "\n",
    "print(f\"Training set shape: {X_train.shape}\")\n",
    "print(f\"Test set shape: {X_test.shape}\")\n",
    "print(f\"Training labels shape: {y_train.shape}\")\n",
    "print(f\"Test labels shape: {y_test.shape}\")\n",
    "\n",
    "# Check class distribution in train and test sets\n",
    "print(\"\\nClass distribution in training set:\")\n",
    "train_unique, train_counts = np.unique(y_train, return_counts=True)\n",
    "for cls, count in zip(train_unique, train_counts):\n",
    "    gesture_name = label_encoder.inverse_transform([cls])[0]\n",
    "    print(f\"  {gesture_name} (class {cls}): {count} samples\")\n",
    "\n",
    "print(\"\\nClass distribution in test set:\")\n",
    "test_unique, test_counts = np.unique(y_test, return_counts=True)\n",
    "for cls, count in zip(test_unique, test_counts):\n",
    "    gesture_name = label_encoder.inverse_transform([cls])[0]\n",
    "    print(f\"  {gesture_name} (class {cls}): {count} samples\")"
   ]
  },
  {
   "cell_type": "markdown",
   "id": "a83012c4",
   "metadata": {},
   "source": [
    "## 6. Model Architecture Setup\n",
    "\n",
    "Tạo neural network architecture dựa trên project mẫu, được điều chỉnh cho dataset của chúng ta."
   ]
  },
  {
   "cell_type": "code",
   "execution_count": 19,
   "id": "5e5fd30a",
   "metadata": {},
   "outputs": [
    {
     "name": "stdout",
     "output_type": "stream",
     "text": [
      "Input size: 42\n",
      "Number of classes: 4\n",
      "Classes: ['fist' 'palm' 'point' 'two']\n"
     ]
    },
    {
     "data": {
      "text/html": [
       "<pre style=\"white-space:pre;overflow-x:auto;line-height:normal;font-family:Menlo,'DejaVu Sans Mono',consolas,'Courier New',monospace\"><span style=\"font-weight: bold\">Model: \"sequential_1\"</span>\n",
       "</pre>\n"
      ],
      "text/plain": [
       "\u001b[1mModel: \"sequential_1\"\u001b[0m\n"
      ]
     },
     "metadata": {},
     "output_type": "display_data"
    },
    {
     "data": {
      "text/html": [
       "<pre style=\"white-space:pre;overflow-x:auto;line-height:normal;font-family:Menlo,'DejaVu Sans Mono',consolas,'Courier New',monospace\">┏━━━━━━━━━━━━━━━━━━━━━━━━━━━━━━━━━┳━━━━━━━━━━━━━━━━━━━━━━━━┳━━━━━━━━━━━━━━━┓\n",
       "┃<span style=\"font-weight: bold\"> Layer (type)                    </span>┃<span style=\"font-weight: bold\"> Output Shape           </span>┃<span style=\"font-weight: bold\">       Param # </span>┃\n",
       "┡━━━━━━━━━━━━━━━━━━━━━━━━━━━━━━━━━╇━━━━━━━━━━━━━━━━━━━━━━━━╇━━━━━━━━━━━━━━━┩\n",
       "│ dropout_2 (<span style=\"color: #0087ff; text-decoration-color: #0087ff\">Dropout</span>)             │ (<span style=\"color: #00d7ff; text-decoration-color: #00d7ff\">None</span>, <span style=\"color: #00af00; text-decoration-color: #00af00\">42</span>)             │             <span style=\"color: #00af00; text-decoration-color: #00af00\">0</span> │\n",
       "├─────────────────────────────────┼────────────────────────┼───────────────┤\n",
       "│ dense_3 (<span style=\"color: #0087ff; text-decoration-color: #0087ff\">Dense</span>)                 │ (<span style=\"color: #00d7ff; text-decoration-color: #00d7ff\">None</span>, <span style=\"color: #00af00; text-decoration-color: #00af00\">20</span>)             │           <span style=\"color: #00af00; text-decoration-color: #00af00\">860</span> │\n",
       "├─────────────────────────────────┼────────────────────────┼───────────────┤\n",
       "│ dropout_3 (<span style=\"color: #0087ff; text-decoration-color: #0087ff\">Dropout</span>)             │ (<span style=\"color: #00d7ff; text-decoration-color: #00d7ff\">None</span>, <span style=\"color: #00af00; text-decoration-color: #00af00\">20</span>)             │             <span style=\"color: #00af00; text-decoration-color: #00af00\">0</span> │\n",
       "├─────────────────────────────────┼────────────────────────┼───────────────┤\n",
       "│ dense_4 (<span style=\"color: #0087ff; text-decoration-color: #0087ff\">Dense</span>)                 │ (<span style=\"color: #00d7ff; text-decoration-color: #00d7ff\">None</span>, <span style=\"color: #00af00; text-decoration-color: #00af00\">10</span>)             │           <span style=\"color: #00af00; text-decoration-color: #00af00\">210</span> │\n",
       "├─────────────────────────────────┼────────────────────────┼───────────────┤\n",
       "│ dense_5 (<span style=\"color: #0087ff; text-decoration-color: #0087ff\">Dense</span>)                 │ (<span style=\"color: #00d7ff; text-decoration-color: #00d7ff\">None</span>, <span style=\"color: #00af00; text-decoration-color: #00af00\">4</span>)              │            <span style=\"color: #00af00; text-decoration-color: #00af00\">44</span> │\n",
       "└─────────────────────────────────┴────────────────────────┴───────────────┘\n",
       "</pre>\n"
      ],
      "text/plain": [
       "┏━━━━━━━━━━━━━━━━━━━━━━━━━━━━━━━━━┳━━━━━━━━━━━━━━━━━━━━━━━━┳━━━━━━━━━━━━━━━┓\n",
       "┃\u001b[1m \u001b[0m\u001b[1mLayer (type)                   \u001b[0m\u001b[1m \u001b[0m┃\u001b[1m \u001b[0m\u001b[1mOutput Shape          \u001b[0m\u001b[1m \u001b[0m┃\u001b[1m \u001b[0m\u001b[1m      Param #\u001b[0m\u001b[1m \u001b[0m┃\n",
       "┡━━━━━━━━━━━━━━━━━━━━━━━━━━━━━━━━━╇━━━━━━━━━━━━━━━━━━━━━━━━╇━━━━━━━━━━━━━━━┩\n",
       "│ dropout_2 (\u001b[38;5;33mDropout\u001b[0m)             │ (\u001b[38;5;45mNone\u001b[0m, \u001b[38;5;34m42\u001b[0m)             │             \u001b[38;5;34m0\u001b[0m │\n",
       "├─────────────────────────────────┼────────────────────────┼───────────────┤\n",
       "│ dense_3 (\u001b[38;5;33mDense\u001b[0m)                 │ (\u001b[38;5;45mNone\u001b[0m, \u001b[38;5;34m20\u001b[0m)             │           \u001b[38;5;34m860\u001b[0m │\n",
       "├─────────────────────────────────┼────────────────────────┼───────────────┤\n",
       "│ dropout_3 (\u001b[38;5;33mDropout\u001b[0m)             │ (\u001b[38;5;45mNone\u001b[0m, \u001b[38;5;34m20\u001b[0m)             │             \u001b[38;5;34m0\u001b[0m │\n",
       "├─────────────────────────────────┼────────────────────────┼───────────────┤\n",
       "│ dense_4 (\u001b[38;5;33mDense\u001b[0m)                 │ (\u001b[38;5;45mNone\u001b[0m, \u001b[38;5;34m10\u001b[0m)             │           \u001b[38;5;34m210\u001b[0m │\n",
       "├─────────────────────────────────┼────────────────────────┼───────────────┤\n",
       "│ dense_5 (\u001b[38;5;33mDense\u001b[0m)                 │ (\u001b[38;5;45mNone\u001b[0m, \u001b[38;5;34m4\u001b[0m)              │            \u001b[38;5;34m44\u001b[0m │\n",
       "└─────────────────────────────────┴────────────────────────┴───────────────┘\n"
      ]
     },
     "metadata": {},
     "output_type": "display_data"
    },
    {
     "data": {
      "text/html": [
       "<pre style=\"white-space:pre;overflow-x:auto;line-height:normal;font-family:Menlo,'DejaVu Sans Mono',consolas,'Courier New',monospace\"><span style=\"font-weight: bold\"> Total params: </span><span style=\"color: #00af00; text-decoration-color: #00af00\">1,114</span> (4.35 KB)\n",
       "</pre>\n"
      ],
      "text/plain": [
       "\u001b[1m Total params: \u001b[0m\u001b[38;5;34m1,114\u001b[0m (4.35 KB)\n"
      ]
     },
     "metadata": {},
     "output_type": "display_data"
    },
    {
     "data": {
      "text/html": [
       "<pre style=\"white-space:pre;overflow-x:auto;line-height:normal;font-family:Menlo,'DejaVu Sans Mono',consolas,'Courier New',monospace\"><span style=\"font-weight: bold\"> Trainable params: </span><span style=\"color: #00af00; text-decoration-color: #00af00\">1,114</span> (4.35 KB)\n",
       "</pre>\n"
      ],
      "text/plain": [
       "\u001b[1m Trainable params: \u001b[0m\u001b[38;5;34m1,114\u001b[0m (4.35 KB)\n"
      ]
     },
     "metadata": {},
     "output_type": "display_data"
    },
    {
     "data": {
      "text/html": [
       "<pre style=\"white-space:pre;overflow-x:auto;line-height:normal;font-family:Menlo,'DejaVu Sans Mono',consolas,'Courier New',monospace\"><span style=\"font-weight: bold\"> Non-trainable params: </span><span style=\"color: #00af00; text-decoration-color: #00af00\">0</span> (0.00 B)\n",
       "</pre>\n"
      ],
      "text/plain": [
       "\u001b[1m Non-trainable params: \u001b[0m\u001b[38;5;34m0\u001b[0m (0.00 B)\n"
      ]
     },
     "metadata": {},
     "output_type": "display_data"
    },
    {
     "name": "stdout",
     "output_type": "stream",
     "text": [
      "You must install pydot (`pip install pydot`) for `plot_model` to work.\n",
      "Model architecture saved as model_architecture.png\n"
     ]
    }
   ],
   "source": [
    "# Define model parameters\n",
    "INPUT_SIZE = 42  # 21 landmarks × 2 coordinates\n",
    "NUM_CLASSES = len(label_encoder.classes_)\n",
    "\n",
    "print(f\"Input size: {INPUT_SIZE}\")\n",
    "print(f\"Number of classes: {NUM_CLASSES}\")\n",
    "print(f\"Classes: {label_encoder.classes_}\")\n",
    "\n",
    "# Build neural network model (based on the sample project)\n",
    "model = tf.keras.models.Sequential([\n",
    "    tf.keras.layers.Input((INPUT_SIZE,)),\n",
    "    tf.keras.layers.Dropout(0.2),\n",
    "    tf.keras.layers.Dense(20, activation='relu'),\n",
    "    tf.keras.layers.Dropout(0.4),\n",
    "    tf.keras.layers.Dense(10, activation='relu'),\n",
    "    tf.keras.layers.Dense(NUM_CLASSES, activation='softmax')\n",
    "])\n",
    "\n",
    "# Display model architecture\n",
    "model.summary()\n",
    "\n",
    "# Visualize model architecture\n",
    "tf.keras.utils.plot_model(\n",
    "    model, \n",
    "    to_file='model/neural_network/model_architecture.png',\n",
    "    show_shapes=True, \n",
    "    show_layer_names=True,\n",
    "    dpi=96\n",
    ")\n",
    "\n",
    "print(\"Model architecture saved as model_architecture.png\")"
   ]
  },
  {
   "cell_type": "markdown",
   "id": "fe6a8871",
   "metadata": {},
   "source": [
    "## 7. Model Training"
   ]
  },
  {
   "cell_type": "code",
   "execution_count": 20,
   "id": "3708da0e",
   "metadata": {},
   "outputs": [
    {
     "name": "stdout",
     "output_type": "stream",
     "text": [
      "Model compiled successfully!\n",
      "Starting training...\n"
     ]
    }
   ],
   "source": [
    "# Define paths for saving model\n",
    "model_save_path = 'model/neural_network/hand_gesture_model.h5'\n",
    "checkpoint_path = 'model/neural_network/checkpoints/hand_gesture_model.h5'\n",
    "\n",
    "# Create directories\n",
    "os.makedirs('model/neural_network/checkpoints', exist_ok=True)\n",
    "\n",
    "# Define callbacks\n",
    "callbacks = [\n",
    "    # Model checkpoint - save best model\n",
    "    tf.keras.callbacks.ModelCheckpoint(\n",
    "        checkpoint_path,\n",
    "        monitor='val_accuracy',\n",
    "        save_best_only=True,\n",
    "        save_weights_only=False,\n",
    "        verbose=1\n",
    "    ),\n",
    "    # Early stopping - stop training if no improvement\n",
    "    tf.keras.callbacks.EarlyStopping(\n",
    "        monitor='val_accuracy',\n",
    "        patience=20,\n",
    "        verbose=1,\n",
    "        restore_best_weights=True\n",
    "    ),\n",
    "    # Reduce learning rate on plateau\n",
    "    tf.keras.callbacks.ReduceLROnPlateau(\n",
    "        monitor='val_loss',\n",
    "        factor=0.5,\n",
    "        patience=10,\n",
    "        verbose=1,\n",
    "        min_lr=1e-7\n",
    "    )\n",
    "]\n",
    "\n",
    "# Compile model\n",
    "model.compile(\n",
    "    optimizer='adam',\n",
    "    loss='sparse_categorical_crossentropy',\n",
    "    metrics=['accuracy']\n",
    ")\n",
    "\n",
    "print(\"Model compiled successfully!\")\n",
    "print(\"Starting training...\")"
   ]
  },
  {
   "cell_type": "code",
   "execution_count": 21,
   "id": "b87d5453",
   "metadata": {},
   "outputs": [
    {
     "name": "stdout",
     "output_type": "stream",
     "text": [
      "Epoch 1/1000\n",
      "\u001b[1m 1/22\u001b[0m \u001b[37m━━━━━━━━━━━━━━━━━━━━\u001b[0m \u001b[1m12s\u001b[0m 614ms/step - accuracy: 0.2500 - loss: 1.4397\n",
      "Epoch 1: val_accuracy improved from None to 0.37500, saving model to model/neural_network/checkpoints/hand_gesture_model.h5\n"
     ]
    },
    {
     "name": "stderr",
     "output_type": "stream",
     "text": [
      "WARNING:absl:You are saving your model as an HDF5 file via `model.save()` or `keras.saving.save_model(model)`. This file format is considered legacy. We recommend using instead the native Keras format, e.g. `model.save('my_model.keras')` or `keras.saving.save_model(model, 'my_model.keras')`. \n"
     ]
    },
    {
     "name": "stdout",
     "output_type": "stream",
     "text": [
      "\u001b[1m22/22\u001b[0m \u001b[32m━━━━━━━━━━━━━━━━━━━━\u001b[0m\u001b[37m\u001b[0m \u001b[1m1s\u001b[0m 10ms/step - accuracy: 0.2915 - loss: 1.3977 - val_accuracy: 0.3750 - val_loss: 1.3686 - learning_rate: 0.0010\n",
      "Epoch 2/1000\n",
      "\u001b[1m 1/22\u001b[0m \u001b[37m━━━━━━━━━━━━━━━━━━━━\u001b[0m \u001b[1m0s\u001b[0m 26ms/step - accuracy: 0.3438 - loss: 1.3765\n",
      "Epoch 2: val_accuracy improved from 0.37500 to 0.47414, saving model to model/neural_network/checkpoints/hand_gesture_model.h5\n"
     ]
    },
    {
     "name": "stderr",
     "output_type": "stream",
     "text": [
      "WARNING:absl:You are saving your model as an HDF5 file via `model.save()` or `keras.saving.save_model(model)`. This file format is considered legacy. We recommend using instead the native Keras format, e.g. `model.save('my_model.keras')` or `keras.saving.save_model(model, 'my_model.keras')`. \n"
     ]
    },
    {
     "name": "stdout",
     "output_type": "stream",
     "text": [
      "\u001b[1m22/22\u001b[0m \u001b[32m━━━━━━━━━━━━━━━━━━━━\u001b[0m\u001b[37m\u001b[0m \u001b[1m0s\u001b[0m 5ms/step - accuracy: 0.2828 - loss: 1.3784 - val_accuracy: 0.4741 - val_loss: 1.3410 - learning_rate: 0.0010\n",
      "Epoch 3/1000\n",
      "\u001b[1m 1/22\u001b[0m \u001b[37m━━━━━━━━━━━━━━━━━━━━\u001b[0m \u001b[1m0s\u001b[0m 26ms/step - accuracy: 0.2188 - loss: 1.4052\n",
      "Epoch 3: val_accuracy improved from 0.47414 to 0.59483, saving model to model/neural_network/checkpoints/hand_gesture_model.h5\n"
     ]
    },
    {
     "name": "stderr",
     "output_type": "stream",
     "text": [
      "WARNING:absl:You are saving your model as an HDF5 file via `model.save()` or `keras.saving.save_model(model)`. This file format is considered legacy. We recommend using instead the native Keras format, e.g. `model.save('my_model.keras')` or `keras.saving.save_model(model, 'my_model.keras')`. \n"
     ]
    },
    {
     "name": "stdout",
     "output_type": "stream",
     "text": [
      "\u001b[1m22/22\u001b[0m \u001b[32m━━━━━━━━━━━━━━━━━━━━\u001b[0m\u001b[37m\u001b[0m \u001b[1m0s\u001b[0m 4ms/step - accuracy: 0.3117 - loss: 1.3713 - val_accuracy: 0.5948 - val_loss: 1.3279 - learning_rate: 0.0010\n",
      "Epoch 4/1000\n",
      "\u001b[1m 1/22\u001b[0m \u001b[37m━━━━━━━━━━━━━━━━━━━━\u001b[0m \u001b[1m0s\u001b[0m 26ms/step - accuracy: 0.3125 - loss: 1.3557\n",
      "Epoch 4: val_accuracy did not improve from 0.59483\n",
      "\u001b[1m22/22\u001b[0m \u001b[32m━━━━━━━━━━━━━━━━━━━━\u001b[0m\u001b[37m\u001b[0m \u001b[1m0s\u001b[0m 4ms/step - accuracy: 0.3175 - loss: 1.3480 - val_accuracy: 0.5474 - val_loss: 1.3177 - learning_rate: 0.0010\n",
      "Epoch 5/1000\n",
      "\u001b[1m 1/22\u001b[0m \u001b[37m━━━━━━━━━━━━━━━━━━━━\u001b[0m \u001b[1m0s\u001b[0m 28ms/step - accuracy: 0.4375 - loss: 1.3101\n",
      "Epoch 5: val_accuracy did not improve from 0.59483\n",
      "\u001b[1m22/22\u001b[0m \u001b[32m━━━━━━━━━━━━━━━━━━━━\u001b[0m\u001b[37m\u001b[0m \u001b[1m0s\u001b[0m 4ms/step - accuracy: 0.3319 - loss: 1.3506 - val_accuracy: 0.5431 - val_loss: 1.3028 - learning_rate: 0.0010\n",
      "Epoch 6/1000\n",
      "\u001b[1m 1/22\u001b[0m \u001b[37m━━━━━━━━━━━━━━━━━━━━\u001b[0m \u001b[1m0s\u001b[0m 23ms/step - accuracy: 0.3125 - loss: 1.3468\n",
      "Epoch 6: val_accuracy did not improve from 0.59483\n",
      "\u001b[1m22/22\u001b[0m \u001b[32m━━━━━━━━━━━━━━━━━━━━\u001b[0m\u001b[37m\u001b[0m \u001b[1m0s\u001b[0m 4ms/step - accuracy: 0.3795 - loss: 1.3256 - val_accuracy: 0.4957 - val_loss: 1.2807 - learning_rate: 0.0010\n",
      "Epoch 7/1000\n",
      "\u001b[1m 1/22\u001b[0m \u001b[37m━━━━━━━━━━━━━━━━━━━━\u001b[0m \u001b[1m0s\u001b[0m 24ms/step - accuracy: 0.4375 - loss: 1.3250\n",
      "Epoch 7: val_accuracy did not improve from 0.59483\n",
      "\u001b[1m22/22\u001b[0m \u001b[32m━━━━━━━━━━━━━━━━━━━━\u001b[0m\u001b[37m\u001b[0m \u001b[1m0s\u001b[0m 4ms/step - accuracy: 0.3997 - loss: 1.3114 - val_accuracy: 0.4828 - val_loss: 1.2613 - learning_rate: 0.0010\n",
      "Epoch 8/1000\n",
      "\u001b[1m 1/22\u001b[0m \u001b[37m━━━━━━━━━━━━━━━━━━━━\u001b[0m \u001b[1m0s\u001b[0m 23ms/step - accuracy: 0.3750 - loss: 1.3199\n",
      "Epoch 8: val_accuracy improved from 0.59483 to 0.60345, saving model to model/neural_network/checkpoints/hand_gesture_model.h5\n"
     ]
    },
    {
     "name": "stderr",
     "output_type": "stream",
     "text": [
      "WARNING:absl:You are saving your model as an HDF5 file via `model.save()` or `keras.saving.save_model(model)`. This file format is considered legacy. We recommend using instead the native Keras format, e.g. `model.save('my_model.keras')` or `keras.saving.save_model(model, 'my_model.keras')`. \n"
     ]
    },
    {
     "name": "stdout",
     "output_type": "stream",
     "text": [
      "\u001b[1m22/22\u001b[0m \u001b[32m━━━━━━━━━━━━━━━━━━━━\u001b[0m\u001b[37m\u001b[0m \u001b[1m0s\u001b[0m 5ms/step - accuracy: 0.4055 - loss: 1.2992 - val_accuracy: 0.6034 - val_loss: 1.2360 - learning_rate: 0.0010\n",
      "Epoch 9/1000\n",
      "\u001b[1m 1/22\u001b[0m \u001b[37m━━━━━━━━━━━━━━━━━━━━\u001b[0m \u001b[1m0s\u001b[0m 23ms/step - accuracy: 0.3125 - loss: 1.3328\n",
      "Epoch 9: val_accuracy improved from 0.60345 to 0.73276, saving model to model/neural_network/checkpoints/hand_gesture_model.h5\n"
     ]
    },
    {
     "name": "stderr",
     "output_type": "stream",
     "text": [
      "WARNING:absl:You are saving your model as an HDF5 file via `model.save()` or `keras.saving.save_model(model)`. This file format is considered legacy. We recommend using instead the native Keras format, e.g. `model.save('my_model.keras')` or `keras.saving.save_model(model, 'my_model.keras')`. \n"
     ]
    },
    {
     "name": "stdout",
     "output_type": "stream",
     "text": [
      "\u001b[1m22/22\u001b[0m \u001b[32m━━━━━━━━━━━━━━━━━━━━\u001b[0m\u001b[37m\u001b[0m \u001b[1m0s\u001b[0m 5ms/step - accuracy: 0.3694 - loss: 1.3190 - val_accuracy: 0.7328 - val_loss: 1.1959 - learning_rate: 0.0010\n",
      "Epoch 10/1000\n",
      "\u001b[1m 1/22\u001b[0m \u001b[37m━━━━━━━━━━━━━━━━━━━━\u001b[0m \u001b[1m0s\u001b[0m 25ms/step - accuracy: 0.5625 - loss: 1.2288\n",
      "Epoch 10: val_accuracy improved from 0.73276 to 0.74138, saving model to model/neural_network/checkpoints/hand_gesture_model.h5\n"
     ]
    },
    {
     "name": "stderr",
     "output_type": "stream",
     "text": [
      "WARNING:absl:You are saving your model as an HDF5 file via `model.save()` or `keras.saving.save_model(model)`. This file format is considered legacy. We recommend using instead the native Keras format, e.g. `model.save('my_model.keras')` or `keras.saving.save_model(model, 'my_model.keras')`. \n"
     ]
    },
    {
     "name": "stdout",
     "output_type": "stream",
     "text": [
      "\u001b[1m22/22\u001b[0m \u001b[32m━━━━━━━━━━━━━━━━━━━━\u001b[0m\u001b[37m\u001b[0m \u001b[1m0s\u001b[0m 5ms/step - accuracy: 0.4517 - loss: 1.2566 - val_accuracy: 0.7414 - val_loss: 1.1598 - learning_rate: 0.0010\n",
      "Epoch 11/1000\n",
      "\u001b[1m 1/22\u001b[0m \u001b[37m━━━━━━━━━━━━━━━━━━━━\u001b[0m \u001b[1m0s\u001b[0m 24ms/step - accuracy: 0.4688 - loss: 1.2626\n",
      "Epoch 11: val_accuracy improved from 0.74138 to 0.77586, saving model to model/neural_network/checkpoints/hand_gesture_model.h5\n"
     ]
    },
    {
     "name": "stderr",
     "output_type": "stream",
     "text": [
      "WARNING:absl:You are saving your model as an HDF5 file via `model.save()` or `keras.saving.save_model(model)`. This file format is considered legacy. We recommend using instead the native Keras format, e.g. `model.save('my_model.keras')` or `keras.saving.save_model(model, 'my_model.keras')`. \n"
     ]
    },
    {
     "name": "stdout",
     "output_type": "stream",
     "text": [
      "\u001b[1m22/22\u001b[0m \u001b[32m━━━━━━━━━━━━━━━━━━━━\u001b[0m\u001b[37m\u001b[0m \u001b[1m0s\u001b[0m 5ms/step - accuracy: 0.4358 - loss: 1.2566 - val_accuracy: 0.7759 - val_loss: 1.1385 - learning_rate: 0.0010\n",
      "Epoch 12/1000\n",
      "\u001b[1m 1/22\u001b[0m \u001b[37m━━━━━━━━━━━━━━━━━━━━\u001b[0m \u001b[1m0s\u001b[0m 24ms/step - accuracy: 0.5000 - loss: 1.2279\n",
      "Epoch 12: val_accuracy did not improve from 0.77586\n",
      "\u001b[1m22/22\u001b[0m \u001b[32m━━━━━━━━━━━━━━━━━━━━\u001b[0m\u001b[37m\u001b[0m \u001b[1m0s\u001b[0m 4ms/step - accuracy: 0.4589 - loss: 1.2443 - val_accuracy: 0.7543 - val_loss: 1.1197 - learning_rate: 0.0010\n",
      "Epoch 13/1000\n",
      "\u001b[1m 1/22\u001b[0m \u001b[37m━━━━━━━━━━━━━━━━━━━━\u001b[0m \u001b[1m0s\u001b[0m 27ms/step - accuracy: 0.6562 - loss: 1.1813\n",
      "Epoch 13: val_accuracy did not improve from 0.77586\n",
      "\u001b[1m22/22\u001b[0m \u001b[32m━━━━━━━━━━━━━━━━━━━━\u001b[0m\u001b[37m\u001b[0m \u001b[1m0s\u001b[0m 4ms/step - accuracy: 0.4618 - loss: 1.2322 - val_accuracy: 0.7629 - val_loss: 1.0963 - learning_rate: 0.0010\n",
      "Epoch 14/1000\n",
      "\u001b[1m 1/22\u001b[0m \u001b[37m━━━━━━━━━━━━━━━━━━━━\u001b[0m \u001b[1m0s\u001b[0m 24ms/step - accuracy: 0.3750 - loss: 1.3666\n",
      "Epoch 14: val_accuracy improved from 0.77586 to 0.81466, saving model to model/neural_network/checkpoints/hand_gesture_model.h5\n"
     ]
    },
    {
     "name": "stderr",
     "output_type": "stream",
     "text": [
      "WARNING:absl:You are saving your model as an HDF5 file via `model.save()` or `keras.saving.save_model(model)`. This file format is considered legacy. We recommend using instead the native Keras format, e.g. `model.save('my_model.keras')` or `keras.saving.save_model(model, 'my_model.keras')`. \n"
     ]
    },
    {
     "name": "stdout",
     "output_type": "stream",
     "text": [
      "\u001b[1m22/22\u001b[0m \u001b[32m━━━━━━━━━━━━━━━━━━━━\u001b[0m\u001b[37m\u001b[0m \u001b[1m0s\u001b[0m 5ms/step - accuracy: 0.4618 - loss: 1.2190 - val_accuracy: 0.8147 - val_loss: 1.0467 - learning_rate: 0.0010\n",
      "Epoch 15/1000\n",
      "\u001b[1m 1/22\u001b[0m \u001b[37m━━━━━━━━━━━━━━━━━━━━\u001b[0m \u001b[1m0s\u001b[0m 23ms/step - accuracy: 0.5312 - loss: 1.1550\n",
      "Epoch 15: val_accuracy improved from 0.81466 to 0.84483, saving model to model/neural_network/checkpoints/hand_gesture_model.h5\n"
     ]
    },
    {
     "name": "stderr",
     "output_type": "stream",
     "text": [
      "WARNING:absl:You are saving your model as an HDF5 file via `model.save()` or `keras.saving.save_model(model)`. This file format is considered legacy. We recommend using instead the native Keras format, e.g. `model.save('my_model.keras')` or `keras.saving.save_model(model, 'my_model.keras')`. \n"
     ]
    },
    {
     "name": "stdout",
     "output_type": "stream",
     "text": [
      "\u001b[1m22/22\u001b[0m \u001b[32m━━━━━━━━━━━━━━━━━━━━\u001b[0m\u001b[37m\u001b[0m \u001b[1m0s\u001b[0m 5ms/step - accuracy: 0.4848 - loss: 1.1775 - val_accuracy: 0.8448 - val_loss: 1.0125 - learning_rate: 0.0010\n",
      "Epoch 16/1000\n",
      "\u001b[1m 1/22\u001b[0m \u001b[37m━━━━━━━━━━━━━━━━━━━━\u001b[0m \u001b[1m0s\u001b[0m 23ms/step - accuracy: 0.5000 - loss: 1.2518\n",
      "Epoch 16: val_accuracy did not improve from 0.84483\n",
      "\u001b[1m22/22\u001b[0m \u001b[32m━━━━━━━━━━━━━━━━━━━━\u001b[0m\u001b[37m\u001b[0m \u001b[1m0s\u001b[0m 4ms/step - accuracy: 0.4719 - loss: 1.1833 - val_accuracy: 0.8147 - val_loss: 0.9841 - learning_rate: 0.0010\n",
      "Epoch 17/1000\n",
      "\u001b[1m 1/22\u001b[0m \u001b[37m━━━━━━━━━━━━━━━━━━━━\u001b[0m \u001b[1m0s\u001b[0m 24ms/step - accuracy: 0.5312 - loss: 1.1919\n",
      "Epoch 17: val_accuracy did not improve from 0.84483\n",
      "\u001b[1m22/22\u001b[0m \u001b[32m━━━━━━━━━━━━━━━━━━━━\u001b[0m\u001b[37m\u001b[0m \u001b[1m0s\u001b[0m 4ms/step - accuracy: 0.5022 - loss: 1.1423 - val_accuracy: 0.8276 - val_loss: 0.9498 - learning_rate: 0.0010\n",
      "Epoch 18/1000\n",
      "\u001b[1m 1/22\u001b[0m \u001b[37m━━━━━━━━━━━━━━━━━━━━\u001b[0m \u001b[1m0s\u001b[0m 21ms/step - accuracy: 0.4688 - loss: 1.2075\n",
      "Epoch 18: val_accuracy did not improve from 0.84483\n",
      "\u001b[1m22/22\u001b[0m \u001b[32m━━━━━━━━━━━━━━━━━━━━\u001b[0m\u001b[37m\u001b[0m \u001b[1m0s\u001b[0m 4ms/step - accuracy: 0.5079 - loss: 1.1225 - val_accuracy: 0.8319 - val_loss: 0.9122 - learning_rate: 0.0010\n",
      "Epoch 19/1000\n",
      "\u001b[1m 1/22\u001b[0m \u001b[37m━━━━━━━━━━━━━━━━━━━━\u001b[0m \u001b[1m0s\u001b[0m 23ms/step - accuracy: 0.6875 - loss: 1.0116\n",
      "Epoch 19: val_accuracy did not improve from 0.84483\n",
      "\u001b[1m22/22\u001b[0m \u001b[32m━━━━━━━━━━━━━━━━━━━━\u001b[0m\u001b[37m\u001b[0m \u001b[1m0s\u001b[0m 4ms/step - accuracy: 0.5180 - loss: 1.1166 - val_accuracy: 0.8362 - val_loss: 0.8743 - learning_rate: 0.0010\n",
      "Epoch 20/1000\n",
      "\u001b[1m 1/22\u001b[0m \u001b[37m━━━━━━━━━━━━━━━━━━━━\u001b[0m \u001b[1m0s\u001b[0m 23ms/step - accuracy: 0.5938 - loss: 1.1921\n",
      "Epoch 20: val_accuracy improved from 0.84483 to 0.87069, saving model to model/neural_network/checkpoints/hand_gesture_model.h5\n"
     ]
    },
    {
     "name": "stderr",
     "output_type": "stream",
     "text": [
      "WARNING:absl:You are saving your model as an HDF5 file via `model.save()` or `keras.saving.save_model(model)`. This file format is considered legacy. We recommend using instead the native Keras format, e.g. `model.save('my_model.keras')` or `keras.saving.save_model(model, 'my_model.keras')`. \n"
     ]
    },
    {
     "name": "stdout",
     "output_type": "stream",
     "text": [
      "\u001b[1m22/22\u001b[0m \u001b[32m━━━━━━━━━━━━━━━━━━━━\u001b[0m\u001b[37m\u001b[0m \u001b[1m0s\u001b[0m 4ms/step - accuracy: 0.4964 - loss: 1.1264 - val_accuracy: 0.8707 - val_loss: 0.8564 - learning_rate: 0.0010\n",
      "Epoch 21/1000\n",
      "\u001b[1m 1/22\u001b[0m \u001b[37m━━━━━━━━━━━━━━━━━━━━\u001b[0m \u001b[1m0s\u001b[0m 24ms/step - accuracy: 0.6562 - loss: 0.9916\n",
      "Epoch 21: val_accuracy did not improve from 0.87069\n",
      "\u001b[1m22/22\u001b[0m \u001b[32m━━━━━━━━━━━━━━━━━━━━\u001b[0m\u001b[37m\u001b[0m \u001b[1m0s\u001b[0m 4ms/step - accuracy: 0.5325 - loss: 1.0964 - val_accuracy: 0.8534 - val_loss: 0.8393 - learning_rate: 0.0010\n",
      "Epoch 22/1000\n",
      "\u001b[1m 1/22\u001b[0m \u001b[37m━━━━━━━━━━━━━━━━━━━━\u001b[0m \u001b[1m0s\u001b[0m 22ms/step - accuracy: 0.5938 - loss: 0.9481\n",
      "Epoch 22: val_accuracy improved from 0.87069 to 0.87500, saving model to model/neural_network/checkpoints/hand_gesture_model.h5\n"
     ]
    },
    {
     "name": "stderr",
     "output_type": "stream",
     "text": [
      "WARNING:absl:You are saving your model as an HDF5 file via `model.save()` or `keras.saving.save_model(model)`. This file format is considered legacy. We recommend using instead the native Keras format, e.g. `model.save('my_model.keras')` or `keras.saving.save_model(model, 'my_model.keras')`. \n"
     ]
    },
    {
     "name": "stdout",
     "output_type": "stream",
     "text": [
      "\u001b[1m22/22\u001b[0m \u001b[32m━━━━━━━━━━━━━━━━━━━━\u001b[0m\u001b[37m\u001b[0m \u001b[1m0s\u001b[0m 5ms/step - accuracy: 0.5281 - loss: 1.0804 - val_accuracy: 0.8750 - val_loss: 0.8139 - learning_rate: 0.0010\n",
      "Epoch 23/1000\n",
      "\u001b[1m 1/22\u001b[0m \u001b[37m━━━━━━━━━━━━━━━━━━━━\u001b[0m \u001b[1m0s\u001b[0m 23ms/step - accuracy: 0.6875 - loss: 1.0518\n",
      "Epoch 23: val_accuracy did not improve from 0.87500\n",
      "\u001b[1m22/22\u001b[0m \u001b[32m━━━━━━━━━━━━━━━━━━━━\u001b[0m\u001b[37m\u001b[0m \u001b[1m0s\u001b[0m 4ms/step - accuracy: 0.5397 - loss: 1.0861 - val_accuracy: 0.8664 - val_loss: 0.8001 - learning_rate: 0.0010\n",
      "Epoch 24/1000\n",
      "\u001b[1m 1/22\u001b[0m \u001b[37m━━━━━━━━━━━━━━━━━━━━\u001b[0m \u001b[1m0s\u001b[0m 22ms/step - accuracy: 0.5938 - loss: 1.0455\n",
      "Epoch 24: val_accuracy did not improve from 0.87500\n",
      "\u001b[1m22/22\u001b[0m \u001b[32m━━━━━━━━━━━━━━━━━━━━\u001b[0m\u001b[37m\u001b[0m \u001b[1m0s\u001b[0m 4ms/step - accuracy: 0.5195 - loss: 1.0959 - val_accuracy: 0.8147 - val_loss: 0.8003 - learning_rate: 0.0010\n",
      "Epoch 25/1000\n",
      "\u001b[1m 1/22\u001b[0m \u001b[37m━━━━━━━━━━━━━━━━━━━━\u001b[0m \u001b[1m0s\u001b[0m 34ms/step - accuracy: 0.5625 - loss: 1.0386\n",
      "Epoch 25: val_accuracy did not improve from 0.87500\n",
      "\u001b[1m22/22\u001b[0m \u001b[32m━━━━━━━━━━━━━━━━━━━━\u001b[0m\u001b[37m\u001b[0m \u001b[1m0s\u001b[0m 4ms/step - accuracy: 0.5368 - loss: 1.0608 - val_accuracy: 0.8578 - val_loss: 0.7752 - learning_rate: 0.0010\n",
      "Epoch 26/1000\n",
      "\u001b[1m 1/22\u001b[0m \u001b[37m━━━━━━━━━━━━━━━━━━━━\u001b[0m \u001b[1m0s\u001b[0m 22ms/step - accuracy: 0.7812 - loss: 0.9375\n",
      "Epoch 26: val_accuracy did not improve from 0.87500\n",
      "\u001b[1m22/22\u001b[0m \u001b[32m━━━━━━━━━━━━━━━━━━━━\u001b[0m\u001b[37m\u001b[0m \u001b[1m0s\u001b[0m 4ms/step - accuracy: 0.5700 - loss: 1.0488 - val_accuracy: 0.8448 - val_loss: 0.7520 - learning_rate: 0.0010\n",
      "Epoch 27/1000\n",
      "\u001b[1m 1/22\u001b[0m \u001b[37m━━━━━━━━━━━━━━━━━━━━\u001b[0m \u001b[1m0s\u001b[0m 23ms/step - accuracy: 0.5938 - loss: 1.0222\n",
      "Epoch 27: val_accuracy did not improve from 0.87500\n",
      "\u001b[1m22/22\u001b[0m \u001b[32m━━━━━━━━━━━━━━━━━━━━\u001b[0m\u001b[37m\u001b[0m \u001b[1m0s\u001b[0m 4ms/step - accuracy: 0.5541 - loss: 1.0306 - val_accuracy: 0.8534 - val_loss: 0.7262 - learning_rate: 0.0010\n",
      "Epoch 28/1000\n",
      "\u001b[1m 1/22\u001b[0m \u001b[37m━━━━━━━━━━━━━━━━━━━━\u001b[0m \u001b[1m0s\u001b[0m 24ms/step - accuracy: 0.6562 - loss: 1.0503\n",
      "Epoch 28: val_accuracy improved from 0.87500 to 0.88793, saving model to model/neural_network/checkpoints/hand_gesture_model.h5\n"
     ]
    },
    {
     "name": "stderr",
     "output_type": "stream",
     "text": [
      "WARNING:absl:You are saving your model as an HDF5 file via `model.save()` or `keras.saving.save_model(model)`. This file format is considered legacy. We recommend using instead the native Keras format, e.g. `model.save('my_model.keras')` or `keras.saving.save_model(model, 'my_model.keras')`. \n"
     ]
    },
    {
     "name": "stdout",
     "output_type": "stream",
     "text": [
      "\u001b[1m22/22\u001b[0m \u001b[32m━━━━━━━━━━━━━━━━━━━━\u001b[0m\u001b[37m\u001b[0m \u001b[1m0s\u001b[0m 5ms/step - accuracy: 0.5671 - loss: 1.0290 - val_accuracy: 0.8879 - val_loss: 0.7198 - learning_rate: 0.0010\n",
      "Epoch 29/1000\n",
      "\u001b[1m 1/22\u001b[0m \u001b[37m━━━━━━━━━━━━━━━━━━━━\u001b[0m \u001b[1m0s\u001b[0m 23ms/step - accuracy: 0.5938 - loss: 0.9677\n",
      "Epoch 29: val_accuracy did not improve from 0.88793\n",
      "\u001b[1m22/22\u001b[0m \u001b[32m━━━━━━━━━━━━━━━━━━━━\u001b[0m\u001b[37m\u001b[0m \u001b[1m0s\u001b[0m 3ms/step - accuracy: 0.5685 - loss: 1.0290 - val_accuracy: 0.8664 - val_loss: 0.6993 - learning_rate: 0.0010\n",
      "Epoch 30/1000\n",
      "\u001b[1m 1/22\u001b[0m \u001b[37m━━━━━━━━━━━━━━━━━━━━\u001b[0m \u001b[1m0s\u001b[0m 23ms/step - accuracy: 0.6562 - loss: 1.0452\n",
      "Epoch 30: val_accuracy did not improve from 0.88793\n",
      "\u001b[1m22/22\u001b[0m \u001b[32m━━━━━━━━━━━━━━━━━━━━\u001b[0m\u001b[37m\u001b[0m \u001b[1m0s\u001b[0m 3ms/step - accuracy: 0.5931 - loss: 0.9993 - val_accuracy: 0.8491 - val_loss: 0.6890 - learning_rate: 0.0010\n",
      "Epoch 31/1000\n",
      "\u001b[1m 1/22\u001b[0m \u001b[37m━━━━━━━━━━━━━━━━━━━━\u001b[0m \u001b[1m0s\u001b[0m 21ms/step - accuracy: 0.6562 - loss: 0.8393\n",
      "Epoch 31: val_accuracy did not improve from 0.88793\n",
      "\u001b[1m22/22\u001b[0m \u001b[32m━━━━━━━━━━━━━━━━━━━━\u001b[0m\u001b[37m\u001b[0m \u001b[1m0s\u001b[0m 4ms/step - accuracy: 0.5801 - loss: 0.9895 - val_accuracy: 0.8233 - val_loss: 0.6868 - learning_rate: 0.0010\n",
      "Epoch 32/1000\n",
      "\u001b[1m 1/22\u001b[0m \u001b[37m━━━━━━━━━━━━━━━━━━━━\u001b[0m \u001b[1m0s\u001b[0m 24ms/step - accuracy: 0.6562 - loss: 0.8787\n",
      "Epoch 32: val_accuracy did not improve from 0.88793\n",
      "\u001b[1m22/22\u001b[0m \u001b[32m━━━━━━━━━━━━━━━━━━━━\u001b[0m\u001b[37m\u001b[0m \u001b[1m0s\u001b[0m 3ms/step - accuracy: 0.5931 - loss: 0.9769 - val_accuracy: 0.8664 - val_loss: 0.6640 - learning_rate: 0.0010\n",
      "Epoch 33/1000\n",
      "\u001b[1m 1/22\u001b[0m \u001b[37m━━━━━━━━━━━━━━━━━━━━\u001b[0m \u001b[1m0s\u001b[0m 23ms/step - accuracy: 0.6250 - loss: 1.0030\n",
      "Epoch 33: val_accuracy did not improve from 0.88793\n",
      "\u001b[1m22/22\u001b[0m \u001b[32m━━━━━━━━━━━━━━━━━━━━\u001b[0m\u001b[37m\u001b[0m \u001b[1m0s\u001b[0m 4ms/step - accuracy: 0.5671 - loss: 1.0110 - val_accuracy: 0.8664 - val_loss: 0.6532 - learning_rate: 0.0010\n",
      "Epoch 34/1000\n",
      "\u001b[1m 1/22\u001b[0m \u001b[37m━━━━━━━━━━━━━━━━━━━━\u001b[0m \u001b[1m0s\u001b[0m 22ms/step - accuracy: 0.5938 - loss: 0.9565\n",
      "Epoch 34: val_accuracy did not improve from 0.88793\n",
      "\u001b[1m22/22\u001b[0m \u001b[32m━━━━━━━━━━━━━━━━━━━━\u001b[0m\u001b[37m\u001b[0m \u001b[1m0s\u001b[0m 4ms/step - accuracy: 0.5570 - loss: 1.0016 - val_accuracy: 0.8491 - val_loss: 0.6718 - learning_rate: 0.0010\n",
      "Epoch 35/1000\n",
      "\u001b[1m 1/22\u001b[0m \u001b[37m━━━━━━━━━━━━━━━━━━━━\u001b[0m \u001b[1m0s\u001b[0m 22ms/step - accuracy: 0.6250 - loss: 0.9022\n",
      "Epoch 35: val_accuracy did not improve from 0.88793\n",
      "\u001b[1m22/22\u001b[0m \u001b[32m━━━━━━━━━━━━━━━━━━━━\u001b[0m\u001b[37m\u001b[0m \u001b[1m0s\u001b[0m 4ms/step - accuracy: 0.5931 - loss: 1.0066 - val_accuracy: 0.8750 - val_loss: 0.6709 - learning_rate: 0.0010\n",
      "Epoch 36/1000\n",
      "\u001b[1m 1/22\u001b[0m \u001b[37m━━━━━━━━━━━━━━━━━━━━\u001b[0m \u001b[1m0s\u001b[0m 24ms/step - accuracy: 0.6875 - loss: 0.7910\n",
      "Epoch 36: val_accuracy did not improve from 0.88793\n",
      "\u001b[1m22/22\u001b[0m \u001b[32m━━━━━━━━━━━━━━━━━━━━\u001b[0m\u001b[37m\u001b[0m \u001b[1m0s\u001b[0m 4ms/step - accuracy: 0.5642 - loss: 0.9950 - val_accuracy: 0.8793 - val_loss: 0.6537 - learning_rate: 0.0010\n",
      "Epoch 37/1000\n",
      "\u001b[1m 1/22\u001b[0m \u001b[37m━━━━━━━━━━━━━━━━━━━━\u001b[0m \u001b[1m0s\u001b[0m 23ms/step - accuracy: 0.6562 - loss: 0.8301\n",
      "Epoch 37: val_accuracy did not improve from 0.88793\n",
      "\u001b[1m22/22\u001b[0m \u001b[32m━━━━━━━━━━━━━━━━━━━━\u001b[0m\u001b[37m\u001b[0m \u001b[1m0s\u001b[0m 4ms/step - accuracy: 0.5729 - loss: 0.9935 - val_accuracy: 0.8707 - val_loss: 0.6591 - learning_rate: 0.0010\n",
      "Epoch 38/1000\n",
      "\u001b[1m 1/22\u001b[0m \u001b[37m━━━━━━━━━━━━━━━━━━━━\u001b[0m \u001b[1m0s\u001b[0m 22ms/step - accuracy: 0.6250 - loss: 0.8314\n",
      "Epoch 38: val_accuracy did not improve from 0.88793\n",
      "\u001b[1m22/22\u001b[0m \u001b[32m━━━━━━━━━━━━━━━━━━━━\u001b[0m\u001b[37m\u001b[0m \u001b[1m0s\u001b[0m 4ms/step - accuracy: 0.6335 - loss: 0.9352 - val_accuracy: 0.8750 - val_loss: 0.6398 - learning_rate: 0.0010\n",
      "Epoch 39/1000\n",
      "\u001b[1m 1/22\u001b[0m \u001b[37m━━━━━━━━━━━━━━━━━━━━\u001b[0m \u001b[1m0s\u001b[0m 22ms/step - accuracy: 0.6250 - loss: 0.8284\n",
      "Epoch 39: val_accuracy did not improve from 0.88793\n",
      "\u001b[1m22/22\u001b[0m \u001b[32m━━━━━━━━━━━━━━━━━━━━\u001b[0m\u001b[37m\u001b[0m \u001b[1m0s\u001b[0m 4ms/step - accuracy: 0.5988 - loss: 0.9352 - val_accuracy: 0.8707 - val_loss: 0.6234 - learning_rate: 0.0010\n",
      "Epoch 40/1000\n",
      "\u001b[1m 1/22\u001b[0m \u001b[37m━━━━━━━━━━━━━━━━━━━━\u001b[0m \u001b[1m0s\u001b[0m 22ms/step - accuracy: 0.7188 - loss: 0.7465\n",
      "Epoch 40: val_accuracy improved from 0.88793 to 0.89655, saving model to model/neural_network/checkpoints/hand_gesture_model.h5\n"
     ]
    },
    {
     "name": "stderr",
     "output_type": "stream",
     "text": [
      "WARNING:absl:You are saving your model as an HDF5 file via `model.save()` or `keras.saving.save_model(model)`. This file format is considered legacy. We recommend using instead the native Keras format, e.g. `model.save('my_model.keras')` or `keras.saving.save_model(model, 'my_model.keras')`. \n"
     ]
    },
    {
     "name": "stdout",
     "output_type": "stream",
     "text": [
      "\u001b[1m22/22\u001b[0m \u001b[32m━━━━━━━━━━━━━━━━━━━━\u001b[0m\u001b[37m\u001b[0m \u001b[1m0s\u001b[0m 5ms/step - accuracy: 0.5916 - loss: 0.9735 - val_accuracy: 0.8966 - val_loss: 0.6265 - learning_rate: 0.0010\n",
      "Epoch 41/1000\n",
      "\u001b[1m 1/22\u001b[0m \u001b[37m━━━━━━━━━━━━━━━━━━━━\u001b[0m \u001b[1m0s\u001b[0m 24ms/step - accuracy: 0.6562 - loss: 0.8030\n",
      "Epoch 41: val_accuracy did not improve from 0.89655\n",
      "\u001b[1m22/22\u001b[0m \u001b[32m━━━━━━━━━━━━━━━━━━━━\u001b[0m\u001b[37m\u001b[0m \u001b[1m0s\u001b[0m 4ms/step - accuracy: 0.5902 - loss: 0.9371 - val_accuracy: 0.8664 - val_loss: 0.6041 - learning_rate: 0.0010\n",
      "Epoch 42/1000\n",
      "\u001b[1m 1/22\u001b[0m \u001b[37m━━━━━━━━━━━━━━━━━━━━\u001b[0m \u001b[1m0s\u001b[0m 22ms/step - accuracy: 0.5938 - loss: 0.8868\n",
      "Epoch 42: val_accuracy did not improve from 0.89655\n",
      "\u001b[1m22/22\u001b[0m \u001b[32m━━━━━━━━━━━━━━━━━━━━\u001b[0m\u001b[37m\u001b[0m \u001b[1m0s\u001b[0m 4ms/step - accuracy: 0.5974 - loss: 0.9682 - val_accuracy: 0.8879 - val_loss: 0.6157 - learning_rate: 0.0010\n",
      "Epoch 43/1000\n",
      "\u001b[1m 1/22\u001b[0m \u001b[37m━━━━━━━━━━━━━━━━━━━━\u001b[0m \u001b[1m0s\u001b[0m 23ms/step - accuracy: 0.5938 - loss: 0.8529\n",
      "Epoch 43: val_accuracy did not improve from 0.89655\n",
      "\u001b[1m22/22\u001b[0m \u001b[32m━━━━━━━━━━━━━━━━━━━━\u001b[0m\u001b[37m\u001b[0m \u001b[1m0s\u001b[0m 4ms/step - accuracy: 0.6147 - loss: 0.9545 - val_accuracy: 0.8879 - val_loss: 0.6331 - learning_rate: 0.0010\n",
      "Epoch 44/1000\n",
      "\u001b[1m 1/22\u001b[0m \u001b[37m━━━━━━━━━━━━━━━━━━━━\u001b[0m \u001b[1m0s\u001b[0m 25ms/step - accuracy: 0.7188 - loss: 0.9021\n",
      "Epoch 44: val_accuracy improved from 0.89655 to 0.90948, saving model to model/neural_network/checkpoints/hand_gesture_model.h5\n"
     ]
    },
    {
     "name": "stderr",
     "output_type": "stream",
     "text": [
      "WARNING:absl:You are saving your model as an HDF5 file via `model.save()` or `keras.saving.save_model(model)`. This file format is considered legacy. We recommend using instead the native Keras format, e.g. `model.save('my_model.keras')` or `keras.saving.save_model(model, 'my_model.keras')`. \n"
     ]
    },
    {
     "name": "stdout",
     "output_type": "stream",
     "text": [
      "\u001b[1m22/22\u001b[0m \u001b[32m━━━━━━━━━━━━━━━━━━━━\u001b[0m\u001b[37m\u001b[0m \u001b[1m0s\u001b[0m 5ms/step - accuracy: 0.6306 - loss: 0.9568 - val_accuracy: 0.9095 - val_loss: 0.6312 - learning_rate: 0.0010\n",
      "Epoch 45/1000\n",
      "\u001b[1m 1/22\u001b[0m \u001b[37m━━━━━━━━━━━━━━━━━━━━\u001b[0m \u001b[1m0s\u001b[0m 22ms/step - accuracy: 0.5938 - loss: 0.9318\n",
      "Epoch 45: val_accuracy did not improve from 0.90948\n",
      "\u001b[1m22/22\u001b[0m \u001b[32m━━━━━━━━━━━━━━━━━━━━\u001b[0m\u001b[37m\u001b[0m \u001b[1m0s\u001b[0m 4ms/step - accuracy: 0.6291 - loss: 0.9187 - val_accuracy: 0.8922 - val_loss: 0.6029 - learning_rate: 0.0010\n",
      "Epoch 46/1000\n",
      "\u001b[1m 1/22\u001b[0m \u001b[37m━━━━━━━━━━━━━━━━━━━━\u001b[0m \u001b[1m0s\u001b[0m 26ms/step - accuracy: 0.6250 - loss: 1.0189\n",
      "Epoch 46: val_accuracy did not improve from 0.90948\n",
      "\u001b[1m22/22\u001b[0m \u001b[32m━━━━━━━━━━━━━━━━━━━━\u001b[0m\u001b[37m\u001b[0m \u001b[1m0s\u001b[0m 3ms/step - accuracy: 0.5945 - loss: 0.9404 - val_accuracy: 0.8879 - val_loss: 0.5762 - learning_rate: 0.0010\n",
      "Epoch 47/1000\n",
      "\u001b[1m 1/22\u001b[0m \u001b[37m━━━━━━━━━━━━━━━━━━━━\u001b[0m \u001b[1m0s\u001b[0m 24ms/step - accuracy: 0.7812 - loss: 0.6202\n",
      "Epoch 47: val_accuracy did not improve from 0.90948\n",
      "\u001b[1m22/22\u001b[0m \u001b[32m━━━━━━━━━━━━━━━━━━━━\u001b[0m\u001b[37m\u001b[0m \u001b[1m0s\u001b[0m 4ms/step - accuracy: 0.6190 - loss: 0.9534 - val_accuracy: 0.8879 - val_loss: 0.5798 - learning_rate: 0.0010\n",
      "Epoch 48/1000\n",
      "\u001b[1m 1/22\u001b[0m \u001b[37m━━━━━━━━━━━━━━━━━━━━\u001b[0m \u001b[1m0s\u001b[0m 24ms/step - accuracy: 0.6562 - loss: 0.8898\n",
      "Epoch 48: val_accuracy did not improve from 0.90948\n",
      "\u001b[1m22/22\u001b[0m \u001b[32m━━━━━━━━━━━━━━━━━━━━\u001b[0m\u001b[37m\u001b[0m \u001b[1m0s\u001b[0m 4ms/step - accuracy: 0.6407 - loss: 0.9088 - val_accuracy: 0.8922 - val_loss: 0.5616 - learning_rate: 0.0010\n",
      "Epoch 49/1000\n",
      "\u001b[1m 1/22\u001b[0m \u001b[37m━━━━━━━━━━━━━━━━━━━━\u001b[0m \u001b[1m0s\u001b[0m 23ms/step - accuracy: 0.6875 - loss: 0.6414\n",
      "Epoch 49: val_accuracy did not improve from 0.90948\n",
      "\u001b[1m22/22\u001b[0m \u001b[32m━━━━━━━━━━━━━━━━━━━━\u001b[0m\u001b[37m\u001b[0m \u001b[1m0s\u001b[0m 4ms/step - accuracy: 0.6263 - loss: 0.9119 - val_accuracy: 0.9009 - val_loss: 0.5742 - learning_rate: 0.0010\n",
      "Epoch 50/1000\n",
      "\u001b[1m 1/22\u001b[0m \u001b[37m━━━━━━━━━━━━━━━━━━━━\u001b[0m \u001b[1m0s\u001b[0m 26ms/step - accuracy: 0.7188 - loss: 0.7453\n",
      "Epoch 50: val_accuracy did not improve from 0.90948\n",
      "\u001b[1m22/22\u001b[0m \u001b[32m━━━━━━━━━━━━━━━━━━━━\u001b[0m\u001b[37m\u001b[0m \u001b[1m0s\u001b[0m 5ms/step - accuracy: 0.6061 - loss: 0.9455 - val_accuracy: 0.9009 - val_loss: 0.5901 - learning_rate: 0.0010\n",
      "Epoch 51/1000\n",
      "\u001b[1m 1/22\u001b[0m \u001b[37m━━━━━━━━━━━━━━━━━━━━\u001b[0m \u001b[1m0s\u001b[0m 27ms/step - accuracy: 0.6562 - loss: 0.7726\n",
      "Epoch 51: val_accuracy did not improve from 0.90948\n",
      "\u001b[1m22/22\u001b[0m \u001b[32m━━━━━━━━━━━━━━━━━━━━\u001b[0m\u001b[37m\u001b[0m \u001b[1m0s\u001b[0m 4ms/step - accuracy: 0.6320 - loss: 0.9105 - val_accuracy: 0.9052 - val_loss: 0.5630 - learning_rate: 0.0010\n",
      "Epoch 52/1000\n",
      "\u001b[1m 1/22\u001b[0m \u001b[37m━━━━━━━━━━━━━━━━━━━━\u001b[0m \u001b[1m0s\u001b[0m 25ms/step - accuracy: 0.7500 - loss: 0.7498\n",
      "Epoch 52: val_accuracy improved from 0.90948 to 0.91810, saving model to model/neural_network/checkpoints/hand_gesture_model.h5\n"
     ]
    },
    {
     "name": "stderr",
     "output_type": "stream",
     "text": [
      "WARNING:absl:You are saving your model as an HDF5 file via `model.save()` or `keras.saving.save_model(model)`. This file format is considered legacy. We recommend using instead the native Keras format, e.g. `model.save('my_model.keras')` or `keras.saving.save_model(model, 'my_model.keras')`. \n"
     ]
    },
    {
     "name": "stdout",
     "output_type": "stream",
     "text": [
      "\u001b[1m22/22\u001b[0m \u001b[32m━━━━━━━━━━━━━━━━━━━━\u001b[0m\u001b[37m\u001b[0m \u001b[1m0s\u001b[0m 5ms/step - accuracy: 0.6696 - loss: 0.8582 - val_accuracy: 0.9181 - val_loss: 0.5513 - learning_rate: 0.0010\n",
      "Epoch 53/1000\n",
      "\u001b[1m 1/22\u001b[0m \u001b[37m━━━━━━━━━━━━━━━━━━━━\u001b[0m \u001b[1m0s\u001b[0m 28ms/step - accuracy: 0.6562 - loss: 0.7715\n",
      "Epoch 53: val_accuracy did not improve from 0.91810\n",
      "\u001b[1m22/22\u001b[0m \u001b[32m━━━━━━━━━━━━━━━━━━━━\u001b[0m\u001b[37m\u001b[0m \u001b[1m0s\u001b[0m 4ms/step - accuracy: 0.6248 - loss: 0.8998 - val_accuracy: 0.9138 - val_loss: 0.5365 - learning_rate: 0.0010\n",
      "Epoch 54/1000\n",
      "\u001b[1m 1/22\u001b[0m \u001b[37m━━━━━━━━━━━━━━━━━━━━\u001b[0m \u001b[1m0s\u001b[0m 23ms/step - accuracy: 0.7500 - loss: 0.6009\n",
      "Epoch 54: val_accuracy improved from 0.91810 to 0.92672, saving model to model/neural_network/checkpoints/hand_gesture_model.h5\n"
     ]
    },
    {
     "name": "stderr",
     "output_type": "stream",
     "text": [
      "WARNING:absl:You are saving your model as an HDF5 file via `model.save()` or `keras.saving.save_model(model)`. This file format is considered legacy. We recommend using instead the native Keras format, e.g. `model.save('my_model.keras')` or `keras.saving.save_model(model, 'my_model.keras')`. \n"
     ]
    },
    {
     "name": "stdout",
     "output_type": "stream",
     "text": [
      "\u001b[1m22/22\u001b[0m \u001b[32m━━━━━━━━━━━━━━━━━━━━\u001b[0m\u001b[37m\u001b[0m \u001b[1m0s\u001b[0m 5ms/step - accuracy: 0.6248 - loss: 0.8473 - val_accuracy: 0.9267 - val_loss: 0.5161 - learning_rate: 0.0010\n",
      "Epoch 55/1000\n",
      "\u001b[1m 1/22\u001b[0m \u001b[37m━━━━━━━━━━━━━━━━━━━━\u001b[0m \u001b[1m0s\u001b[0m 25ms/step - accuracy: 0.7188 - loss: 0.8551\n",
      "Epoch 55: val_accuracy did not improve from 0.92672\n",
      "\u001b[1m22/22\u001b[0m \u001b[32m━━━━━━━━━━━━━━━━━━━━\u001b[0m\u001b[37m\u001b[0m \u001b[1m0s\u001b[0m 4ms/step - accuracy: 0.6494 - loss: 0.8775 - val_accuracy: 0.9095 - val_loss: 0.5232 - learning_rate: 0.0010\n",
      "Epoch 56/1000\n",
      "\u001b[1m 1/22\u001b[0m \u001b[37m━━━━━━━━━━━━━━━━━━━━\u001b[0m \u001b[1m0s\u001b[0m 23ms/step - accuracy: 0.6250 - loss: 0.8935\n",
      "Epoch 56: val_accuracy did not improve from 0.92672\n",
      "\u001b[1m22/22\u001b[0m \u001b[32m━━━━━━━━━━━━━━━━━━━━\u001b[0m\u001b[37m\u001b[0m \u001b[1m0s\u001b[0m 4ms/step - accuracy: 0.5988 - loss: 0.9207 - val_accuracy: 0.9095 - val_loss: 0.5443 - learning_rate: 0.0010\n",
      "Epoch 57/1000\n",
      "\u001b[1m 1/22\u001b[0m \u001b[37m━━━━━━━━━━━━━━━━━━━━\u001b[0m \u001b[1m0s\u001b[0m 23ms/step - accuracy: 0.6875 - loss: 0.7242\n",
      "Epoch 57: val_accuracy did not improve from 0.92672\n",
      "\u001b[1m22/22\u001b[0m \u001b[32m━━━━━━━━━━━━━━━━━━━━\u001b[0m\u001b[37m\u001b[0m \u001b[1m0s\u001b[0m 4ms/step - accuracy: 0.6566 - loss: 0.8500 - val_accuracy: 0.9138 - val_loss: 0.5416 - learning_rate: 0.0010\n",
      "Epoch 58/1000\n",
      "\u001b[1m 1/22\u001b[0m \u001b[37m━━━━━━━━━━━━━━━━━━━━\u001b[0m \u001b[1m0s\u001b[0m 24ms/step - accuracy: 0.7812 - loss: 0.5719\n",
      "Epoch 58: val_accuracy did not improve from 0.92672\n",
      "\u001b[1m22/22\u001b[0m \u001b[32m━━━━━━━━━━━━━━━━━━━━\u001b[0m\u001b[37m\u001b[0m \u001b[1m0s\u001b[0m 4ms/step - accuracy: 0.5815 - loss: 0.9193 - val_accuracy: 0.9138 - val_loss: 0.5405 - learning_rate: 0.0010\n",
      "Epoch 59/1000\n",
      "\u001b[1m 1/22\u001b[0m \u001b[37m━━━━━━━━━━━━━━━━━━━━\u001b[0m \u001b[1m0s\u001b[0m 23ms/step - accuracy: 0.7188 - loss: 0.7314\n",
      "Epoch 59: val_accuracy did not improve from 0.92672\n",
      "\u001b[1m22/22\u001b[0m \u001b[32m━━━━━━━━━━━━━━━━━━━━\u001b[0m\u001b[37m\u001b[0m \u001b[1m0s\u001b[0m 4ms/step - accuracy: 0.6609 - loss: 0.8694 - val_accuracy: 0.9052 - val_loss: 0.5321 - learning_rate: 0.0010\n",
      "Epoch 60/1000\n",
      "\u001b[1m 1/22\u001b[0m \u001b[37m━━━━━━━━━━━━━━━━━━━━\u001b[0m \u001b[1m0s\u001b[0m 24ms/step - accuracy: 0.7500 - loss: 0.7565\n",
      "Epoch 60: val_accuracy did not improve from 0.92672\n",
      "\u001b[1m22/22\u001b[0m \u001b[32m━━━━━━━━━━━━━━━━━━━━\u001b[0m\u001b[37m\u001b[0m \u001b[1m0s\u001b[0m 4ms/step - accuracy: 0.6479 - loss: 0.8603 - val_accuracy: 0.9095 - val_loss: 0.5074 - learning_rate: 0.0010\n",
      "Epoch 61/1000\n",
      "\u001b[1m 1/22\u001b[0m \u001b[37m━━━━━━━━━━━━━━━━━━━━\u001b[0m \u001b[1m0s\u001b[0m 23ms/step - accuracy: 0.6875 - loss: 0.7268\n",
      "Epoch 61: val_accuracy improved from 0.92672 to 0.93966, saving model to model/neural_network/checkpoints/hand_gesture_model.h5\n"
     ]
    },
    {
     "name": "stderr",
     "output_type": "stream",
     "text": [
      "WARNING:absl:You are saving your model as an HDF5 file via `model.save()` or `keras.saving.save_model(model)`. This file format is considered legacy. We recommend using instead the native Keras format, e.g. `model.save('my_model.keras')` or `keras.saving.save_model(model, 'my_model.keras')`. \n"
     ]
    },
    {
     "name": "stdout",
     "output_type": "stream",
     "text": [
      "\u001b[1m22/22\u001b[0m \u001b[32m━━━━━━━━━━━━━━━━━━━━\u001b[0m\u001b[37m\u001b[0m \u001b[1m0s\u001b[0m 5ms/step - accuracy: 0.6263 - loss: 0.8543 - val_accuracy: 0.9397 - val_loss: 0.4898 - learning_rate: 0.0010\n",
      "Epoch 62/1000\n",
      "\u001b[1m 1/22\u001b[0m \u001b[37m━━━━━━━━━━━━━━━━━━━━\u001b[0m \u001b[1m0s\u001b[0m 24ms/step - accuracy: 0.8438 - loss: 0.5663\n",
      "Epoch 62: val_accuracy did not improve from 0.93966\n",
      "\u001b[1m22/22\u001b[0m \u001b[32m━━━━━━━━━━━━━━━━━━━━\u001b[0m\u001b[37m\u001b[0m \u001b[1m0s\u001b[0m 4ms/step - accuracy: 0.6638 - loss: 0.8819 - val_accuracy: 0.9267 - val_loss: 0.5039 - learning_rate: 0.0010\n",
      "Epoch 63/1000\n",
      "\u001b[1m 1/22\u001b[0m \u001b[37m━━━━━━━━━━━━━━━━━━━━\u001b[0m \u001b[1m0s\u001b[0m 23ms/step - accuracy: 0.7500 - loss: 0.8360\n",
      "Epoch 63: val_accuracy did not improve from 0.93966\n",
      "\u001b[1m22/22\u001b[0m \u001b[32m━━━━━━━━━━━━━━━━━━━━\u001b[0m\u001b[37m\u001b[0m \u001b[1m0s\u001b[0m 4ms/step - accuracy: 0.6335 - loss: 0.8729 - val_accuracy: 0.9224 - val_loss: 0.5017 - learning_rate: 0.0010\n",
      "Epoch 64/1000\n",
      "\u001b[1m 1/22\u001b[0m \u001b[37m━━━━━━━━━━━━━━━━━━━━\u001b[0m \u001b[1m0s\u001b[0m 24ms/step - accuracy: 0.7188 - loss: 0.8786\n",
      "Epoch 64: val_accuracy did not improve from 0.93966\n",
      "\u001b[1m22/22\u001b[0m \u001b[32m━━━━━━━━━━━━━━━━━━━━\u001b[0m\u001b[37m\u001b[0m \u001b[1m0s\u001b[0m 4ms/step - accuracy: 0.6551 - loss: 0.8992 - val_accuracy: 0.9310 - val_loss: 0.5417 - learning_rate: 0.0010\n",
      "Epoch 65/1000\n",
      "\u001b[1m 1/22\u001b[0m \u001b[37m━━━━━━━━━━━━━━━━━━━━\u001b[0m \u001b[1m0s\u001b[0m 22ms/step - accuracy: 0.6562 - loss: 0.6970\n",
      "Epoch 65: val_accuracy did not improve from 0.93966\n",
      "\u001b[1m22/22\u001b[0m \u001b[32m━━━━━━━━━━━━━━━━━━━━\u001b[0m\u001b[37m\u001b[0m \u001b[1m0s\u001b[0m 4ms/step - accuracy: 0.6205 - loss: 0.8705 - val_accuracy: 0.9310 - val_loss: 0.5327 - learning_rate: 0.0010\n",
      "Epoch 66/1000\n",
      "\u001b[1m 1/22\u001b[0m \u001b[37m━━━━━━━━━━━━━━━━━━━━\u001b[0m \u001b[1m0s\u001b[0m 23ms/step - accuracy: 0.7188 - loss: 0.7455\n",
      "Epoch 66: val_accuracy did not improve from 0.93966\n",
      "\u001b[1m22/22\u001b[0m \u001b[32m━━━━━━━━━━━━━━━━━━━━\u001b[0m\u001b[37m\u001b[0m \u001b[1m0s\u001b[0m 4ms/step - accuracy: 0.6277 - loss: 0.8939 - val_accuracy: 0.9181 - val_loss: 0.5192 - learning_rate: 0.0010\n",
      "Epoch 67/1000\n",
      "\u001b[1m 1/22\u001b[0m \u001b[37m━━━━━━━━━━━━━━━━━━━━\u001b[0m \u001b[1m0s\u001b[0m 23ms/step - accuracy: 0.7188 - loss: 0.6575\n",
      "Epoch 67: val_accuracy did not improve from 0.93966\n",
      "\u001b[1m22/22\u001b[0m \u001b[32m━━━━━━━━━━━━━━━━━━━━\u001b[0m\u001b[37m\u001b[0m \u001b[1m0s\u001b[0m 4ms/step - accuracy: 0.6623 - loss: 0.8271 - val_accuracy: 0.9397 - val_loss: 0.4775 - learning_rate: 0.0010\n",
      "Epoch 68/1000\n",
      "\u001b[1m 1/22\u001b[0m \u001b[37m━━━━━━━━━━━━━━━━━━━━\u001b[0m \u001b[1m0s\u001b[0m 21ms/step - accuracy: 0.7812 - loss: 0.6178\n",
      "Epoch 68: val_accuracy did not improve from 0.93966\n",
      "\u001b[1m22/22\u001b[0m \u001b[32m━━━━━━━━━━━━━━━━━━━━\u001b[0m\u001b[37m\u001b[0m \u001b[1m0s\u001b[0m 4ms/step - accuracy: 0.6421 - loss: 0.8673 - val_accuracy: 0.9052 - val_loss: 0.5099 - learning_rate: 0.0010\n",
      "Epoch 69/1000\n",
      "\u001b[1m 1/22\u001b[0m \u001b[37m━━━━━━━━━━━━━━━━━━━━\u001b[0m \u001b[1m0s\u001b[0m 23ms/step - accuracy: 0.7188 - loss: 0.8421\n",
      "Epoch 69: val_accuracy did not improve from 0.93966\n",
      "\u001b[1m22/22\u001b[0m \u001b[32m━━━━━━━━━━━━━━━━━━━━\u001b[0m\u001b[37m\u001b[0m \u001b[1m0s\u001b[0m 4ms/step - accuracy: 0.6494 - loss: 0.8645 - val_accuracy: 0.9138 - val_loss: 0.4940 - learning_rate: 0.0010\n",
      "Epoch 70/1000\n",
      "\u001b[1m 1/22\u001b[0m \u001b[37m━━━━━━━━━━━━━━━━━━━━\u001b[0m \u001b[1m0s\u001b[0m 22ms/step - accuracy: 0.8125 - loss: 0.8066\n",
      "Epoch 70: val_accuracy did not improve from 0.93966\n",
      "\u001b[1m22/22\u001b[0m \u001b[32m━━━━━━━━━━━━━━━━━━━━\u001b[0m\u001b[37m\u001b[0m \u001b[1m0s\u001b[0m 4ms/step - accuracy: 0.6335 - loss: 0.9044 - val_accuracy: 0.9353 - val_loss: 0.4962 - learning_rate: 0.0010\n",
      "Epoch 71/1000\n",
      "\u001b[1m 1/22\u001b[0m \u001b[37m━━━━━━━━━━━━━━━━━━━━\u001b[0m \u001b[1m0s\u001b[0m 24ms/step - accuracy: 0.7500 - loss: 0.7426\n",
      "Epoch 71: val_accuracy did not improve from 0.93966\n",
      "\u001b[1m22/22\u001b[0m \u001b[32m━━━━━━━━━━━━━━━━━━━━\u001b[0m\u001b[37m\u001b[0m \u001b[1m0s\u001b[0m 4ms/step - accuracy: 0.6291 - loss: 0.8766 - val_accuracy: 0.9267 - val_loss: 0.5083 - learning_rate: 0.0010\n",
      "Epoch 72/1000\n",
      "\u001b[1m 1/22\u001b[0m \u001b[37m━━━━━━━━━━━━━━━━━━━━\u001b[0m \u001b[1m0s\u001b[0m 22ms/step - accuracy: 0.7812 - loss: 0.5915\n",
      "Epoch 72: val_accuracy did not improve from 0.93966\n",
      "\u001b[1m22/22\u001b[0m \u001b[32m━━━━━━━━━━━━━━━━━━━━\u001b[0m\u001b[37m\u001b[0m \u001b[1m0s\u001b[0m 4ms/step - accuracy: 0.6494 - loss: 0.8640 - val_accuracy: 0.9397 - val_loss: 0.5126 - learning_rate: 0.0010\n",
      "Epoch 73/1000\n",
      "\u001b[1m 1/22\u001b[0m \u001b[37m━━━━━━━━━━━━━━━━━━━━\u001b[0m \u001b[1m0s\u001b[0m 22ms/step - accuracy: 0.8125 - loss: 0.6211\n",
      "Epoch 73: val_accuracy improved from 0.93966 to 0.94397, saving model to model/neural_network/checkpoints/hand_gesture_model.h5\n"
     ]
    },
    {
     "name": "stderr",
     "output_type": "stream",
     "text": [
      "WARNING:absl:You are saving your model as an HDF5 file via `model.save()` or `keras.saving.save_model(model)`. This file format is considered legacy. We recommend using instead the native Keras format, e.g. `model.save('my_model.keras')` or `keras.saving.save_model(model, 'my_model.keras')`. \n"
     ]
    },
    {
     "name": "stdout",
     "output_type": "stream",
     "text": [
      "\u001b[1m22/22\u001b[0m \u001b[32m━━━━━━━━━━━━━━━━━━━━\u001b[0m\u001b[37m\u001b[0m \u001b[1m0s\u001b[0m 5ms/step - accuracy: 0.6753 - loss: 0.8523 - val_accuracy: 0.9440 - val_loss: 0.5203 - learning_rate: 0.0010\n",
      "Epoch 74/1000\n",
      "\u001b[1m 1/22\u001b[0m \u001b[37m━━━━━━━━━━━━━━━━━━━━\u001b[0m \u001b[1m0s\u001b[0m 23ms/step - accuracy: 0.5938 - loss: 0.9351\n",
      "Epoch 74: val_accuracy improved from 0.94397 to 0.94828, saving model to model/neural_network/checkpoints/hand_gesture_model.h5\n"
     ]
    },
    {
     "name": "stderr",
     "output_type": "stream",
     "text": [
      "WARNING:absl:You are saving your model as an HDF5 file via `model.save()` or `keras.saving.save_model(model)`. This file format is considered legacy. We recommend using instead the native Keras format, e.g. `model.save('my_model.keras')` or `keras.saving.save_model(model, 'my_model.keras')`. \n"
     ]
    },
    {
     "name": "stdout",
     "output_type": "stream",
     "text": [
      "\u001b[1m22/22\u001b[0m \u001b[32m━━━━━━━━━━━━━━━━━━━━\u001b[0m\u001b[37m\u001b[0m \u001b[1m0s\u001b[0m 4ms/step - accuracy: 0.6479 - loss: 0.8686 - val_accuracy: 0.9483 - val_loss: 0.5286 - learning_rate: 0.0010\n",
      "Epoch 75/1000\n",
      "\u001b[1m 1/22\u001b[0m \u001b[37m━━━━━━━━━━━━━━━━━━━━\u001b[0m \u001b[1m0s\u001b[0m 25ms/step - accuracy: 0.7188 - loss: 0.5946\n",
      "Epoch 75: val_accuracy did not improve from 0.94828\n",
      "\u001b[1m22/22\u001b[0m \u001b[32m━━━━━━━━━━━━━━━━━━━━\u001b[0m\u001b[37m\u001b[0m \u001b[1m0s\u001b[0m 4ms/step - accuracy: 0.6753 - loss: 0.8369 - val_accuracy: 0.9310 - val_loss: 0.5006 - learning_rate: 0.0010\n",
      "Epoch 76/1000\n",
      "\u001b[1m 1/22\u001b[0m \u001b[37m━━━━━━━━━━━━━━━━━━━━\u001b[0m \u001b[1m0s\u001b[0m 24ms/step - accuracy: 0.7812 - loss: 0.6516\n",
      "Epoch 76: val_accuracy improved from 0.94828 to 0.95259, saving model to model/neural_network/checkpoints/hand_gesture_model.h5\n"
     ]
    },
    {
     "name": "stderr",
     "output_type": "stream",
     "text": [
      "WARNING:absl:You are saving your model as an HDF5 file via `model.save()` or `keras.saving.save_model(model)`. This file format is considered legacy. We recommend using instead the native Keras format, e.g. `model.save('my_model.keras')` or `keras.saving.save_model(model, 'my_model.keras')`. \n"
     ]
    },
    {
     "name": "stdout",
     "output_type": "stream",
     "text": [
      "\u001b[1m22/22\u001b[0m \u001b[32m━━━━━━━━━━━━━━━━━━━━\u001b[0m\u001b[37m\u001b[0m \u001b[1m0s\u001b[0m 5ms/step - accuracy: 0.6306 - loss: 0.8668 - val_accuracy: 0.9526 - val_loss: 0.4868 - learning_rate: 0.0010\n",
      "Epoch 77/1000\n",
      "\u001b[1m 1/22\u001b[0m \u001b[37m━━━━━━━━━━━━━━━━━━━━\u001b[0m \u001b[1m0s\u001b[0m 25ms/step - accuracy: 0.6562 - loss: 0.8698\n",
      "Epoch 77: val_accuracy did not improve from 0.95259\n",
      "\n",
      "Epoch 77: ReduceLROnPlateau reducing learning rate to 0.0005000000237487257.\n",
      "\u001b[1m22/22\u001b[0m \u001b[32m━━━━━━━━━━━━━━━━━━━━\u001b[0m\u001b[37m\u001b[0m \u001b[1m0s\u001b[0m 4ms/step - accuracy: 0.6407 - loss: 0.8664 - val_accuracy: 0.9397 - val_loss: 0.5268 - learning_rate: 0.0010\n",
      "Epoch 78/1000\n",
      "\u001b[1m 1/22\u001b[0m \u001b[37m━━━━━━━━━━━━━━━━━━━━\u001b[0m \u001b[1m0s\u001b[0m 27ms/step - accuracy: 0.7500 - loss: 0.8030\n",
      "Epoch 78: val_accuracy did not improve from 0.95259\n",
      "\u001b[1m22/22\u001b[0m \u001b[32m━━━━━━━━━━━━━━━━━━━━\u001b[0m\u001b[37m\u001b[0m \u001b[1m0s\u001b[0m 4ms/step - accuracy: 0.6364 - loss: 0.8647 - val_accuracy: 0.9310 - val_loss: 0.5218 - learning_rate: 5.0000e-04\n",
      "Epoch 79/1000\n",
      "\u001b[1m 1/22\u001b[0m \u001b[37m━━━━━━━━━━━━━━━━━━━━\u001b[0m \u001b[1m0s\u001b[0m 22ms/step - accuracy: 0.6875 - loss: 0.7668\n",
      "Epoch 79: val_accuracy did not improve from 0.95259\n",
      "\u001b[1m22/22\u001b[0m \u001b[32m━━━━━━━━━━━━━━━━━━━━\u001b[0m\u001b[37m\u001b[0m \u001b[1m0s\u001b[0m 4ms/step - accuracy: 0.6522 - loss: 0.8451 - val_accuracy: 0.9310 - val_loss: 0.5102 - learning_rate: 5.0000e-04\n",
      "Epoch 80/1000\n",
      "\u001b[1m 1/22\u001b[0m \u001b[37m━━━━━━━━━━━━━━━━━━━━\u001b[0m \u001b[1m0s\u001b[0m 23ms/step - accuracy: 0.7500 - loss: 0.7621\n",
      "Epoch 80: val_accuracy did not improve from 0.95259\n",
      "\u001b[1m22/22\u001b[0m \u001b[32m━━━━━━━━━━━━━━━━━━━━\u001b[0m\u001b[37m\u001b[0m \u001b[1m0s\u001b[0m 4ms/step - accuracy: 0.6753 - loss: 0.8251 - val_accuracy: 0.9483 - val_loss: 0.4878 - learning_rate: 5.0000e-04\n",
      "Epoch 81/1000\n",
      "\u001b[1m 1/22\u001b[0m \u001b[37m━━━━━━━━━━━━━━━━━━━━\u001b[0m \u001b[1m0s\u001b[0m 22ms/step - accuracy: 0.7812 - loss: 0.6898\n",
      "Epoch 81: val_accuracy did not improve from 0.95259\n",
      "\u001b[1m22/22\u001b[0m \u001b[32m━━━━━━━━━━━━━━━━━━━━\u001b[0m\u001b[37m\u001b[0m \u001b[1m0s\u001b[0m 4ms/step - accuracy: 0.6450 - loss: 0.8387 - val_accuracy: 0.9526 - val_loss: 0.4841 - learning_rate: 5.0000e-04\n",
      "Epoch 82/1000\n",
      "\u001b[1m 1/22\u001b[0m \u001b[37m━━━━━━━━━━━━━━━━━━━━\u001b[0m \u001b[1m0s\u001b[0m 23ms/step - accuracy: 0.7500 - loss: 0.7295\n",
      "Epoch 82: val_accuracy did not improve from 0.95259\n",
      "\u001b[1m22/22\u001b[0m \u001b[32m━━━━━━━━━━━━━━━━━━━━\u001b[0m\u001b[37m\u001b[0m \u001b[1m0s\u001b[0m 4ms/step - accuracy: 0.6522 - loss: 0.8385 - val_accuracy: 0.9526 - val_loss: 0.4874 - learning_rate: 5.0000e-04\n",
      "Epoch 83/1000\n",
      "\u001b[1m 1/22\u001b[0m \u001b[37m━━━━━━━━━━━━━━━━━━━━\u001b[0m \u001b[1m0s\u001b[0m 21ms/step - accuracy: 0.7812 - loss: 0.6171\n",
      "Epoch 83: val_accuracy improved from 0.95259 to 0.95690, saving model to model/neural_network/checkpoints/hand_gesture_model.h5\n"
     ]
    },
    {
     "name": "stderr",
     "output_type": "stream",
     "text": [
      "WARNING:absl:You are saving your model as an HDF5 file via `model.save()` or `keras.saving.save_model(model)`. This file format is considered legacy. We recommend using instead the native Keras format, e.g. `model.save('my_model.keras')` or `keras.saving.save_model(model, 'my_model.keras')`. \n"
     ]
    },
    {
     "name": "stdout",
     "output_type": "stream",
     "text": [
      "\u001b[1m22/22\u001b[0m \u001b[32m━━━━━━━━━━━━━━━━━━━━\u001b[0m\u001b[37m\u001b[0m \u001b[1m0s\u001b[0m 4ms/step - accuracy: 0.6941 - loss: 0.7967 - val_accuracy: 0.9569 - val_loss: 0.4794 - learning_rate: 5.0000e-04\n",
      "Epoch 84/1000\n",
      "\u001b[1m 1/22\u001b[0m \u001b[37m━━━━━━━━━━━━━━━━━━━━\u001b[0m \u001b[1m0s\u001b[0m 25ms/step - accuracy: 0.7500 - loss: 0.5716\n",
      "Epoch 84: val_accuracy did not improve from 0.95690\n",
      "\u001b[1m22/22\u001b[0m \u001b[32m━━━━━━━━━━━━━━━━━━━━\u001b[0m\u001b[37m\u001b[0m \u001b[1m0s\u001b[0m 4ms/step - accuracy: 0.6450 - loss: 0.8679 - val_accuracy: 0.9526 - val_loss: 0.4774 - learning_rate: 5.0000e-04\n",
      "Epoch 85/1000\n",
      "\u001b[1m 1/22\u001b[0m \u001b[37m━━━━━━━━━━━━━━━━━━━━\u001b[0m \u001b[1m0s\u001b[0m 23ms/step - accuracy: 0.7188 - loss: 0.7169\n",
      "Epoch 85: val_accuracy did not improve from 0.95690\n",
      "\u001b[1m22/22\u001b[0m \u001b[32m━━━━━━━━━━━━━━━━━━━━\u001b[0m\u001b[37m\u001b[0m \u001b[1m0s\u001b[0m 4ms/step - accuracy: 0.6595 - loss: 0.8339 - val_accuracy: 0.9483 - val_loss: 0.4878 - learning_rate: 5.0000e-04\n",
      "Epoch 86/1000\n",
      "\u001b[1m 1/22\u001b[0m \u001b[37m━━━━━━━━━━━━━━━━━━━━\u001b[0m \u001b[1m0s\u001b[0m 24ms/step - accuracy: 0.6562 - loss: 0.7810\n",
      "Epoch 86: val_accuracy did not improve from 0.95690\n",
      "\u001b[1m22/22\u001b[0m \u001b[32m━━━━━━━━━━━━━━━━━━━━\u001b[0m\u001b[37m\u001b[0m \u001b[1m0s\u001b[0m 4ms/step - accuracy: 0.6580 - loss: 0.8221 - val_accuracy: 0.9483 - val_loss: 0.4958 - learning_rate: 5.0000e-04\n",
      "Epoch 87/1000\n",
      "\u001b[1m 1/22\u001b[0m \u001b[37m━━━━━━━━━━━━━━━━━━━━\u001b[0m \u001b[1m0s\u001b[0m 22ms/step - accuracy: 0.6562 - loss: 0.7346\n",
      "Epoch 87: val_accuracy did not improve from 0.95690\n",
      "\u001b[1m22/22\u001b[0m \u001b[32m━━━━━━━━━━━━━━━━━━━━\u001b[0m\u001b[37m\u001b[0m \u001b[1m0s\u001b[0m 4ms/step - accuracy: 0.6638 - loss: 0.8176 - val_accuracy: 0.9526 - val_loss: 0.4630 - learning_rate: 5.0000e-04\n",
      "Epoch 88/1000\n",
      "\u001b[1m 1/22\u001b[0m \u001b[37m━━━━━━━━━━━━━━━━━━━━\u001b[0m \u001b[1m0s\u001b[0m 23ms/step - accuracy: 0.8438 - loss: 0.5899\n",
      "Epoch 88: val_accuracy did not improve from 0.95690\n",
      "\u001b[1m22/22\u001b[0m \u001b[32m━━━━━━━━━━━━━━━━━━━━\u001b[0m\u001b[37m\u001b[0m \u001b[1m0s\u001b[0m 4ms/step - accuracy: 0.6883 - loss: 0.8113 - val_accuracy: 0.9569 - val_loss: 0.4644 - learning_rate: 5.0000e-04\n",
      "Epoch 89/1000\n",
      "\u001b[1m 1/22\u001b[0m \u001b[37m━━━━━━━━━━━━━━━━━━━━\u001b[0m \u001b[1m0s\u001b[0m 22ms/step - accuracy: 0.7812 - loss: 0.7064\n",
      "Epoch 89: val_accuracy did not improve from 0.95690\n",
      "\u001b[1m22/22\u001b[0m \u001b[32m━━━━━━━━━━━━━━━━━━━━\u001b[0m\u001b[37m\u001b[0m \u001b[1m0s\u001b[0m 4ms/step - accuracy: 0.6667 - loss: 0.8318 - val_accuracy: 0.9569 - val_loss: 0.4614 - learning_rate: 5.0000e-04\n",
      "Epoch 90/1000\n",
      "\u001b[1m 1/22\u001b[0m \u001b[37m━━━━━━━━━━━━━━━━━━━━\u001b[0m \u001b[1m0s\u001b[0m 22ms/step - accuracy: 0.7500 - loss: 0.7839\n",
      "Epoch 90: val_accuracy did not improve from 0.95690\n",
      "\u001b[1m22/22\u001b[0m \u001b[32m━━━━━━━━━━━━━━━━━━━━\u001b[0m\u001b[37m\u001b[0m \u001b[1m0s\u001b[0m 4ms/step - accuracy: 0.6522 - loss: 0.8385 - val_accuracy: 0.9569 - val_loss: 0.4770 - learning_rate: 5.0000e-04\n",
      "Epoch 91/1000\n",
      "\u001b[1m 1/22\u001b[0m \u001b[37m━━━━━━━━━━━━━━━━━━━━\u001b[0m \u001b[1m0s\u001b[0m 24ms/step - accuracy: 0.7188 - loss: 0.7498\n",
      "Epoch 91: val_accuracy did not improve from 0.95690\n",
      "\u001b[1m22/22\u001b[0m \u001b[32m━━━━━━━━━━━━━━━━━━━━\u001b[0m\u001b[37m\u001b[0m \u001b[1m0s\u001b[0m 4ms/step - accuracy: 0.6566 - loss: 0.7971 - val_accuracy: 0.9569 - val_loss: 0.4648 - learning_rate: 5.0000e-04\n",
      "Epoch 92/1000\n",
      "\u001b[1m 1/22\u001b[0m \u001b[37m━━━━━━━━━━━━━━━━━━━━\u001b[0m \u001b[1m0s\u001b[0m 25ms/step - accuracy: 0.7188 - loss: 0.6752\n",
      "Epoch 92: val_accuracy did not improve from 0.95690\n",
      "\u001b[1m22/22\u001b[0m \u001b[32m━━━━━━━━━━━━━━━━━━━━\u001b[0m\u001b[37m\u001b[0m \u001b[1m0s\u001b[0m 4ms/step - accuracy: 0.6320 - loss: 0.8301 - val_accuracy: 0.9526 - val_loss: 0.4689 - learning_rate: 5.0000e-04\n",
      "Epoch 93/1000\n",
      "\u001b[1m 1/22\u001b[0m \u001b[37m━━━━━━━━━━━━━━━━━━━━\u001b[0m \u001b[1m0s\u001b[0m 22ms/step - accuracy: 0.5938 - loss: 0.7295\n",
      "Epoch 93: val_accuracy did not improve from 0.95690\n",
      "\u001b[1m22/22\u001b[0m \u001b[32m━━━━━━━━━━━━━━━━━━━━\u001b[0m\u001b[37m\u001b[0m \u001b[1m0s\u001b[0m 4ms/step - accuracy: 0.6479 - loss: 0.8406 - val_accuracy: 0.9569 - val_loss: 0.4656 - learning_rate: 5.0000e-04\n",
      "Epoch 94/1000\n",
      "\u001b[1m 1/22\u001b[0m \u001b[37m━━━━━━━━━━━━━━━━━━━━\u001b[0m \u001b[1m0s\u001b[0m 23ms/step - accuracy: 0.7500 - loss: 0.7274\n",
      "Epoch 94: val_accuracy did not improve from 0.95690\n",
      "\u001b[1m22/22\u001b[0m \u001b[32m━━━━━━━━━━━━━━━━━━━━\u001b[0m\u001b[37m\u001b[0m \u001b[1m0s\u001b[0m 4ms/step - accuracy: 0.6797 - loss: 0.8142 - val_accuracy: 0.9569 - val_loss: 0.4755 - learning_rate: 5.0000e-04\n",
      "Epoch 95/1000\n",
      "\u001b[1m 1/22\u001b[0m \u001b[37m━━━━━━━━━━━━━━━━━━━━\u001b[0m \u001b[1m0s\u001b[0m 23ms/step - accuracy: 0.8438 - loss: 0.4889\n",
      "Epoch 95: val_accuracy did not improve from 0.95690\n",
      "\u001b[1m22/22\u001b[0m \u001b[32m━━━━━━━━━━━━━━━━━━━━\u001b[0m\u001b[37m\u001b[0m \u001b[1m0s\u001b[0m 4ms/step - accuracy: 0.6926 - loss: 0.7996 - val_accuracy: 0.9569 - val_loss: 0.4644 - learning_rate: 5.0000e-04\n",
      "Epoch 96/1000\n",
      "\u001b[1m 1/22\u001b[0m \u001b[37m━━━━━━━━━━━━━━━━━━━━\u001b[0m \u001b[1m0s\u001b[0m 23ms/step - accuracy: 0.8438 - loss: 0.6092\n",
      "Epoch 96: val_accuracy did not improve from 0.95690\n",
      "\u001b[1m22/22\u001b[0m \u001b[32m━━━━━━━━━━━━━━━━━━━━\u001b[0m\u001b[37m\u001b[0m \u001b[1m0s\u001b[0m 5ms/step - accuracy: 0.6710 - loss: 0.8279 - val_accuracy: 0.9569 - val_loss: 0.4587 - learning_rate: 5.0000e-04\n",
      "Epoch 97/1000\n",
      "\u001b[1m 1/22\u001b[0m \u001b[37m━━━━━━━━━━━━━━━━━━━━\u001b[0m \u001b[1m0s\u001b[0m 22ms/step - accuracy: 0.8125 - loss: 0.5921\n",
      "Epoch 97: val_accuracy did not improve from 0.95690\n",
      "\u001b[1m22/22\u001b[0m \u001b[32m━━━━━━━━━━━━━━━━━━━━\u001b[0m\u001b[37m\u001b[0m \u001b[1m0s\u001b[0m 4ms/step - accuracy: 0.6782 - loss: 0.8003 - val_accuracy: 0.9569 - val_loss: 0.4467 - learning_rate: 5.0000e-04\n",
      "Epoch 98/1000\n",
      "\u001b[1m 1/22\u001b[0m \u001b[37m━━━━━━━━━━━━━━━━━━━━\u001b[0m \u001b[1m0s\u001b[0m 22ms/step - accuracy: 0.7188 - loss: 0.6738\n",
      "Epoch 98: val_accuracy improved from 0.95690 to 0.96121, saving model to model/neural_network/checkpoints/hand_gesture_model.h5\n"
     ]
    },
    {
     "name": "stderr",
     "output_type": "stream",
     "text": [
      "WARNING:absl:You are saving your model as an HDF5 file via `model.save()` or `keras.saving.save_model(model)`. This file format is considered legacy. We recommend using instead the native Keras format, e.g. `model.save('my_model.keras')` or `keras.saving.save_model(model, 'my_model.keras')`. \n"
     ]
    },
    {
     "name": "stdout",
     "output_type": "stream",
     "text": [
      "\u001b[1m22/22\u001b[0m \u001b[32m━━━━━━━━━━━━━━━━━━━━\u001b[0m\u001b[37m\u001b[0m \u001b[1m0s\u001b[0m 5ms/step - accuracy: 0.6955 - loss: 0.7737 - val_accuracy: 0.9612 - val_loss: 0.4559 - learning_rate: 5.0000e-04\n",
      "Epoch 99/1000\n",
      "\u001b[1m 1/22\u001b[0m \u001b[37m━━━━━━━━━━━━━━━━━━━━\u001b[0m \u001b[1m0s\u001b[0m 25ms/step - accuracy: 0.7812 - loss: 0.6313\n",
      "Epoch 99: val_accuracy did not improve from 0.96121\n",
      "\u001b[1m22/22\u001b[0m \u001b[32m━━━━━━━━━━━━━━━━━━━━\u001b[0m\u001b[37m\u001b[0m \u001b[1m0s\u001b[0m 4ms/step - accuracy: 0.6739 - loss: 0.8016 - val_accuracy: 0.9569 - val_loss: 0.4560 - learning_rate: 5.0000e-04\n",
      "Epoch 100/1000\n",
      "\u001b[1m 1/22\u001b[0m \u001b[37m━━━━━━━━━━━━━━━━━━━━\u001b[0m \u001b[1m0s\u001b[0m 22ms/step - accuracy: 0.7500 - loss: 0.6833\n",
      "Epoch 100: val_accuracy did not improve from 0.96121\n",
      "\u001b[1m22/22\u001b[0m \u001b[32m━━━━━━━━━━━━━━━━━━━━\u001b[0m\u001b[37m\u001b[0m \u001b[1m0s\u001b[0m 4ms/step - accuracy: 0.6984 - loss: 0.7973 - val_accuracy: 0.9526 - val_loss: 0.4451 - learning_rate: 5.0000e-04\n",
      "Epoch 101/1000\n",
      "\u001b[1m 1/22\u001b[0m \u001b[37m━━━━━━━━━━━━━━━━━━━━\u001b[0m \u001b[1m0s\u001b[0m 24ms/step - accuracy: 0.8125 - loss: 0.6300\n",
      "Epoch 101: val_accuracy improved from 0.96121 to 0.96552, saving model to model/neural_network/checkpoints/hand_gesture_model.h5\n"
     ]
    },
    {
     "name": "stderr",
     "output_type": "stream",
     "text": [
      "WARNING:absl:You are saving your model as an HDF5 file via `model.save()` or `keras.saving.save_model(model)`. This file format is considered legacy. We recommend using instead the native Keras format, e.g. `model.save('my_model.keras')` or `keras.saving.save_model(model, 'my_model.keras')`. \n"
     ]
    },
    {
     "name": "stdout",
     "output_type": "stream",
     "text": [
      "\u001b[1m22/22\u001b[0m \u001b[32m━━━━━━━━━━━━━━━━━━━━\u001b[0m\u001b[37m\u001b[0m \u001b[1m0s\u001b[0m 5ms/step - accuracy: 0.6652 - loss: 0.8182 - val_accuracy: 0.9655 - val_loss: 0.4447 - learning_rate: 5.0000e-04\n",
      "Epoch 102/1000\n",
      "\u001b[1m 1/22\u001b[0m \u001b[37m━━━━━━━━━━━━━━━━━━━━\u001b[0m \u001b[1m0s\u001b[0m 23ms/step - accuracy: 0.8438 - loss: 0.6115\n",
      "Epoch 102: val_accuracy did not improve from 0.96552\n",
      "\u001b[1m22/22\u001b[0m \u001b[32m━━━━━━━━━━━━━━━━━━━━\u001b[0m\u001b[37m\u001b[0m \u001b[1m0s\u001b[0m 4ms/step - accuracy: 0.6652 - loss: 0.8175 - val_accuracy: 0.9526 - val_loss: 0.4495 - learning_rate: 5.0000e-04\n",
      "Epoch 103/1000\n",
      "\u001b[1m 1/22\u001b[0m \u001b[37m━━━━━━━━━━━━━━━━━━━━\u001b[0m \u001b[1m0s\u001b[0m 22ms/step - accuracy: 0.8438 - loss: 0.6477\n",
      "Epoch 103: val_accuracy did not improve from 0.96552\n",
      "\u001b[1m22/22\u001b[0m \u001b[32m━━━━━━━━━━━━━━━━━━━━\u001b[0m\u001b[37m\u001b[0m \u001b[1m0s\u001b[0m 4ms/step - accuracy: 0.6883 - loss: 0.7851 - val_accuracy: 0.9569 - val_loss: 0.4416 - learning_rate: 5.0000e-04\n",
      "Epoch 104/1000\n",
      "\u001b[1m 1/22\u001b[0m \u001b[37m━━━━━━━━━━━━━━━━━━━━\u001b[0m \u001b[1m0s\u001b[0m 23ms/step - accuracy: 0.8125 - loss: 0.5368\n",
      "Epoch 104: val_accuracy did not improve from 0.96552\n",
      "\u001b[1m22/22\u001b[0m \u001b[32m━━━━━━━━━━━━━━━━━━━━\u001b[0m\u001b[37m\u001b[0m \u001b[1m0s\u001b[0m 4ms/step - accuracy: 0.6782 - loss: 0.8307 - val_accuracy: 0.9569 - val_loss: 0.4511 - learning_rate: 5.0000e-04\n",
      "Epoch 105/1000\n",
      "\u001b[1m 1/22\u001b[0m \u001b[37m━━━━━━━━━━━━━━━━━━━━\u001b[0m \u001b[1m0s\u001b[0m 21ms/step - accuracy: 0.8438 - loss: 0.6568\n",
      "Epoch 105: val_accuracy did not improve from 0.96552\n",
      "\u001b[1m22/22\u001b[0m \u001b[32m━━━━━━━━━━━━━━━━━━━━\u001b[0m\u001b[37m\u001b[0m \u001b[1m0s\u001b[0m 4ms/step - accuracy: 0.6537 - loss: 0.8362 - val_accuracy: 0.9569 - val_loss: 0.4610 - learning_rate: 5.0000e-04\n",
      "Epoch 106/1000\n",
      "\u001b[1m 1/22\u001b[0m \u001b[37m━━━━━━━━━━━━━━━━━━━━\u001b[0m \u001b[1m0s\u001b[0m 21ms/step - accuracy: 0.6875 - loss: 0.7602\n",
      "Epoch 106: val_accuracy did not improve from 0.96552\n",
      "\u001b[1m22/22\u001b[0m \u001b[32m━━━━━━━━━━━━━━━━━━━━\u001b[0m\u001b[37m\u001b[0m \u001b[1m0s\u001b[0m 4ms/step - accuracy: 0.6739 - loss: 0.8099 - val_accuracy: 0.9612 - val_loss: 0.4585 - learning_rate: 5.0000e-04\n",
      "Epoch 107/1000\n",
      "\u001b[1m 1/22\u001b[0m \u001b[37m━━━━━━━━━━━━━━━━━━━━\u001b[0m \u001b[1m0s\u001b[0m 23ms/step - accuracy: 0.7188 - loss: 0.7462\n",
      "Epoch 107: val_accuracy did not improve from 0.96552\n",
      "\u001b[1m22/22\u001b[0m \u001b[32m━━━━━━━━━━━━━━━━━━━━\u001b[0m\u001b[37m\u001b[0m \u001b[1m0s\u001b[0m 4ms/step - accuracy: 0.6724 - loss: 0.7892 - val_accuracy: 0.9569 - val_loss: 0.4437 - learning_rate: 5.0000e-04\n",
      "Epoch 108/1000\n",
      "\u001b[1m 1/22\u001b[0m \u001b[37m━━━━━━━━━━━━━━━━━━━━\u001b[0m \u001b[1m0s\u001b[0m 23ms/step - accuracy: 0.7812 - loss: 0.6248\n",
      "Epoch 108: val_accuracy did not improve from 0.96552\n",
      "\u001b[1m22/22\u001b[0m \u001b[32m━━━━━━━━━━━━━━━━━━━━\u001b[0m\u001b[37m\u001b[0m \u001b[1m0s\u001b[0m 4ms/step - accuracy: 0.6623 - loss: 0.8068 - val_accuracy: 0.9612 - val_loss: 0.4426 - learning_rate: 5.0000e-04\n",
      "Epoch 109/1000\n",
      "\u001b[1m 1/22\u001b[0m \u001b[37m━━━━━━━━━━━━━━━━━━━━\u001b[0m \u001b[1m0s\u001b[0m 22ms/step - accuracy: 0.7500 - loss: 0.7487\n",
      "Epoch 109: val_accuracy did not improve from 0.96552\n",
      "\u001b[1m22/22\u001b[0m \u001b[32m━━━━━━━━━━━━━━━━━━━━\u001b[0m\u001b[37m\u001b[0m \u001b[1m0s\u001b[0m 4ms/step - accuracy: 0.6955 - loss: 0.8057 - val_accuracy: 0.9612 - val_loss: 0.4329 - learning_rate: 5.0000e-04\n",
      "Epoch 110/1000\n",
      "\u001b[1m 1/22\u001b[0m \u001b[37m━━━━━━━━━━━━━━━━━━━━\u001b[0m \u001b[1m0s\u001b[0m 23ms/step - accuracy: 0.6875 - loss: 0.7686\n",
      "Epoch 110: val_accuracy did not improve from 0.96552\n",
      "\u001b[1m22/22\u001b[0m \u001b[32m━━━━━━━━━━━━━━━━━━━━\u001b[0m\u001b[37m\u001b[0m \u001b[1m0s\u001b[0m 4ms/step - accuracy: 0.6724 - loss: 0.8070 - val_accuracy: 0.9569 - val_loss: 0.4400 - learning_rate: 5.0000e-04\n",
      "Epoch 111/1000\n",
      "\u001b[1m 1/22\u001b[0m \u001b[37m━━━━━━━━━━━━━━━━━━━━\u001b[0m \u001b[1m0s\u001b[0m 23ms/step - accuracy: 0.6250 - loss: 0.8214\n",
      "Epoch 111: val_accuracy did not improve from 0.96552\n",
      "\u001b[1m22/22\u001b[0m \u001b[32m━━━━━━━━━━━━━━━━━━━━\u001b[0m\u001b[37m\u001b[0m \u001b[1m0s\u001b[0m 4ms/step - accuracy: 0.6941 - loss: 0.7561 - val_accuracy: 0.9612 - val_loss: 0.4447 - learning_rate: 5.0000e-04\n",
      "Epoch 112/1000\n",
      "\u001b[1m 1/22\u001b[0m \u001b[37m━━━━━━━━━━━━━━━━━━━━\u001b[0m \u001b[1m0s\u001b[0m 22ms/step - accuracy: 0.8750 - loss: 0.5501\n",
      "Epoch 112: val_accuracy did not improve from 0.96552\n",
      "\u001b[1m22/22\u001b[0m \u001b[32m━━━━━━━━━━━━━━━━━━━━\u001b[0m\u001b[37m\u001b[0m \u001b[1m0s\u001b[0m 4ms/step - accuracy: 0.6912 - loss: 0.8245 - val_accuracy: 0.9612 - val_loss: 0.4363 - learning_rate: 5.0000e-04\n",
      "Epoch 113/1000\n",
      "\u001b[1m 1/22\u001b[0m \u001b[37m━━━━━━━━━━━━━━━━━━━━\u001b[0m \u001b[1m0s\u001b[0m 22ms/step - accuracy: 0.6562 - loss: 0.7219\n",
      "Epoch 113: val_accuracy did not improve from 0.96552\n",
      "\u001b[1m22/22\u001b[0m \u001b[32m━━━━━━━━━━━━━━━━━━━━\u001b[0m\u001b[37m\u001b[0m \u001b[1m0s\u001b[0m 4ms/step - accuracy: 0.6378 - loss: 0.8441 - val_accuracy: 0.9526 - val_loss: 0.4525 - learning_rate: 5.0000e-04\n",
      "Epoch 114/1000\n",
      "\u001b[1m 1/22\u001b[0m \u001b[37m━━━━━━━━━━━━━━━━━━━━\u001b[0m \u001b[1m0s\u001b[0m 22ms/step - accuracy: 0.8438 - loss: 0.6008\n",
      "Epoch 114: val_accuracy did not improve from 0.96552\n",
      "\u001b[1m22/22\u001b[0m \u001b[32m━━━━━━━━━━━━━━━━━━━━\u001b[0m\u001b[37m\u001b[0m \u001b[1m0s\u001b[0m 4ms/step - accuracy: 0.6580 - loss: 0.8033 - val_accuracy: 0.9526 - val_loss: 0.4715 - learning_rate: 5.0000e-04\n",
      "Epoch 115/1000\n",
      "\u001b[1m 1/22\u001b[0m \u001b[37m━━━━━━━━━━━━━━━━━━━━\u001b[0m \u001b[1m0s\u001b[0m 21ms/step - accuracy: 0.6250 - loss: 0.6611\n",
      "Epoch 115: val_accuracy did not improve from 0.96552\n",
      "\u001b[1m22/22\u001b[0m \u001b[32m━━━━━━━━━━━━━━━━━━━━\u001b[0m\u001b[37m\u001b[0m \u001b[1m0s\u001b[0m 4ms/step - accuracy: 0.6869 - loss: 0.7829 - val_accuracy: 0.9526 - val_loss: 0.4607 - learning_rate: 5.0000e-04\n",
      "Epoch 116/1000\n",
      "\u001b[1m 1/22\u001b[0m \u001b[37m━━━━━━━━━━━━━━━━━━━━\u001b[0m \u001b[1m0s\u001b[0m 23ms/step - accuracy: 0.7500 - loss: 0.6909\n",
      "Epoch 116: val_accuracy did not improve from 0.96552\n",
      "\u001b[1m22/22\u001b[0m \u001b[32m━━━━━━━━━━━━━━━━━━━━\u001b[0m\u001b[37m\u001b[0m \u001b[1m0s\u001b[0m 4ms/step - accuracy: 0.7085 - loss: 0.7703 - val_accuracy: 0.9569 - val_loss: 0.4361 - learning_rate: 5.0000e-04\n",
      "Epoch 117/1000\n",
      "\u001b[1m 1/22\u001b[0m \u001b[37m━━━━━━━━━━━━━━━━━━━━\u001b[0m \u001b[1m0s\u001b[0m 23ms/step - accuracy: 0.6875 - loss: 0.6220\n",
      "Epoch 117: val_accuracy did not improve from 0.96552\n",
      "\u001b[1m22/22\u001b[0m \u001b[32m━━━━━━━━━━━━━━━━━━━━\u001b[0m\u001b[37m\u001b[0m \u001b[1m0s\u001b[0m 4ms/step - accuracy: 0.6696 - loss: 0.7779 - val_accuracy: 0.9612 - val_loss: 0.4372 - learning_rate: 5.0000e-04\n",
      "Epoch 118/1000\n",
      "\u001b[1m 1/22\u001b[0m \u001b[37m━━━━━━━━━━━━━━━━━━━━\u001b[0m \u001b[1m0s\u001b[0m 24ms/step - accuracy: 0.7188 - loss: 0.6792\n",
      "Epoch 118: val_accuracy did not improve from 0.96552\n",
      "\u001b[1m22/22\u001b[0m \u001b[32m━━━━━━━━━━━━━━━━━━━━\u001b[0m\u001b[37m\u001b[0m \u001b[1m0s\u001b[0m 4ms/step - accuracy: 0.6869 - loss: 0.8065 - val_accuracy: 0.9569 - val_loss: 0.4438 - learning_rate: 5.0000e-04\n",
      "Epoch 119/1000\n",
      "\u001b[1m 1/22\u001b[0m \u001b[37m━━━━━━━━━━━━━━━━━━━━\u001b[0m \u001b[1m0s\u001b[0m 22ms/step - accuracy: 0.7812 - loss: 0.8099\n",
      "Epoch 119: val_accuracy did not improve from 0.96552\n",
      "\n",
      "Epoch 119: ReduceLROnPlateau reducing learning rate to 0.0002500000118743628.\n",
      "\u001b[1m22/22\u001b[0m \u001b[32m━━━━━━━━━━━━━━━━━━━━\u001b[0m\u001b[37m\u001b[0m \u001b[1m0s\u001b[0m 4ms/step - accuracy: 0.6551 - loss: 0.8255 - val_accuracy: 0.9569 - val_loss: 0.4645 - learning_rate: 5.0000e-04\n",
      "Epoch 120/1000\n",
      "\u001b[1m 1/22\u001b[0m \u001b[37m━━━━━━━━━━━━━━━━━━━━\u001b[0m \u001b[1m0s\u001b[0m 22ms/step - accuracy: 0.8438 - loss: 0.5509\n",
      "Epoch 120: val_accuracy did not improve from 0.96552\n",
      "\u001b[1m22/22\u001b[0m \u001b[32m━━━━━━━━━━━━━━━━━━━━\u001b[0m\u001b[37m\u001b[0m \u001b[1m0s\u001b[0m 4ms/step - accuracy: 0.6869 - loss: 0.7798 - val_accuracy: 0.9612 - val_loss: 0.4670 - learning_rate: 2.5000e-04\n",
      "Epoch 121/1000\n",
      "\u001b[1m 1/22\u001b[0m \u001b[37m━━━━━━━━━━━━━━━━━━━━\u001b[0m \u001b[1m0s\u001b[0m 24ms/step - accuracy: 0.6250 - loss: 0.8822\n",
      "Epoch 121: val_accuracy did not improve from 0.96552\n",
      "\u001b[1m22/22\u001b[0m \u001b[32m━━━━━━━━━━━━━━━━━━━━\u001b[0m\u001b[37m\u001b[0m \u001b[1m0s\u001b[0m 4ms/step - accuracy: 0.6768 - loss: 0.7761 - val_accuracy: 0.9569 - val_loss: 0.4626 - learning_rate: 2.5000e-04\n",
      "Epoch 121: early stopping\n",
      "Restoring model weights from the end of the best epoch: 101.\n"
     ]
    },
    {
     "name": "stderr",
     "output_type": "stream",
     "text": [
      "WARNING:absl:You are saving your model as an HDF5 file via `model.save()` or `keras.saving.save_model(model)`. This file format is considered legacy. We recommend using instead the native Keras format, e.g. `model.save('my_model.keras')` or `keras.saving.save_model(model, 'my_model.keras')`. \n"
     ]
    },
    {
     "name": "stdout",
     "output_type": "stream",
     "text": [
      "Model saved to model/neural_network/hand_gesture_model.h5\n"
     ]
    },
    {
     "data": {
      "image/png": "[encoded data removed]",
      "text/plain": [
       "<Figure size 1200x400 with 2 Axes>"
      ]
     },
     "metadata": {},
     "output_type": "display_data"
    },
    {
     "name": "stdout",
     "output_type": "stream",
     "text": [
      "\n",
      "Final Training Results:\n",
      "Training Loss: 0.7761\n",
      "Training Accuracy: 0.6768\n",
      "Validation Loss: 0.4626\n",
      "Validation Accuracy: 0.9569\n"
     ]
    }
   ],
   "source": [
    "# Train the model\n",
    "history = model.fit(\n",
    "    X_train, y_train,\n",
    "    epochs=1000,\n",
    "    batch_size=min(32, len(X_train)),  # Adjust batch size for small datasets\n",
    "    validation_data=(X_test, y_test),\n",
    "    callbacks=callbacks,\n",
    "    verbose=1\n",
    ")\n",
    "\n",
    "# Save final model\n",
    "model.save(model_save_path, include_optimizer=False)\n",
    "print(f\"Model saved to {model_save_path}\")\n",
    "\n",
    "# Plot training history\n",
    "plt.figure(figsize=(12, 4))\n",
    "\n",
    "plt.subplot(1, 2, 1)\n",
    "plt.plot(history.history['loss'], label='Training Loss')\n",
    "plt.plot(history.history['val_loss'], label='Validation Loss')\n",
    "plt.title('Model Loss')\n",
    "plt.xlabel('Epoch')\n",
    "plt.ylabel('Loss')\n",
    "plt.legend()\n",
    "\n",
    "plt.subplot(1, 2, 2)\n",
    "plt.plot(history.history['accuracy'], label='Training Accuracy')\n",
    "plt.plot(history.history['val_accuracy'], label='Validation Accuracy')\n",
    "plt.title('Model Accuracy')\n",
    "plt.xlabel('Epoch')\n",
    "plt.ylabel('Accuracy')\n",
    "plt.legend()\n",
    "\n",
    "plt.tight_layout()\n",
    "plt.savefig('model/neural_network/training_history.png')\n",
    "plt.show()\n",
    "\n",
    "# Print final training results\n",
    "final_train_loss = history.history['loss'][-1]\n",
    "final_train_acc = history.history['accuracy'][-1]\n",
    "final_val_loss = history.history['val_loss'][-1]\n",
    "final_val_acc = history.history['val_accuracy'][-1]\n",
    "\n",
    "print(f\"\\nFinal Training Results:\")\n",
    "print(f\"Training Loss: {final_train_loss:.4f}\")\n",
    "print(f\"Training Accuracy: {final_train_acc:.4f}\")\n",
    "print(f\"Validation Loss: {final_val_loss:.4f}\")\n",
    "print(f\"Validation Accuracy: {final_val_acc:.4f}\")"
   ]
  },
  {
   "cell_type": "markdown",
   "id": "28f7d704",
   "metadata": {},
   "source": [
    "## 8. Model Evaluation"
   ]
  },
  {
   "cell_type": "code",
   "execution_count": 22,
   "id": "8b60d3d0",
   "metadata": {},
   "outputs": [
    {
     "name": "stderr",
     "output_type": "stream",
     "text": [
      "WARNING:absl:Compiled the loaded model, but the compiled metrics have yet to be built. `model.compile_metrics` will be empty until you train or evaluate the model.\n"
     ]
    },
    {
     "name": "stdout",
     "output_type": "stream",
     "text": [
      "Test Loss: 0.4447\n",
      "Test Accuracy: 0.9655\n",
      "\u001b[1m8/8\u001b[0m \u001b[32m━━━━━━━━━━━━━━━━━━━━\u001b[0m\u001b[37m\u001b[0m \u001b[1m0s\u001b[0m 5ms/step \n",
      "\n",
      "Detailed Test Results:\n",
      "Accuracy: 0.9655\n"
     ]
    },
    {
     "data": {
      "image/png": "[encoded data removed]",
      "text/plain": [
       "<Figure size 800x600 with 2 Axes>"
      ]
     },
     "metadata": {},
     "output_type": "display_data"
    },
    {
     "name": "stdout",
     "output_type": "stream",
     "text": [
      "\n",
      "Classification Report:\n",
      "              precision    recall  f1-score   support\n",
      "\n",
      "        fist       0.97      1.00      0.98        61\n",
      "        palm       0.96      0.94      0.95        52\n",
      "       point       0.98      0.97      0.97        60\n",
      "         two       0.95      0.95      0.95        59\n",
      "\n",
      "    accuracy                           0.97       232\n",
      "   macro avg       0.97      0.96      0.96       232\n",
      "weighted avg       0.97      0.97      0.97       232\n",
      "\n",
      "\n",
      "Per-class Results:\n",
      "fist: Precision=0.968, Recall=1.000, F1=0.984, Support=61.0\n",
      "palm: Precision=0.961, Recall=0.942, F1=0.951, Support=52.0\n",
      "point: Precision=0.983, Recall=0.967, F1=0.975, Support=60.0\n",
      "two: Precision=0.949, Recall=0.949, F1=0.949, Support=59.0\n",
      "\n",
      "Sample Predictions:\n",
      "Sample 1: True=two, Predicted=two, Confidence=0.366\n",
      "  Class probabilities:\n",
      "    fist: 0.143\n",
      "    palm: 0.257\n",
      "    point: 0.233\n",
      "    two: 0.366\n",
      "\n",
      "Sample 2: True=palm, Predicted=palm, Confidence=0.701\n",
      "  Class probabilities:\n",
      "    fist: 0.011\n",
      "    palm: 0.701\n",
      "    point: 0.059\n",
      "    two: 0.229\n",
      "\n",
      "Sample 3: True=palm, Predicted=palm, Confidence=0.743\n",
      "  Class probabilities:\n",
      "    fist: 0.012\n",
      "    palm: 0.743\n",
      "    point: 0.056\n",
      "    two: 0.189\n",
      "\n",
      "Sample 4: True=two, Predicted=two, Confidence=0.678\n",
      "  Class probabilities:\n",
      "    fist: 0.021\n",
      "    palm: 0.163\n",
      "    point: 0.137\n",
      "    two: 0.678\n",
      "\n",
      "Sample 5: True=point, Predicted=point, Confidence=0.470\n",
      "  Class probabilities:\n",
      "    fist: 0.420\n",
      "    palm: 0.063\n",
      "    point: 0.470\n",
      "    two: 0.046\n",
      "\n"
     ]
    }
   ],
   "source": [
    "# Load best model for evaluation\n",
    "best_model = tf.keras.models.load_model(checkpoint_path)\n",
    "\n",
    "# Evaluate on test set\n",
    "test_loss, test_accuracy = best_model.evaluate(X_test, y_test, verbose=0)\n",
    "print(f\"Test Loss: {test_loss:.4f}\")\n",
    "print(f\"Test Accuracy: {test_accuracy:.4f}\")\n",
    "\n",
    "# Make predictions\n",
    "y_pred_proba = best_model.predict(X_test)\n",
    "y_pred = np.argmax(y_pred_proba, axis=1)\n",
    "\n",
    "# Calculate metrics\n",
    "accuracy = accuracy_score(y_test, y_pred)\n",
    "print(f\"\\nDetailed Test Results:\")\n",
    "print(f\"Accuracy: {accuracy:.4f}\")\n",
    "\n",
    "# Confusion Matrix\n",
    "def plot_confusion_matrix(y_true, y_pred, classes, title='Confusion Matrix'):\n",
    "    \"\"\"Plot confusion matrix\"\"\"\n",
    "    cm = confusion_matrix(y_true, y_pred)\n",
    "    \n",
    "    plt.figure(figsize=(8, 6))\n",
    "    sns.heatmap(cm, annot=True, fmt='d', cmap='Blues', \n",
    "                xticklabels=classes, yticklabels=classes)\n",
    "    plt.title(title)\n",
    "    plt.xlabel('Predicted')\n",
    "    plt.ylabel('Actual')\n",
    "    plt.tight_layout()\n",
    "    plt.savefig('model/neural_network/confusion_matrix.png')\n",
    "    plt.show()\n",
    "    \n",
    "    return cm\n",
    "\n",
    "# Plot confusion matrix\n",
    "cm = plot_confusion_matrix(y_test, y_pred, label_encoder.classes_)\n",
    "\n",
    "# Classification Report\n",
    "print(\"\\nClassification Report:\")\n",
    "report = classification_report(y_test, y_pred, \n",
    "                             target_names=label_encoder.classes_,\n",
    "                             output_dict=True)\n",
    "print(classification_report(y_test, y_pred, \n",
    "                          target_names=label_encoder.classes_))\n",
    "\n",
    "# Per-class accuracy\n",
    "print(\"\\nPer-class Results:\")\n",
    "for i, class_name in enumerate(label_encoder.classes_):\n",
    "    if class_name in report:\n",
    "        precision = report[class_name]['precision']\n",
    "        recall = report[class_name]['recall']\n",
    "        f1 = report[class_name]['f1-score']\n",
    "        support = report[class_name]['support']\n",
    "        print(f\"{class_name}: Precision={precision:.3f}, Recall={recall:.3f}, F1={f1:.3f}, Support={support}\")\n",
    "\n",
    "# Sample predictions with confidence scores\n",
    "print(\"\\nSample Predictions:\")\n",
    "for i in range(min(5, len(X_test))):\n",
    "    true_label = label_encoder.inverse_transform([y_test[i]])[0]\n",
    "    pred_label = label_encoder.inverse_transform([y_pred[i]])[0]\n",
    "    confidence = np.max(y_pred_proba[i])\n",
    "    \n",
    "    print(f\"Sample {i+1}: True={true_label}, Predicted={pred_label}, Confidence={confidence:.3f}\")\n",
    "    \n",
    "    # Show confidence for all classes\n",
    "    print(\"  Class probabilities:\")\n",
    "    for j, class_name in enumerate(label_encoder.classes_):\n",
    "        prob = y_pred_proba[i][j]\n",
    "        print(f\"    {class_name}: {prob:.3f}\")\n",
    "    print()"
   ]
  },
  {
   "cell_type": "markdown",
   "id": "47488a85",
   "metadata": {},
   "source": [
    "## 9. Model Optimization và TensorFlow Lite Conversion\n",
    "\n",
    "Convert model sang TensorFlow Lite để deploy trên mobile hoặc embedded devices."
   ]
  },
  {
   "cell_type": "code",
   "execution_count": 23,
   "id": "34899714",
   "metadata": {},
   "outputs": [
    {
     "name": "stderr",
     "output_type": "stream",
     "text": [
      "WARNING:absl:You are saving your model as an HDF5 file via `model.save()` or `keras.saving.save_model(model)`. This file format is considered legacy. We recommend using instead the native Keras format, e.g. `model.save('my_model.keras')` or `keras.saving.save_model(model, 'my_model.keras')`. \n"
     ]
    },
    {
     "name": "stdout",
     "output_type": "stream",
     "text": [
      "Converting model to TensorFlow Lite...\n",
      "INFO:tensorflow:Assets written to: C:\\Users\\Dell\\AppData\\Local\\Temp\\tmpnj6rmxa8\\assets\n"
     ]
    },
    {
     "name": "stderr",
     "output_type": "stream",
     "text": [
      "INFO:tensorflow:Assets written to: C:\\Users\\Dell\\AppData\\Local\\Temp\\tmpnj6rmxa8\\assets\n"
     ]
    },
    {
     "name": "stdout",
     "output_type": "stream",
     "text": [
      "Saved artifact at 'C:\\Users\\Dell\\AppData\\Local\\Temp\\tmpnj6rmxa8'. The following endpoints are available:\n",
      "\n",
      "* Endpoint 'serve'\n",
      "  args_0 (POSITIONAL_ONLY): TensorSpec(shape=(None, 42), dtype=tf.float32, name='input_layer_1')\n",
      "Output Type:\n",
      "  TensorSpec(shape=(None, 4), dtype=tf.float32, name=None)\n",
      "Captures:\n",
      "  2785662659728: TensorSpec(shape=(), dtype=tf.resource, name=None)\n",
      "  2785662653584: TensorSpec(shape=(), dtype=tf.resource, name=None)\n",
      "  2785662655120: TensorSpec(shape=(), dtype=tf.resource, name=None)\n",
      "  2785662657424: TensorSpec(shape=(), dtype=tf.resource, name=None)\n",
      "  2785662657040: TensorSpec(shape=(), dtype=tf.resource, name=None)\n",
      "  2785662659536: TensorSpec(shape=(), dtype=tf.resource, name=None)\n",
      "TensorFlow Lite model saved to model/neural_network/hand_gesture_model.tflite\n",
      "\n",
      "Model Size Comparison:\n",
      "Original Keras model: 25.48 KB\n",
      "TensorFlow Lite model: 6.40 KB\n",
      "Size reduction: 74.9%\n",
      "\n",
      "Converting with quantization...\n",
      "INFO:tensorflow:Assets written to: C:\\Users\\Dell\\AppData\\Local\\Temp\\tmphce6vojz\\assets\n"
     ]
    },
    {
     "name": "stderr",
     "output_type": "stream",
     "text": [
      "INFO:tensorflow:Assets written to: C:\\Users\\Dell\\AppData\\Local\\Temp\\tmphce6vojz\\assets\n"
     ]
    },
    {
     "name": "stdout",
     "output_type": "stream",
     "text": [
      "Saved artifact at 'C:\\Users\\Dell\\AppData\\Local\\Temp\\tmphce6vojz'. The following endpoints are available:\n",
      "\n",
      "* Endpoint 'serve'\n",
      "  args_0 (POSITIONAL_ONLY): TensorSpec(shape=(None, 42), dtype=tf.float32, name='input_layer_1')\n",
      "Output Type:\n",
      "  TensorSpec(shape=(None, 4), dtype=tf.float32, name=None)\n",
      "Captures:\n",
      "  2785662659728: TensorSpec(shape=(), dtype=tf.resource, name=None)\n",
      "  2785662653584: TensorSpec(shape=(), dtype=tf.resource, name=None)\n",
      "  2785662655120: TensorSpec(shape=(), dtype=tf.resource, name=None)\n",
      "  2785662657424: TensorSpec(shape=(), dtype=tf.resource, name=None)\n",
      "  2785662657040: TensorSpec(shape=(), dtype=tf.resource, name=None)\n",
      "  2785662659536: TensorSpec(shape=(), dtype=tf.resource, name=None)\n",
      "Quantized TensorFlow Lite model: 4.40 KB\n",
      "Additional size reduction: 31.3%\n"
     ]
    }
   ],
   "source": [
    "# Save model without optimizer for inference\n",
    "inference_model_path = 'model/neural_network/hand_gesture_inference.h5'\n",
    "best_model.save(inference_model_path, include_optimizer=False)\n",
    "\n",
    "# Convert to TensorFlow Lite\n",
    "tflite_model_path = 'model/neural_network/hand_gesture_model.tflite'\n",
    "\n",
    "print(\"Converting model to TensorFlow Lite...\")\n",
    "converter = tf.lite.TFLiteConverter.from_keras_model(best_model)\n",
    "\n",
    "# Apply optimizations\n",
    "converter.optimizations = [tf.lite.Optimize.DEFAULT]\n",
    "\n",
    "# Convert model\n",
    "tflite_model = converter.convert()\n",
    "\n",
    "# Save TFLite model\n",
    "with open(tflite_model_path, 'wb') as f:\n",
    "    f.write(tflite_model)\n",
    "\n",
    "print(f\"TensorFlow Lite model saved to {tflite_model_path}\")\n",
    "\n",
    "# Compare model sizes\n",
    "import os\n",
    "\n",
    "original_size = os.path.getsize(model_save_path)\n",
    "tflite_size = os.path.getsize(tflite_model_path)\n",
    "\n",
    "print(f\"\\nModel Size Comparison:\")\n",
    "print(f\"Original Keras model: {original_size/1024:.2f} KB\")\n",
    "print(f\"TensorFlow Lite model: {tflite_size/1024:.2f} KB\")\n",
    "print(f\"Size reduction: {((original_size - tflite_size) / original_size) * 100:.1f}%\")\n",
    "\n",
    "# Create a representative dataset for quantization (optional)\n",
    "def representative_dataset():\n",
    "    for i in range(min(100, len(X_train))):\n",
    "        yield [X_train[i:i+1].astype(np.float32)]\n",
    "\n",
    "# Convert with quantization\n",
    "print(\"\\nConverting with quantization...\")\n",
    "converter_quantized = tf.lite.TFLiteConverter.from_keras_model(best_model)\n",
    "converter_quantized.optimizations = [tf.lite.Optimize.DEFAULT]\n",
    "converter_quantized.representative_dataset = representative_dataset\n",
    "converter_quantized.target_spec.supported_ops = [tf.lite.OpsSet.TFLITE_BUILTINS_INT8]\n",
    "converter_quantized.inference_input_type = tf.int8\n",
    "converter_quantized.inference_output_type = tf.int8\n",
    "\n",
    "tflite_quantized_model = converter_quantized.convert()\n",
    "\n",
    "# Save quantized model\n",
    "tflite_quantized_path = 'model/neural_network/hand_gesture_model_quantized.tflite'\n",
    "with open(tflite_quantized_path, 'wb') as f:\n",
    "    f.write(tflite_quantized_model)\n",
    "\n",
    "quantized_size = os.path.getsize(tflite_quantized_path)\n",
    "print(f\"Quantized TensorFlow Lite model: {quantized_size/1024:.2f} KB\")\n",
    "print(f\"Additional size reduction: {((tflite_size - quantized_size) / tflite_size) * 100:.1f}%\")"
   ]
  },
  {
   "cell_type": "markdown",
   "id": "237c7064",
   "metadata": {},
   "source": [
    "## 10. Inference Testing\n",
    "\n",
    "Test các model đã convert với sample data để đảm bảo hoạt động chính xác."
   ]
  },
  {
   "cell_type": "code",
   "execution_count": 24,
   "id": "e7e14a2e",
   "metadata": {},
   "outputs": [
    {
     "name": "stdout",
     "output_type": "stream",
     "text": [
      "Testing inference on different model formats...\n",
      "Test sample shape: (1, 42)\n",
      "True label: two\n",
      "\n",
      "Keras model:\n",
      "  Predicted class: two\n",
      "  Confidence: 0.3664\n",
      "  Raw predictions: [0.14339282 0.25677356 0.2334285  0.36640513]\n",
      "\n",
      "TensorFlow Lite model:\n",
      "  Predicted class: two\n",
      "  Confidence: 0.3664\n",
      "  Raw predictions: [0.14339285 0.25677353 0.2334285  0.36640513]\n",
      "\n",
      "Predictions match: True\n",
      "Max difference: 0.000000\n",
      "\n",
      "Benchmarking inference speed (100 runs):\n",
      "Keras model: 51.62 ± 2.77 ms\n",
      "TensorFlow Lite: 0.17 ± 0.38 ms\n",
      "Speedup: 299.30x\n",
      "\n",
      "Testing all test samples...\n",
      "Keras model accuracy: 0.9655\n",
      "TensorFlow Lite accuracy: 0.9655\n",
      "Accuracy difference: 0.000000\n"
     ]
    }
   ],
   "source": [
    "# Test TensorFlow Lite model\n",
    "def test_tflite_model(model_path, test_sample):\n",
    "    \"\"\"Test TensorFlow Lite model inference\"\"\"\n",
    "    interpreter = tf.lite.Interpreter(model_path=model_path)\n",
    "    interpreter.allocate_tensors()\n",
    "    \n",
    "    # Get input and output tensors\n",
    "    input_details = interpreter.get_input_details()\n",
    "    output_details = interpreter.get_output_details()\n",
    "    \n",
    "    # Set input tensor\n",
    "    interpreter.set_tensor(input_details[0]['index'], test_sample)\n",
    "    \n",
    "    # Run inference\n",
    "    interpreter.invoke()\n",
    "    \n",
    "    # Get output\n",
    "    output_data = interpreter.get_tensor(output_details[0]['index'])\n",
    "    return output_data\n",
    "\n",
    "# Test with first test sample\n",
    "test_sample = X_test[0:1].astype(np.float32)\n",
    "\n",
    "print(\"Testing inference on different model formats...\")\n",
    "print(f\"Test sample shape: {test_sample.shape}\")\n",
    "print(f\"True label: {label_encoder.inverse_transform([y_test[0]])[0]}\")\n",
    "\n",
    "# Original Keras model prediction\n",
    "keras_pred = best_model.predict(test_sample, verbose=0)\n",
    "keras_class = np.argmax(keras_pred)\n",
    "keras_confidence = np.max(keras_pred)\n",
    "\n",
    "print(f\"\\nKeras model:\")\n",
    "print(f\"  Predicted class: {label_encoder.inverse_transform([keras_class])[0]}\")\n",
    "print(f\"  Confidence: {keras_confidence:.4f}\")\n",
    "print(f\"  Raw predictions: {keras_pred[0]}\")\n",
    "\n",
    "# TensorFlow Lite model prediction\n",
    "tflite_pred = test_tflite_model(tflite_model_path, test_sample)\n",
    "tflite_class = np.argmax(tflite_pred)\n",
    "tflite_confidence = np.max(tflite_pred)\n",
    "\n",
    "print(f\"\\nTensorFlow Lite model:\")\n",
    "print(f\"  Predicted class: {label_encoder.inverse_transform([tflite_class])[0]}\")\n",
    "print(f\"  Confidence: {tflite_confidence:.4f}\")\n",
    "print(f\"  Raw predictions: {tflite_pred[0]}\")\n",
    "\n",
    "# Check if predictions match\n",
    "predictions_match = np.allclose(keras_pred, tflite_pred, atol=1e-5)\n",
    "print(f\"\\nPredictions match: {predictions_match}\")\n",
    "print(f\"Max difference: {np.max(np.abs(keras_pred - tflite_pred)):.6f}\")\n",
    "\n",
    "# Benchmark inference speed\n",
    "import time\n",
    "\n",
    "def benchmark_model(model_func, test_data, num_runs=100):\n",
    "    \"\"\"Benchmark model inference speed\"\"\"\n",
    "    times = []\n",
    "    for _ in range(num_runs):\n",
    "        start_time = time.time()\n",
    "        _ = model_func(test_data)\n",
    "        times.append(time.time() - start_time)\n",
    "    \n",
    "    return np.mean(times), np.std(times)\n",
    "\n",
    "# Keras model benchmark\n",
    "def keras_inference(data):\n",
    "    return best_model.predict(data, verbose=0)\n",
    "\n",
    "# TensorFlow Lite model benchmark\n",
    "def tflite_inference(data):\n",
    "    return test_tflite_model(tflite_model_path, data)\n",
    "\n",
    "print(\"\\nBenchmarking inference speed (100 runs):\")\n",
    "\n",
    "keras_time, keras_std = benchmark_model(keras_inference, test_sample)\n",
    "print(f\"Keras model: {keras_time*1000:.2f} ± {keras_std*1000:.2f} ms\")\n",
    "\n",
    "tflite_time, tflite_std = benchmark_model(tflite_inference, test_sample)\n",
    "print(f\"TensorFlow Lite: {tflite_time*1000:.2f} ± {tflite_std*1000:.2f} ms\")\n",
    "\n",
    "speedup = keras_time / tflite_time\n",
    "print(f\"Speedup: {speedup:.2f}x\")\n",
    "\n",
    "# Test all test samples\n",
    "print(\"\\nTesting all test samples...\")\n",
    "correct_keras = 0\n",
    "correct_tflite = 0\n",
    "\n",
    "for i in range(len(X_test)):\n",
    "    sample = X_test[i:i+1].astype(np.float32)\n",
    "    true_label = y_test[i]\n",
    "    \n",
    "    # Keras prediction\n",
    "    keras_pred = best_model.predict(sample, verbose=0)\n",
    "    keras_class = np.argmax(keras_pred)\n",
    "    \n",
    "    # TFLite prediction  \n",
    "    tflite_pred = test_tflite_model(tflite_model_path, sample)\n",
    "    tflite_class = np.argmax(tflite_pred)\n",
    "    \n",
    "    if keras_class == true_label:\n",
    "        correct_keras += 1\n",
    "    if tflite_class == true_label:\n",
    "        correct_tflite += 1\n",
    "\n",
    "keras_accuracy = correct_keras / len(X_test)\n",
    "tflite_accuracy = correct_tflite / len(X_test)\n",
    "\n",
    "print(f\"Keras model accuracy: {keras_accuracy:.4f}\")\n",
    "print(f\"TensorFlow Lite accuracy: {tflite_accuracy:.4f}\")\n",
    "print(f\"Accuracy difference: {abs(keras_accuracy - tflite_accuracy):.6f}\")"
   ]
  }
 ],
 "metadata": {
  "kernelspec": {
   "display_name": ".model-venv",
   "language": "python",
   "name": "python3"
  },
  "language_info": {
   "codemirror_mode": {
    "name": "ipython",
    "version": 3
   },
   "file_extension": ".py",
   "mimetype": "text/x-python",
   "name": "python",
   "nbconvert_exporter": "python",
   "pygments_lexer": "ipython3",
   "version": "3.11.0"
  }
 },
 "nbformat": 4,
 "nbformat_minor": 5
}
